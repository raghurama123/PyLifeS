{
 "cells": [
  {
   "cell_type": "markdown",
   "id": "b66ad316",
   "metadata": {},
   "source": [
    "# Content:\n",
    "\n",
    " 1. [Data types](#datatypes)\n",
    " 2. [String manipulations: Slicing vs. Splitting](#strings)\n",
    "    >[2.1 Slicing](#slice)   \n",
    "    >[2.2 Splitting](#split)   \n",
    " 3. [List](#list)   \n",
    "    >[3.1 Shallow copy vs. deep copy](#copylist)   \n",
    " 4. [Concatenation vs. appending](#concat)\n",
    " 5. [For loop](#forloop)\n",
    " 6. [While loop](#whileloop)\n",
    " 7. [Break vs. continue](#break)\n",
    " 8. [Function](#function)\n",
    " 9. [Modules](#module)\n",
    "    >[9.1 os and sys](#os-and-sys)      \n",
    "    >[9.2 Write and import your own module](#ownmodule)     \n",
    "    >[9.3 math](#math)   \n",
    "    >[9.4 cmath](#cmath)   \n",
    "    >[9.5 numpy](#numpy)  \n",
    "        >>[9.5.1 Explore all functionalities of numpy](#numpyfeatures)   \n",
    "        >>[9.5.2 1D array](#1Darray)   \n",
    "        >>[9.5.3 2D array](#2Darray)    \n",
    "        >>[9.5.4 Dot product](#dotproduct)                 \n",
    " 10. [Input/Output](#inputoutput)\n",
    "     >[10.1 Formatted output](#formattedoutput)   \n",
    "     >[10.2 Read/Write](#readwrite)"
   ]
  },
  {
   "cell_type": "markdown",
   "id": "cbda2680",
   "metadata": {},
   "source": [
    "## 1. <a name=\"datatypes\">Data types</a>\n",
    "\n",
    "The elementary types of Python data are listed below. Later, we will learn that a collection of some these, for example an array of integer is also a data type in Python. We can think of such data types as derived data types as you must have done for fundamental units and derived units in physics.\n",
    "- integer\n",
    "- float\n",
    "- complex\n",
    "- string"
   ]
  },
  {
   "cell_type": "code",
   "execution_count": 1,
   "id": "beb89141",
   "metadata": {},
   "outputs": [
    {
     "name": "stdout",
     "output_type": "stream",
     "text": [
      "<class 'int'> <class 'float'> <class 'complex'> <class 'str'>\n"
     ]
    }
   ],
   "source": [
    "a=1\n",
    "type1=type(a)\n",
    "\n",
    "a=1.0\n",
    "type2=type(a)\n",
    "\n",
    "a=complex(1,0) \n",
    "# Note: For the complex number, you have to specify real and imaginary parts inside a parenthesis.\n",
    "type3=type(a)\n",
    "\n",
    "a='ONE is 1'  \n",
    "#Note: a string is specified inside single quotes.\n",
    "type4=type(a) \n",
    "\n",
    "print(type1,type2, type3, type4)"
   ]
  },
  {
   "cell_type": "markdown",
   "id": "0907d389",
   "metadata": {},
   "source": [
    "## 2. <a name=\"strings\">String manipulations: Slicing vs. Splitting</a>\n",
    "\n",
    "Learning how to manipulate strings is very useful. Think of a situation when your Ph.D. advisor will ask you to download a file with a lot of texts and asks you to count how many times some string like 'compound' occurs in it and asks you find out how many unique compounds are mentioned in that file. "
   ]
  },
  {
   "cell_type": "code",
   "execution_count": 2,
   "id": "2e588cb5",
   "metadata": {},
   "outputs": [],
   "source": [
    "mystr='May the force be with you!'"
   ]
  },
  {
   "cell_type": "markdown",
   "id": "cfb1866e",
   "metadata": {},
   "source": [
    "### 2.1 <a name=\"slice\">Slicing</a>"
   ]
  },
  {
   "cell_type": "code",
   "execution_count": 3,
   "id": "e310829d",
   "metadata": {},
   "outputs": [
    {
     "data": {
      "text/plain": [
       "'M'"
      ]
     },
     "execution_count": 3,
     "metadata": {},
     "output_type": "execute_result"
    }
   ],
   "source": [
    "mystr[0]   # The count begins with 0 in Python"
   ]
  },
  {
   "cell_type": "code",
   "execution_count": 4,
   "id": "17e6dd47",
   "metadata": {},
   "outputs": [
    {
     "data": {
      "text/plain": [
       "'M'"
      ]
     },
     "execution_count": 4,
     "metadata": {},
     "output_type": "execute_result"
    }
   ],
   "source": [
    "mystr[0:1]  # lowest index : upper index means from lowest index until one less than the upper index"
   ]
  },
  {
   "cell_type": "code",
   "execution_count": 5,
   "id": "648afd0b",
   "metadata": {},
   "outputs": [
    {
     "data": {
      "text/plain": [
       "'May t'"
      ]
     },
     "execution_count": 5,
     "metadata": {},
     "output_type": "execute_result"
    }
   ],
   "source": [
    "mystr[0:5]"
   ]
  },
  {
   "cell_type": "markdown",
   "id": "9dd019f5",
   "metadata": {},
   "source": [
    "### 2.2 <a name=\"split\">Splitting</a>"
   ]
  },
  {
   "cell_type": "code",
   "execution_count": 6,
   "id": "4d6b24f7",
   "metadata": {},
   "outputs": [
    {
     "data": {
      "text/plain": [
       "['1', '2', '3', '4']"
      ]
     },
     "execution_count": 6,
     "metadata": {},
     "output_type": "execute_result"
    }
   ],
   "source": [
    "mystr='1,2,3,4'\n",
    "mystr.split(',')  # output is a list"
   ]
  },
  {
   "cell_type": "code",
   "execution_count": 7,
   "id": "06c43baf",
   "metadata": {},
   "outputs": [
    {
     "data": {
      "text/plain": [
       "['1', '2']"
      ]
     },
     "execution_count": 7,
     "metadata": {},
     "output_type": "execute_result"
    }
   ],
   "source": [
    "mystr.split(',')[0:2] # first two entries of the list"
   ]
  },
  {
   "cell_type": "code",
   "execution_count": 8,
   "id": "d450a0ea",
   "metadata": {},
   "outputs": [
    {
     "name": "stdout",
     "output_type": "stream",
     "text": [
      "['', '', 'TCCGCT', 'CGCTG', '', 'TCCG', 'CT', 'C', '']\n"
     ]
    }
   ],
   "source": [
    "seq='AATCCGCTACGCTGAATCCGACTACA'\n",
    "sub_seqs=seq.split('A')     # Here 'A' is the marker or delimiter\n",
    "print(sub_seqs)             # Split between successive adenines"
   ]
  },
  {
   "cell_type": "code",
   "execution_count": 9,
   "id": "fd603a38",
   "metadata": {},
   "outputs": [
    {
     "data": {
      "text/plain": [
       "list"
      ]
     },
     "execution_count": 9,
     "metadata": {},
     "output_type": "execute_result"
    }
   ],
   "source": [
    "type(sub_seqs)"
   ]
  },
  {
   "cell_type": "code",
   "execution_count": 10,
   "id": "6b410d05",
   "metadata": {},
   "outputs": [
    {
     "name": "stdout",
     "output_type": "stream",
     "text": [
      "9\n"
     ]
    }
   ],
   "source": [
    "N=len(sub_seqs)\n",
    "print(N)"
   ]
  },
  {
   "cell_type": "code",
   "execution_count": 11,
   "id": "b716a323",
   "metadata": {},
   "outputs": [
    {
     "name": "stdout",
     "output_type": "stream",
     "text": [
      "0 \n",
      "1 \n",
      "2 TCCGCT\n",
      "3 CGCTG\n",
      "4 \n",
      "5 TCCG\n",
      "6 CT\n",
      "7 C\n",
      "8 \n"
     ]
    }
   ],
   "source": [
    "for i in range(0,N):\n",
    "    print(i,sub_seqs[i])    # NOTE: 4 empty spaces for intendation"
   ]
  },
  {
   "cell_type": "code",
   "execution_count": 12,
   "id": "c6d9ac3f",
   "metadata": {},
   "outputs": [
    {
     "data": {
      "text/plain": [
       "'TCCGCT'"
      ]
     },
     "execution_count": 12,
     "metadata": {},
     "output_type": "execute_result"
    }
   ],
   "source": [
    "#combine\n",
    "sub_seqs[0]+sub_seqs[1]+sub_seqs[2]  # '+'' is for concatenation or combining"
   ]
  },
  {
   "cell_type": "markdown",
   "id": "5e545df2",
   "metadata": {},
   "source": [
    "## 3. <a name=\"list\">List</a>\n",
    "\n",
    "We have seen in one of the statements above that splitting a string returns a list. A list is useful object to collect  data."
   ]
  },
  {
   "cell_type": "code",
   "execution_count": 13,
   "id": "4d7654ff",
   "metadata": {},
   "outputs": [
    {
     "data": {
      "text/plain": [
       "list"
      ]
     },
     "execution_count": 13,
     "metadata": {},
     "output_type": "execute_result"
    }
   ],
   "source": [
    "seq='AATCCGCTACGCTGAATCCGACTACA'\n",
    "\n",
    "sub_seqs=seq.split('A')\n",
    "\n",
    "type(sub_seqs)"
   ]
  },
  {
   "cell_type": "code",
   "execution_count": 14,
   "id": "8db22fe8",
   "metadata": {},
   "outputs": [
    {
     "data": {
      "text/plain": [
       "list"
      ]
     },
     "execution_count": 14,
     "metadata": {},
     "output_type": "execute_result"
    }
   ],
   "source": [
    "list_A=[1,2,3]  # make a list of integers\n",
    "\n",
    "type(list_A)"
   ]
  },
  {
   "cell_type": "code",
   "execution_count": 15,
   "id": "56394e1f",
   "metadata": {},
   "outputs": [
    {
     "data": {
      "text/plain": [
       "list"
      ]
     },
     "execution_count": 15,
     "metadata": {},
     "output_type": "execute_result"
    }
   ],
   "source": [
    "type(list_A[0:1])"
   ]
  },
  {
   "cell_type": "code",
   "execution_count": 16,
   "id": "2f72df21",
   "metadata": {},
   "outputs": [
    {
     "data": {
      "text/plain": [
       "int"
      ]
     },
     "execution_count": 16,
     "metadata": {},
     "output_type": "execute_result"
    }
   ],
   "source": [
    "type(list_A[0]) # query on one element of the list"
   ]
  },
  {
   "cell_type": "code",
   "execution_count": 17,
   "id": "b1a17385",
   "metadata": {},
   "outputs": [
    {
     "name": "stdout",
     "output_type": "stream",
     "text": [
      "<class 'int'>\n"
     ]
    }
   ],
   "source": [
    "print(type(list_A[0]))"
   ]
  },
  {
   "cell_type": "code",
   "execution_count": 18,
   "id": "d9468054",
   "metadata": {},
   "outputs": [
    {
     "name": "stdout",
     "output_type": "stream",
     "text": [
      "<class 'int'> <class 'str'>\n"
     ]
    }
   ],
   "source": [
    "list_B=[1,'one']      # NOTE: contains objects of different types\n",
    "print(type(list_B[0]),type(list_B[1]))"
   ]
  },
  {
   "cell_type": "code",
   "execution_count": 19,
   "id": "0ba462af",
   "metadata": {},
   "outputs": [
    {
     "data": {
      "text/plain": [
       "2"
      ]
     },
     "execution_count": 19,
     "metadata": {},
     "output_type": "execute_result"
    }
   ],
   "source": [
    "len(list_B)"
   ]
  },
  {
   "cell_type": "markdown",
   "id": "e3d9a9d8",
   "metadata": {},
   "source": [
    "### 3.1 <a name=\"copylist\">Shallow copy vs. deep copy</a>"
   ]
  },
  {
   "cell_type": "code",
   "execution_count": 20,
   "id": "54ea4c13",
   "metadata": {},
   "outputs": [
    {
     "name": "stdout",
     "output_type": "stream",
     "text": [
      "List A is: [1, 2, 3, 4]\n",
      "List B is: [1, 2, 3, 4]\n",
      "List A is: [1, 2, 7, 4]\n",
      "List B is: [1, 2, 7, 4]\n"
     ]
    }
   ],
   "source": [
    "A=[1,2,3,4]\n",
    "print(\"List A is:\", A)\n",
    "\n",
    "#B=A[0:3]                    # Ignoring [0:3] means all elements are used\n",
    "B=A # is a shallow copy\n",
    "print(\"List B is:\", B)\n",
    "\n",
    "B[2]=7  # change a value in B\n",
    "print(\"List A is:\", A)\n",
    "print(\"List B is:\", B)"
   ]
  },
  {
   "cell_type": "markdown",
   "id": "f351dc97",
   "metadata": {},
   "source": [
    "Note that when B is changed A is also affected because the statement B=A does not 'copy' but only 'links' B to A. In order to copy a list to another independent one, one has to deep copy as shown below."
   ]
  },
  {
   "cell_type": "code",
   "execution_count": 21,
   "id": "344ab24a",
   "metadata": {},
   "outputs": [
    {
     "name": "stdout",
     "output_type": "stream",
     "text": [
      "List A is: [1, 2, 3, 4]\n",
      "List B is: [1, 2, 3, 4]\n",
      "List A is: [1, 2, 3, 4]\n"
     ]
    }
   ],
   "source": [
    "A=[1,2,3,4]\n",
    "print(\"List A is:\", A)\n",
    "\n",
    "#B=A.copy()[0:3]       # Deep copy, ignoring [0:3] means all elements are used\n",
    "B=A.copy()             # deep copy A into B\n",
    "print(\"List B is:\", B)\n",
    "\n",
    "B[2]=7\n",
    "print(\"List A is:\", A)"
   ]
  },
  {
   "cell_type": "markdown",
   "id": "c1078bdf",
   "metadata": {},
   "source": [
    "## 4. <a name=\"concat\">Concatenation vs. appending</a>"
   ]
  },
  {
   "cell_type": "code",
   "execution_count": 22,
   "id": "9b3a69e8",
   "metadata": {},
   "outputs": [
    {
     "name": "stdout",
     "output_type": "stream",
     "text": [
      "Whatislife?\n",
      "What is life?\n"
     ]
    }
   ],
   "source": [
    "str1='What'\n",
    "str2='is'\n",
    "str3='life?'\n",
    "print(str1+str2+str3)          # Concatenation of strings\n",
    "print(str1+' '+str2+' '+str3)"
   ]
  },
  {
   "cell_type": "code",
   "execution_count": 23,
   "id": "c5ed241a",
   "metadata": {},
   "outputs": [
    {
     "data": {
      "text/plain": [
       "['What', 'is', 'life?']"
      ]
     },
     "execution_count": 23,
     "metadata": {},
     "output_type": "execute_result"
    }
   ],
   "source": [
    "str4=[str1,str2]\n",
    "str5=[str3]\n",
    "str4+str5              # Append elements to a list "
   ]
  },
  {
   "cell_type": "markdown",
   "id": "3f0566c6",
   "metadata": {},
   "source": [
    "## 5. <a name=\"forloop\">For loop</a>"
   ]
  },
  {
   "cell_type": "code",
   "execution_count": 24,
   "id": "f72fcbf3",
   "metadata": {},
   "outputs": [
    {
     "name": "stdout",
     "output_type": "stream",
     "text": [
      "0\n",
      "1\n",
      "2\n",
      "3\n",
      "4\n"
     ]
    }
   ],
   "source": [
    "N=5\n",
    "for i in range(N):   # default offset (initial index) is 0, final index is N-1\n",
    "    print(i)"
   ]
  },
  {
   "cell_type": "code",
   "execution_count": 25,
   "id": "47d0d24c",
   "metadata": {},
   "outputs": [
    {
     "name": "stdout",
     "output_type": "stream",
     "text": [
      "0\n",
      "1\n",
      "2\n",
      "3\n",
      "4\n"
     ]
    }
   ],
   "source": [
    "for i in range(0,N):\n",
    "    print(i)"
   ]
  },
  {
   "cell_type": "code",
   "execution_count": 26,
   "id": "ddc27bc5",
   "metadata": {},
   "outputs": [
    {
     "name": "stdout",
     "output_type": "stream",
     "text": [
      "3\n",
      "4\n"
     ]
    }
   ],
   "source": [
    "for i in range(3,N):\n",
    "    print(i)"
   ]
  },
  {
   "cell_type": "code",
   "execution_count": 27,
   "id": "9e3c2153",
   "metadata": {},
   "outputs": [
    {
     "name": "stdout",
     "output_type": "stream",
     "text": [
      "0\n",
      "2\n",
      "4\n"
     ]
    }
   ],
   "source": [
    "step=2\n",
    "for i in range(0,N,step):  # initial index = 0, final index = N, stride/step = 2\n",
    "    print(i)"
   ]
  },
  {
   "cell_type": "code",
   "execution_count": 28,
   "id": "cb2cf73a",
   "metadata": {},
   "outputs": [
    {
     "name": "stdout",
     "output_type": "stream",
     "text": [
      "5\n",
      "4\n",
      "3\n",
      "2\n",
      "1\n"
     ]
    }
   ],
   "source": [
    "for i in range(N,0,-1):   # runs until 0+1\n",
    "    print(i)"
   ]
  },
  {
   "cell_type": "code",
   "execution_count": 29,
   "id": "a8548c68",
   "metadata": {},
   "outputs": [
    {
     "name": "stdout",
     "output_type": "stream",
     "text": [
      "1\n",
      "1\n",
      "2\n",
      "3\n",
      "5\n",
      "8\n"
     ]
    }
   ],
   "source": [
    "for i in [1,1,2,3,5,8]:  # instead of range, one can use a list\n",
    "    print(i)"
   ]
  },
  {
   "cell_type": "code",
   "execution_count": 30,
   "id": "cd742ece",
   "metadata": {},
   "outputs": [
    {
     "name": "stdout",
     "output_type": "stream",
     "text": [
      "What\n",
      "is\n",
      "life?\n"
     ]
    }
   ],
   "source": [
    "mystr=\"What is life?\"\n",
    "mystr=mystr.split(' ')\n",
    "\n",
    "for a in mystr:\n",
    "    print(a)"
   ]
  },
  {
   "cell_type": "code",
   "execution_count": 31,
   "id": "7a46ddff",
   "metadata": {},
   "outputs": [
    {
     "name": "stdout",
     "output_type": "stream",
     "text": [
      "A\n",
      "T\n",
      "G\n",
      "C\n",
      "C\n",
      "C\n",
      "C\n",
      "G\n"
     ]
    }
   ],
   "source": [
    "mystr=\"A,T,G,C,C,C,C,G\"\n",
    "mystr=mystr.split(',')\n",
    "\n",
    "for a in mystr:\n",
    "    print(a)"
   ]
  },
  {
   "cell_type": "markdown",
   "id": "e4007ef2",
   "metadata": {},
   "source": [
    "## 6. <a name=\"whileloop\">While loop</a>"
   ]
  },
  {
   "cell_type": "code",
   "execution_count": 32,
   "id": "dc1c6c3a",
   "metadata": {},
   "outputs": [
    {
     "name": "stdout",
     "output_type": "stream",
     "text": [
      "0\n",
      "1\n",
      "2\n",
      "3\n",
      "4\n"
     ]
    }
   ],
   "source": [
    "i=0\n",
    "while i<5:  # while condition\n",
    "    print(i)\n",
    "    i=i+1   # increment by 1"
   ]
  },
  {
   "cell_type": "markdown",
   "id": "b289302d",
   "metadata": {},
   "source": [
    "## 7. <a name=\"break\">Break vs. continue</a>"
   ]
  },
  {
   "cell_type": "code",
   "execution_count": 33,
   "id": "d560db05",
   "metadata": {},
   "outputs": [
    {
     "name": "stdout",
     "output_type": "stream",
     "text": [
      "0\n",
      "1\n",
      "2\n",
      "3\n",
      "4\n",
      "6\n",
      "7\n"
     ]
    }
   ],
   "source": [
    "for i in range(0,8):\n",
    "    if i == 5:       # same as if (i == 5):\n",
    "        continue     # when i takes the value 5, the loop is skipped\n",
    "    print(i)"
   ]
  },
  {
   "cell_type": "code",
   "execution_count": 34,
   "id": "7279237f",
   "metadata": {},
   "outputs": [
    {
     "name": "stdout",
     "output_type": "stream",
     "text": [
      "0\n",
      "1\n",
      "2\n",
      "3\n",
      "4\n"
     ]
    }
   ],
   "source": [
    "for i in range(0,8):\n",
    "    if i == 5:    # same as if (i == 5):\n",
    "        break     # when i takes the value 5, the loop is terminated\n",
    "    print(i)"
   ]
  },
  {
   "cell_type": "code",
   "execution_count": 35,
   "id": "36d369dd",
   "metadata": {},
   "outputs": [
    {
     "name": "stdout",
     "output_type": "stream",
     "text": [
      "2\n",
      "4\n",
      "6\n"
     ]
    }
   ],
   "source": [
    "for i in range(1,8):\n",
    "    if i%2 != 0:     # same as if (if i%2 != 0):\n",
    "        continue     # when i is odd skip\n",
    "    print(i)"
   ]
  },
  {
   "cell_type": "markdown",
   "id": "b0a37396",
   "metadata": {},
   "source": [
    "## 8. <a name=\"function\">Function</a>"
   ]
  },
  {
   "cell_type": "markdown",
   "id": "94eab421",
   "metadata": {},
   "source": [
    "If part of your code performing a task is repeated multiple times, it is best to define that part of the code as a function. Here is how you can make your own function. This function will determine if an input data is an integer or not. The output will be 'true' if the data is an integer and 'false' is the data is not an integer."
   ]
  },
  {
   "cell_type": "code",
   "execution_count": 36,
   "id": "f25472d4",
   "metadata": {},
   "outputs": [],
   "source": [
    "def is_int(x):\n",
    "    '''\n",
    "    Takes an object as input and returns a boolean data as output.\n",
    "    Later, I have to add more information here\n",
    "    \n",
    "    Example case 1: \n",
    "    ---------------\n",
    "       use it to check whether a number is an integer\n",
    "       is_int(5)\n",
    "    '''\n",
    "    out=False       # Assign False at the beginning \n",
    "    data_1=type(x)\n",
    "    data_2=type(1)\n",
    "    if data_1==data_2:\n",
    "        out=True\n",
    "    val1=x\n",
    "    val2=x**2\n",
    "    return(out,val1,val2)"
   ]
  },
  {
   "cell_type": "code",
   "execution_count": 37,
   "id": "41bb33b4",
   "metadata": {},
   "outputs": [
    {
     "name": "stdout",
     "output_type": "stream",
     "text": [
      "Help on function is_int in module __main__:\n",
      "\n",
      "is_int(x)\n",
      "    Takes an object as input and returns a boolean data as output.\n",
      "    Later, I have to add more information here\n",
      "    \n",
      "    Example case 1: \n",
      "    ---------------\n",
      "       use it to check whether a number is an integer\n",
      "       is_int(5)\n",
      "\n"
     ]
    }
   ],
   "source": [
    "help(is_int)"
   ]
  },
  {
   "cell_type": "code",
   "execution_count": 38,
   "id": "1494448e",
   "metadata": {},
   "outputs": [
    {
     "name": "stdout",
     "output_type": "stream",
     "text": [
      "\n",
      "    Takes an object as input and returns a boolean data as output.\n",
      "    Later, I have to add more information here\n",
      "    \n",
      "    Example case 1: \n",
      "    ---------------\n",
      "       use it to check whether a number is an integer\n",
      "       is_int(5)\n",
      "    \n"
     ]
    }
   ],
   "source": [
    "print(is_int.__doc__)"
   ]
  },
  {
   "cell_type": "code",
   "execution_count": 39,
   "id": "8a05af0e",
   "metadata": {},
   "outputs": [
    {
     "data": {
      "text/plain": [
       "<function __main__.is_int(x)>"
      ]
     },
     "execution_count": 39,
     "metadata": {},
     "output_type": "execute_result"
    }
   ],
   "source": [
    "is_int # then, press shift + enter"
   ]
  },
  {
   "cell_type": "code",
   "execution_count": 40,
   "id": "137f099d",
   "metadata": {},
   "outputs": [],
   "source": [
    "myoutput=is_int(10)"
   ]
  },
  {
   "cell_type": "code",
   "execution_count": 41,
   "id": "9879575a",
   "metadata": {},
   "outputs": [
    {
     "name": "stdout",
     "output_type": "stream",
     "text": [
      "<class 'tuple'>\n"
     ]
    }
   ],
   "source": [
    "print(type(myoutput))"
   ]
  },
  {
   "cell_type": "code",
   "execution_count": 42,
   "id": "b5704fc1",
   "metadata": {},
   "outputs": [
    {
     "name": "stdout",
     "output_type": "stream",
     "text": [
      "3\n"
     ]
    }
   ],
   "source": [
    "print(len(myoutput))"
   ]
  },
  {
   "cell_type": "code",
   "execution_count": 43,
   "id": "08bb2af9",
   "metadata": {},
   "outputs": [
    {
     "data": {
      "text/plain": [
       "True"
      ]
     },
     "execution_count": 43,
     "metadata": {},
     "output_type": "execute_result"
    }
   ],
   "source": [
    "myoutput[0]"
   ]
  },
  {
   "cell_type": "code",
   "execution_count": 44,
   "id": "db86cafd",
   "metadata": {},
   "outputs": [
    {
     "data": {
      "text/plain": [
       "10"
      ]
     },
     "execution_count": 44,
     "metadata": {},
     "output_type": "execute_result"
    }
   ],
   "source": [
    "myoutput[1]"
   ]
  },
  {
   "cell_type": "code",
   "execution_count": 45,
   "id": "2ceb6ed2",
   "metadata": {},
   "outputs": [
    {
     "name": "stdout",
     "output_type": "stream",
     "text": [
      "True\n",
      "10\n",
      "100\n"
     ]
    }
   ],
   "source": [
    "N_output=len(myoutput)\n",
    "for i in range(N_output):\n",
    "    print(myoutput[i])"
   ]
  },
  {
   "cell_type": "code",
   "execution_count": 46,
   "id": "a49d1b55",
   "metadata": {},
   "outputs": [
    {
     "data": {
      "text/plain": [
       "tuple"
      ]
     },
     "execution_count": 46,
     "metadata": {},
     "output_type": "execute_result"
    }
   ],
   "source": [
    "type(is_int(10))"
   ]
  },
  {
   "cell_type": "code",
   "execution_count": 47,
   "id": "ffb9c02a",
   "metadata": {},
   "outputs": [
    {
     "name": "stdout",
     "output_type": "stream",
     "text": [
      "Help on function is_int in module __main__:\n",
      "\n",
      "is_int(x)\n",
      "    Takes an object as input and returns a boolean data as output.\n",
      "    Later, I have to add more information here\n",
      "    \n",
      "    Example case 1: \n",
      "    ---------------\n",
      "       use it to check whether a number is an integer\n",
      "       is_int(5)\n",
      "\n"
     ]
    }
   ],
   "source": [
    "help(is_int)"
   ]
  },
  {
   "cell_type": "markdown",
   "id": "9b043b97",
   "metadata": {},
   "source": [
    "## 9. <a name=\"module\">Modules</a>"
   ]
  },
  {
   "cell_type": "markdown",
   "id": "47b932ac",
   "metadata": {},
   "source": [
    "One of the great advantages of using Python is the availability of a number of packages and modules that can be imported in our codes. Here are some examples. In the next notebook, there are examples of modules of use on data science.   "
   ]
  },
  {
   "cell_type": "markdown",
   "id": "c0a4855c",
   "metadata": {},
   "source": [
    "### 9.1 <a name=\"os-and-sys\">os and sys</a>"
   ]
  },
  {
   "cell_type": "code",
   "execution_count": 48,
   "id": "880daf06",
   "metadata": {},
   "outputs": [],
   "source": [
    "import os"
   ]
  },
  {
   "cell_type": "code",
   "execution_count": 49,
   "id": "eb4d3505",
   "metadata": {},
   "outputs": [],
   "source": [
    "# help(os)  # uncomment and try"
   ]
  },
  {
   "cell_type": "code",
   "execution_count": 50,
   "id": "668a5016",
   "metadata": {},
   "outputs": [
    {
     "data": {
      "text/plain": [
       "'/Users/rr/repos/PyLifeS/notebooks'"
      ]
     },
     "execution_count": 50,
     "metadata": {},
     "output_type": "execute_result"
    }
   ],
   "source": [
    "os.getcwd()    # get the current working directory"
   ]
  },
  {
   "cell_type": "code",
   "execution_count": 51,
   "id": "82c16e4a",
   "metadata": {},
   "outputs": [],
   "source": [
    "import sys"
   ]
  },
  {
   "cell_type": "code",
   "execution_count": 52,
   "id": "18d61a89",
   "metadata": {},
   "outputs": [
    {
     "data": {
      "text/plain": [
       "'3.9.13 (main, Aug 25 2022, 18:29:29) \\n[Clang 12.0.0 ]'"
      ]
     },
     "execution_count": 52,
     "metadata": {},
     "output_type": "execute_result"
    }
   ],
   "source": [
    "sys.version"
   ]
  },
  {
   "cell_type": "code",
   "execution_count": 53,
   "id": "10c8f105",
   "metadata": {},
   "outputs": [
    {
     "data": {
      "text/plain": [
       "sys.version_info(major=3, minor=9, micro=13, releaselevel='final', serial=0)"
      ]
     },
     "execution_count": 53,
     "metadata": {},
     "output_type": "execute_result"
    }
   ],
   "source": [
    "sys.version_info"
   ]
  },
  {
   "cell_type": "markdown",
   "id": "9c774f58",
   "metadata": {},
   "source": [
    "### 9.2 <a name=\"ownmodule\">Write and import your own module</a>"
   ]
  },
  {
   "cell_type": "markdown",
   "id": "c16cd66c",
   "metadata": {},
   "source": [
    "In `mymodule.py` located in the same folder, we have defined two functions. Let's import this module."
   ]
  },
  {
   "cell_type": "markdown",
   "id": "c2fba590",
   "metadata": {},
   "source": [
    "If you are wondering where you file is stored, try `os.getcwd` as shown below."
   ]
  },
  {
   "cell_type": "code",
   "execution_count": 54,
   "id": "f7a2da33",
   "metadata": {},
   "outputs": [
    {
     "data": {
      "text/plain": [
       "'/Users/rr/repos/PyLifeS/notebooks'"
      ]
     },
     "execution_count": 54,
     "metadata": {},
     "output_type": "execute_result"
    }
   ],
   "source": [
    "os.getcwd() "
   ]
  },
  {
   "cell_type": "code",
   "execution_count": 55,
   "id": "8e54b2db",
   "metadata": {},
   "outputs": [],
   "source": [
    "import mymodule"
   ]
  },
  {
   "cell_type": "code",
   "execution_count": 56,
   "id": "b4e66294",
   "metadata": {},
   "outputs": [
    {
     "name": "stdout",
     "output_type": "stream",
     "text": [
      "Hello, Welcome!\n"
     ]
    }
   ],
   "source": [
    "# Call the greet() function from mymodule.py\n",
    "mymodule.greet()"
   ]
  },
  {
   "cell_type": "code",
   "execution_count": 57,
   "id": "5d5951aa",
   "metadata": {},
   "outputs": [
    {
     "name": "stdout",
     "output_type": "stream",
     "text": [
      "20\n"
     ]
    }
   ],
   "source": [
    "# Call the multiply() function from mymodule.py\n",
    "result = mymodule.multiply(4, 5)\n",
    "print(result)"
   ]
  },
  {
   "cell_type": "markdown",
   "id": "f867514b",
   "metadata": {},
   "source": [
    "Another way is to importing these functions directly. "
   ]
  },
  {
   "cell_type": "code",
   "execution_count": 58,
   "id": "27f8d83f",
   "metadata": {},
   "outputs": [
    {
     "name": "stdout",
     "output_type": "stream",
     "text": [
      "Hello, Welcome!\n",
      "20\n"
     ]
    }
   ],
   "source": [
    "from mymodule import greet, multiply\n",
    "\n",
    "# Call the greet() function from mymodule.py\n",
    "greet()\n",
    "\n",
    "# Call the multiply() function from mymodule.py\n",
    "result = multiply(4, 5)\n",
    "print(result)"
   ]
  },
  {
   "cell_type": "markdown",
   "id": "e8c5d597",
   "metadata": {},
   "source": [
    "Suppose your module file is located in another directory, which is often the case, then you will have to use the `sys.path` to method to add the directory"
   ]
  },
  {
   "cell_type": "code",
   "execution_count": 59,
   "id": "032be885",
   "metadata": {},
   "outputs": [],
   "source": [
    "import sys\n",
    "\n",
    "# All .py files in this directory will be included\n",
    "sys.path.append('/Users/rr/repos/PyLifeS/mymodules')\n",
    "\n",
    "from algebra import square as my_sqr\n",
    "from algebra import add as my_add"
   ]
  },
  {
   "cell_type": "code",
   "execution_count": 60,
   "id": "1dd4f48d",
   "metadata": {},
   "outputs": [
    {
     "data": {
      "text/plain": [
       "4"
      ]
     },
     "execution_count": 60,
     "metadata": {},
     "output_type": "execute_result"
    }
   ],
   "source": [
    "my_sqr(2)"
   ]
  },
  {
   "cell_type": "code",
   "execution_count": 61,
   "id": "5f3495e7",
   "metadata": {},
   "outputs": [
    {
     "data": {
      "text/plain": [
       "7"
      ]
     },
     "execution_count": 61,
     "metadata": {},
     "output_type": "execute_result"
    }
   ],
   "source": [
    "my_add(3,4)"
   ]
  },
  {
   "cell_type": "markdown",
   "id": "68175f48",
   "metadata": {},
   "source": [
    "### 9.3 <a name=\"math\">math</a>"
   ]
  },
  {
   "cell_type": "code",
   "execution_count": 62,
   "id": "d66d0b6e",
   "metadata": {},
   "outputs": [],
   "source": [
    "import math"
   ]
  },
  {
   "cell_type": "code",
   "execution_count": 63,
   "id": "c2bc0125",
   "metadata": {},
   "outputs": [
    {
     "name": "stdout",
     "output_type": "stream",
     "text": [
      "78.53981633974483\n"
     ]
    }
   ],
   "source": [
    "rad=5\n",
    "Area=math.pi*rad**2\n",
    "print(Area)"
   ]
  },
  {
   "cell_type": "code",
   "execution_count": 64,
   "id": "12e21366",
   "metadata": {},
   "outputs": [
    {
     "name": "stdout",
     "output_type": "stream",
     "text": [
      "Help on built-in function sqrt in module math:\n",
      "\n",
      "sqrt(x, /)\n",
      "    Return the square root of x.\n",
      "\n"
     ]
    }
   ],
   "source": [
    "help(math.sqrt)"
   ]
  },
  {
   "cell_type": "code",
   "execution_count": 65,
   "id": "04bd4356",
   "metadata": {},
   "outputs": [
    {
     "name": "stdout",
     "output_type": "stream",
     "text": [
      "Return the square root of x.\n"
     ]
    }
   ],
   "source": [
    "print(math.sqrt.__doc__)"
   ]
  },
  {
   "cell_type": "code",
   "execution_count": 66,
   "id": "b44763b5",
   "metadata": {},
   "outputs": [
    {
     "data": {
      "text/plain": [
       "1.4142135623730951"
      ]
     },
     "execution_count": 66,
     "metadata": {},
     "output_type": "execute_result"
    }
   ],
   "source": [
    "math.sqrt(2)"
   ]
  },
  {
   "cell_type": "code",
   "execution_count": 67,
   "id": "bbae9207",
   "metadata": {},
   "outputs": [
    {
     "data": {
      "text/plain": [
       "1.4142135623730951"
      ]
     },
     "execution_count": 67,
     "metadata": {},
     "output_type": "execute_result"
    }
   ],
   "source": [
    "import math as m\n",
    "m.sqrt(2)"
   ]
  },
  {
   "cell_type": "code",
   "execution_count": 68,
   "id": "680726a8",
   "metadata": {},
   "outputs": [
    {
     "data": {
      "text/plain": [
       "1.4142135623730951"
      ]
     },
     "execution_count": 68,
     "metadata": {},
     "output_type": "execute_result"
    }
   ],
   "source": [
    "from math import sqrt\n",
    "sqrt(2)"
   ]
  },
  {
   "cell_type": "markdown",
   "id": "3323db89",
   "metadata": {},
   "source": [
    "### 9.4 <a name=\"cmath\">cmath</a>"
   ]
  },
  {
   "cell_type": "code",
   "execution_count": 69,
   "id": "2e603987",
   "metadata": {},
   "outputs": [],
   "source": [
    "import cmath\n",
    "# dir(cmath)   # uncomment and try"
   ]
  },
  {
   "cell_type": "code",
   "execution_count": 70,
   "id": "178cd402",
   "metadata": {},
   "outputs": [
    {
     "data": {
      "text/plain": [
       "(1+0j)"
      ]
     },
     "execution_count": 70,
     "metadata": {},
     "output_type": "execute_result"
    }
   ],
   "source": [
    "cmath.sin(math.pi/2)"
   ]
  },
  {
   "cell_type": "markdown",
   "id": "cbea90f1",
   "metadata": {},
   "source": [
    "### 9.5 <a name=\"numpy\">numpy</a>"
   ]
  },
  {
   "cell_type": "markdown",
   "id": "e7e6eecc",
   "metadata": {},
   "source": [
    "One of the most useful modules for this course is `numpy`. You can also call `numpy` as a package. It has several funtions for basic mathematical operations. It also many advanced sub-packages, each with its own functions. "
   ]
  },
  {
   "cell_type": "code",
   "execution_count": 71,
   "id": "59ab22ba",
   "metadata": {},
   "outputs": [],
   "source": [
    "import numpy"
   ]
  },
  {
   "cell_type": "code",
   "execution_count": 72,
   "id": "741deec9",
   "metadata": {},
   "outputs": [
    {
     "data": {
      "text/plain": [
       "1.4142135623730951"
      ]
     },
     "execution_count": 72,
     "metadata": {},
     "output_type": "execute_result"
    }
   ],
   "source": [
    "a=2\n",
    "numpy.sqrt(2)"
   ]
  },
  {
   "cell_type": "code",
   "execution_count": 73,
   "id": "02ddd3c5",
   "metadata": {},
   "outputs": [
    {
     "data": {
      "text/plain": [
       "1.4142135623730951"
      ]
     },
     "execution_count": 73,
     "metadata": {},
     "output_type": "execute_result"
    }
   ],
   "source": [
    "import numpy as np # we are setting an alias for numpy by calling it np\n",
    "\n",
    "a=2\n",
    "np.sqrt(a) "
   ]
  },
  {
   "cell_type": "code",
   "execution_count": 74,
   "id": "2ba7abaf",
   "metadata": {},
   "outputs": [],
   "source": [
    "#uncomment the next line and run, comment it again\n",
    "# help(np.sqrt)"
   ]
  },
  {
   "cell_type": "code",
   "execution_count": 75,
   "id": "d1f0952b",
   "metadata": {},
   "outputs": [],
   "source": [
    "#uncomment the next line and run, comment it again\n",
    "# np.sqrt? "
   ]
  },
  {
   "cell_type": "markdown",
   "id": "0d0e6ffe",
   "metadata": {},
   "source": [
    "#### 9.5.1 <a name=\"numpyfeatures\">Explore all functionalities of numpy</a>"
   ]
  },
  {
   "cell_type": "code",
   "execution_count": 76,
   "id": "45c33076",
   "metadata": {},
   "outputs": [],
   "source": [
    "#uncomment the next line and run, comment it again\n",
    "# print(np.__doc__)"
   ]
  },
  {
   "cell_type": "code",
   "execution_count": 77,
   "id": "39221e7c",
   "metadata": {},
   "outputs": [],
   "source": [
    "#uncomment the next line and run, comment it again\n",
    "# np.__all__ "
   ]
  },
  {
   "cell_type": "code",
   "execution_count": 78,
   "id": "8cf4b65c",
   "metadata": {},
   "outputs": [],
   "source": [
    "#uncomment the next line and run, comment it again\n",
    "# dir(np) # get all options for a function"
   ]
  },
  {
   "cell_type": "code",
   "execution_count": 79,
   "id": "fa972750",
   "metadata": {},
   "outputs": [
    {
     "name": "stdout",
     "output_type": "stream",
     "text": [
      "['AxisError', 'ComplexWarning', 'DataSource', 'ModuleDeprecationWarning', 'RankWarning', 'Tester', 'TooHardError', 'VisibleDeprecationWarning', '_CopyMode', '__dir__', '__getattr__', '_add_newdoc_ufunc', '_get_promotion_state', '_no_nep50_warning', '_pyinstaller_hooks_dir', '_set_promotion_state', 'abs', 'absolute', 'add', 'add_docstring', 'add_newdoc', 'add_newdoc_ufunc', 'all', 'allclose', 'alltrue', 'amax', 'amin', 'angle', 'any', 'append', 'apply_along_axis', 'apply_over_axes', 'arange', 'arccos', 'arccosh', 'arcsin', 'arcsinh', 'arctan', 'arctan2', 'arctanh', 'argmax', 'argmin', 'argpartition', 'argsort', 'argwhere', 'around', 'array', 'array2string', 'array_equal', 'array_equiv', 'array_repr', 'array_split', 'array_str', 'asanyarray', 'asarray', 'asarray_chkfinite', 'ascontiguousarray', 'asfarray', 'asfortranarray', 'asmatrix', 'atleast_1d', 'atleast_2d', 'atleast_3d', 'average', 'bartlett', 'base_repr', 'binary_repr', 'bincount', 'bitwise_and', 'bitwise_not', 'bitwise_or', 'bitwise_xor', 'blackman', 'block', 'bmat', 'bool_', 'broadcast', 'broadcast_arrays', 'broadcast_shapes', 'broadcast_to', 'busday_count', 'busday_offset', 'busdaycalendar', 'byte', 'byte_bounds', 'bytes_', 'can_cast', 'cbrt', 'cdouble', 'ceil', 'cfloat', 'character', 'chararray', 'choose', 'clip', 'clongdouble', 'clongfloat', 'column_stack', 'common_type', 'compare_chararrays', 'complex128', 'complex256', 'complex64', 'complex_', 'complexfloating', 'compress', 'concatenate', 'conj', 'conjugate', 'convolve', 'copy', 'copysign', 'copyto', 'corrcoef', 'correlate', 'cos', 'cosh', 'count_nonzero', 'cov', 'cross', 'csingle', 'cumprod', 'cumproduct', 'cumsum', 'datetime64', 'datetime_as_string', 'datetime_data', 'deg2rad', 'degrees', 'delete', 'deprecate', 'deprecate_with_doc', 'diag', 'diag_indices', 'diag_indices_from', 'diagflat', 'diagonal', 'diff', 'digitize', 'disp', 'divide', 'divmod', 'dot', 'double', 'dsplit', 'dstack', 'dtype', 'ediff1d', 'einsum', 'einsum_path', 'empty', 'empty_like', 'equal', 'errstate', 'exp', 'exp2', 'expand_dims', 'expm1', 'extract', 'eye', 'fabs', 'fastCopyAndTranspose', 'fill_diagonal', 'find_common_type', 'finfo', 'fix', 'flatiter', 'flatnonzero', 'flexible', 'flip', 'fliplr', 'flipud', 'float128', 'float16', 'float32', 'float64', 'float_', 'float_power', 'floating', 'floor', 'floor_divide', 'fmax', 'fmin', 'fmod', 'format_float_positional', 'format_float_scientific', 'format_parser', 'frexp', 'from_dlpack', 'frombuffer', 'fromfile', 'fromfunction', 'fromiter', 'frompyfunc', 'fromregex', 'fromstring', 'full', 'full_like', 'gcd', 'generic', 'genfromtxt', 'geomspace', 'get_array_wrap', 'get_include', 'get_printoptions', 'getbufsize', 'geterr', 'geterrcall', 'geterrobj', 'gradient', 'greater', 'greater_equal', 'half', 'hamming', 'hanning', 'heaviside', 'histogram', 'histogram2d', 'histogram_bin_edges', 'histogramdd', 'hsplit', 'hstack', 'hypot', 'i0', 'identity', 'iinfo', 'imag', 'in1d', 'indices', 'inexact', 'info', 'inner', 'insert', 'int16', 'int32', 'int64', 'int8', 'int_', 'intc', 'integer', 'interp', 'intersect1d', 'intp', 'invert', 'is_busday', 'isclose', 'iscomplex', 'iscomplexobj', 'isfinite', 'isfortran', 'isin', 'isinf', 'isnan', 'isnat', 'isneginf', 'isposinf', 'isreal', 'isrealobj', 'isscalar', 'issctype', 'issubclass_', 'issubdtype', 'issubsctype', 'iterable', 'ix_', 'kaiser', 'kron', 'lcm', 'ldexp', 'left_shift', 'less', 'less_equal', 'lexsort', 'linspace', 'load', 'loadtxt', 'log', 'log10', 'log1p', 'log2', 'logaddexp', 'logaddexp2', 'logical_and', 'logical_not', 'logical_or', 'logical_xor', 'logspace', 'longcomplex', 'longdouble', 'longfloat', 'longlong', 'lookfor', 'mask_indices', 'mat', 'matmul', 'matrix', 'max', 'maximum', 'maximum_sctype', 'may_share_memory', 'mean', 'median', 'memmap', 'meshgrid', 'min', 'min_scalar_type', 'minimum', 'mintypecode', 'mod', 'modf', 'moveaxis', 'msort', 'multiply', 'nan_to_num', 'nanargmax', 'nanargmin', 'nancumprod', 'nancumsum', 'nanmax', 'nanmean', 'nanmedian', 'nanmin', 'nanpercentile', 'nanprod', 'nanquantile', 'nanstd', 'nansum', 'nanvar', 'ndarray', 'ndenumerate', 'ndim', 'ndindex', 'nditer', 'negative', 'nested_iters', 'nextafter', 'nonzero', 'not_equal', 'number', 'obj2sctype', 'object_', 'ones', 'ones_like', 'outer', 'packbits', 'pad', 'partition', 'percentile', 'piecewise', 'place', 'poly', 'poly1d', 'polyadd', 'polyder', 'polydiv', 'polyfit', 'polyint', 'polymul', 'polysub', 'polyval', 'positive', 'power', 'printoptions', 'prod', 'product', 'promote_types', 'ptp', 'put', 'put_along_axis', 'putmask', 'quantile', 'rad2deg', 'radians', 'ravel', 'ravel_multi_index', 'real', 'real_if_close', 'recarray', 'recfromcsv', 'recfromtxt', 'reciprocal', 'record', 'remainder', 'repeat', 'require', 'reshape', 'resize', 'result_type', 'right_shift', 'rint', 'roll', 'rollaxis', 'roots', 'rot90', 'round', 'round_', 'row_stack', 'safe_eval', 'save', 'savetxt', 'savez', 'savez_compressed', 'sctype2char', 'searchsorted', 'select', 'set_numeric_ops', 'set_printoptions', 'set_string_function', 'setbufsize', 'setdiff1d', 'seterr', 'seterrcall', 'seterrobj', 'setxor1d', 'shape', 'shares_memory', 'short', 'show_config', 'show_runtime', 'sign', 'signbit', 'signedinteger', 'sin', 'sinc', 'single', 'singlecomplex', 'sinh', 'size', 'sometrue', 'sort', 'sort_complex', 'source', 'spacing', 'split', 'sqrt', 'square', 'squeeze', 'stack', 'std', 'str_', 'string_', 'subtract', 'sum', 'swapaxes', 'take', 'take_along_axis', 'tan', 'tanh', 'tensordot', 'test', 'tile', 'timedelta64', 'trace', 'transpose', 'trapz', 'tri', 'tril', 'tril_indices', 'tril_indices_from', 'trim_zeros', 'triu', 'triu_indices', 'triu_indices_from', 'true_divide', 'trunc', 'typename', 'ubyte', 'ufunc', 'uint', 'uint16', 'uint32', 'uint64', 'uint8', 'uintc', 'uintp', 'ulonglong', 'unicode_', 'union1d', 'unique', 'unpackbits', 'unravel_index', 'unsignedinteger', 'unwrap', 'ushort', 'vander', 'var', 'vdot', 'vectorize', 'void', 'vsplit', 'vstack', 'where', 'who', 'zeros', 'zeros_like']\n"
     ]
    }
   ],
   "source": [
    "# Use dir() to get a list of attributes and methods\n",
    "numpy_functions = [function for function in dir(np) if callable(getattr(np, function))]\n",
    "\n",
    "# Print the list of functions\n",
    "print(numpy_functions)"
   ]
  },
  {
   "cell_type": "code",
   "execution_count": 80,
   "id": "b708c407",
   "metadata": {},
   "outputs": [
    {
     "name": "stdout",
     "output_type": "stream",
     "text": [
      "['__config__', '_distributor_init', '_globals', '_pyinstaller', '_pytesttester', '_typing', '_version', 'array_api', 'compat', 'conftest', 'core', 'ctypeslib', 'distutils', 'doc', 'dual', 'f2py', 'fft', 'lib', 'linalg', 'ma', 'matlib', 'matrixlib', 'polynomial', 'random', 'setup', 'testing', 'tests', 'typing', 'version']\n"
     ]
    }
   ],
   "source": [
    "import pkgutil\n",
    "\n",
    "# Get a list of submodules (or subpackages) in NumPy\n",
    "submodules = [name for _, name, _ in pkgutil.iter_modules(np.__path__)]\n",
    "\n",
    "print(submodules)"
   ]
  },
  {
   "cell_type": "markdown",
   "id": "7f538b0a",
   "metadata": {},
   "source": [
    "#### 9.5.2 <a name=\"1Darray\">1D array</a>"
   ]
  },
  {
   "cell_type": "markdown",
   "id": "c89e206f",
   "metadata": {},
   "source": [
    "For processing large numerical data, we will use numpy to create 'arrays' which are like row/column vector or matrices you have encountered before. "
   ]
  },
  {
   "cell_type": "code",
   "execution_count": 81,
   "id": "1a14d027",
   "metadata": {},
   "outputs": [
    {
     "name": "stdout",
     "output_type": "stream",
     "text": [
      "[1.0, 2.0]\n",
      "<class 'list'>\n"
     ]
    }
   ],
   "source": [
    "import numpy as np\n",
    "\n",
    "a=[1.0,2.0]   # Note that [1.0,2.0] is a list\n",
    "print(a)\n",
    "print(type(a))"
   ]
  },
  {
   "cell_type": "code",
   "execution_count": 82,
   "id": "953def20",
   "metadata": {},
   "outputs": [
    {
     "name": "stdout",
     "output_type": "stream",
     "text": [
      "[1. 2.]\n"
     ]
    }
   ],
   "source": [
    "b=np.array(a)   # a numpy array \n",
    "\n",
    "print(b)"
   ]
  },
  {
   "cell_type": "code",
   "execution_count": 83,
   "id": "4e8890d4",
   "metadata": {},
   "outputs": [
    {
     "name": "stdout",
     "output_type": "stream",
     "text": [
      "<class 'numpy.ndarray'>\n"
     ]
    }
   ],
   "source": [
    "print(type(b))"
   ]
  },
  {
   "cell_type": "code",
   "execution_count": 84,
   "id": "dce7034f",
   "metadata": {},
   "outputs": [
    {
     "name": "stdout",
     "output_type": "stream",
     "text": [
      "[1 2]\n",
      "[1. 2.]\n",
      "[1.+0.j 2.+0.j]\n"
     ]
    }
   ],
   "source": [
    "b1=np.array(a,int)\n",
    "print(b1)\n",
    "\n",
    "b2=np.array(a,float)\n",
    "print(b2)\n",
    "\n",
    "b3=np.array(a,complex)\n",
    "print(b3)"
   ]
  },
  {
   "cell_type": "markdown",
   "id": "727c60ab",
   "metadata": {},
   "source": [
    "#### 9.5.3 <a name=\"2Darray\">2D array (Matrix)</a>"
   ]
  },
  {
   "cell_type": "code",
   "execution_count": 85,
   "id": "a2194fda",
   "metadata": {},
   "outputs": [
    {
     "name": "stdout",
     "output_type": "stream",
     "text": [
      "[[1 2]\n",
      " [3 4]]\n"
     ]
    }
   ],
   "source": [
    "mymatrix =  [ [1,2], [3,4] ]  # is a list of lists\n",
    "A=np.array(  mymatrix  )  \n",
    "print(A)"
   ]
  },
  {
   "cell_type": "markdown",
   "id": "a4b55da2",
   "metadata": {},
   "source": [
    "#### 9.5.4 <a name=\"dotproduct\">Dot product</a>"
   ]
  },
  {
   "cell_type": "code",
   "execution_count": 86,
   "id": "0e0e54b1",
   "metadata": {},
   "outputs": [],
   "source": [
    "A=np.array([[1,2],[3,2]])\n",
    "B=np.array([[1,1],[2,2]])\n",
    "x=np.array([7,3])\n",
    "y=np.array([2,1])"
   ]
  },
  {
   "cell_type": "code",
   "execution_count": 87,
   "id": "4ac5ea33",
   "metadata": {},
   "outputs": [
    {
     "name": "stdout",
     "output_type": "stream",
     "text": [
      "[[5 5]\n",
      " [7 7]]\n"
     ]
    }
   ],
   "source": [
    "print(np.dot(A,B))"
   ]
  },
  {
   "cell_type": "code",
   "execution_count": 88,
   "id": "cc6a1d10",
   "metadata": {},
   "outputs": [
    {
     "name": "stdout",
     "output_type": "stream",
     "text": [
      "[13 27]\n"
     ]
    }
   ],
   "source": [
    "print(np.dot(A,x))"
   ]
  },
  {
   "cell_type": "code",
   "execution_count": 89,
   "id": "29c7ab11",
   "metadata": {},
   "outputs": [
    {
     "name": "stdout",
     "output_type": "stream",
     "text": [
      "17\n"
     ]
    }
   ],
   "source": [
    "print(np.dot(x,y))"
   ]
  },
  {
   "cell_type": "markdown",
   "id": "942925da",
   "metadata": {},
   "source": [
    "## 10. <a name=\"inputoutput\">Input/Output</a>"
   ]
  },
  {
   "cell_type": "code",
   "execution_count": 90,
   "id": "271de7bf",
   "metadata": {},
   "outputs": [
    {
     "name": "stdout",
     "output_type": "stream",
     "text": [
      "Enter temperature in Celcius: \n",
      "25\n"
     ]
    }
   ],
   "source": [
    "TC=input('Enter temperature in Celcius: \\n')"
   ]
  },
  {
   "cell_type": "code",
   "execution_count": 91,
   "id": "cd250080",
   "metadata": {},
   "outputs": [
    {
     "name": "stdout",
     "output_type": "stream",
     "text": [
      "<class 'str'>\n"
     ]
    }
   ],
   "source": [
    "print(type(TC))"
   ]
  },
  {
   "cell_type": "code",
   "execution_count": 92,
   "id": "6c10b442",
   "metadata": {},
   "outputs": [
    {
     "name": "stdout",
     "output_type": "stream",
     "text": [
      "<class 'int'>\n"
     ]
    }
   ],
   "source": [
    "TC=eval(TC)\n",
    "print(type(TC))"
   ]
  },
  {
   "cell_type": "code",
   "execution_count": 93,
   "id": "bafc2097",
   "metadata": {},
   "outputs": [
    {
     "name": "stdout",
     "output_type": "stream",
     "text": [
      "298.15 is the temperature in Kelvin\n"
     ]
    }
   ],
   "source": [
    "TK=TC+273.15\n",
    "print(str(TK)+' is the temperature in Kelvin')"
   ]
  },
  {
   "cell_type": "markdown",
   "id": "5750c054",
   "metadata": {},
   "source": [
    "### 10.1 <a name=\"formattedoutput\">Formatted output</a> "
   ]
  },
  {
   "cell_type": "code",
   "execution_count": 94,
   "id": "ad1ebfcc",
   "metadata": {},
   "outputs": [
    {
     "name": "stdout",
     "output_type": "stream",
     "text": [
      "0\n",
      "1\n",
      "2\n",
      "3\n",
      "4\n",
      "5\n",
      "6\n",
      "7\n",
      "8\n",
      "9\n",
      "10\n"
     ]
    }
   ],
   "source": [
    "# Normal printing\n",
    "for i in range(11):\n",
    "    print(i)"
   ]
  },
  {
   "cell_type": "code",
   "execution_count": 95,
   "id": "4f811d0b",
   "metadata": {},
   "outputs": [
    {
     "name": "stdout",
     "output_type": "stream",
     "text": [
      "    0\n",
      "    1\n",
      "    2\n",
      "    3\n",
      "    4\n",
      "    5\n",
      "    6\n",
      "    7\n",
      "    8\n",
      "    9\n",
      "   10\n"
     ]
    }
   ],
   "source": [
    "# Formatted printing\n",
    "for i in range(11):\n",
    "    print('{:5d}'.format(i))   # '{:5d}' means integer of width 5 characters"
   ]
  },
  {
   "cell_type": "code",
   "execution_count": 96,
   "id": "bf58304b",
   "metadata": {},
   "outputs": [
    {
     "name": "stdout",
     "output_type": "stream",
     "text": [
      "00000\n",
      "00001\n",
      "00002\n",
      "00003\n",
      "00004\n",
      "00005\n",
      "00006\n",
      "00007\n",
      "00008\n",
      "00009\n",
      "00010\n"
     ]
    }
   ],
   "source": [
    "for i in range(11):\n",
    "    print('{:05d}'.format(i)) # '{:05d}' means integer of width 5 characters with empty spaces filled with zeroes"
   ]
  },
  {
   "cell_type": "code",
   "execution_count": 97,
   "id": "c5dce9e8",
   "metadata": {},
   "outputs": [
    {
     "name": "stdout",
     "output_type": "stream",
     "text": [
      "aaaa0\n",
      "aaaa1\n",
      "aaaa2\n",
      "aaaa3\n",
      "aaaa4\n",
      "aaaa5\n",
      "aaaa6\n",
      "aaaa7\n",
      "aaaa8\n",
      "aaaa9\n",
      "aaa10\n"
     ]
    }
   ],
   "source": [
    "for i in range(11):\n",
    "    if (i < 10):\n",
    "        print('aaaa{:1d}'.format(i))\n",
    "    else:\n",
    "        print('aaa{:2d}'.format(i))"
   ]
  },
  {
   "cell_type": "code",
   "execution_count": 98,
   "id": "c10fa75a",
   "metadata": {},
   "outputs": [
    {
     "name": "stdout",
     "output_type": "stream",
     "text": [
      "   0.000   0.000\n",
      "   1.000   1.000\n",
      "   2.000   1.414\n",
      "   3.000   1.732\n",
      "   4.000   2.000\n"
     ]
    }
   ],
   "source": [
    "for i in range(5):\n",
    "    print('{:8.3f}{:8.3f}'.format(i,math.sqrt(i))) # floats of 8-character width with 3 characters for fractions"
   ]
  },
  {
   "cell_type": "code",
   "execution_count": 99,
   "id": "fa75c121",
   "metadata": {},
   "outputs": [
    {
     "name": "stdout",
     "output_type": "stream",
     "text": [
      "0.000E+000.000E+00\n",
      "1.000E+001.000E+00\n",
      "2.000E+001.414E+00\n",
      "3.000E+001.732E+00\n",
      "4.000E+002.000E+00\n"
     ]
    }
   ],
   "source": [
    "for i in range(5):\n",
    "    print('{:8.3E}{:8.3E}'.format(i,math.sqrt(i))) # This is desired!"
   ]
  },
  {
   "cell_type": "code",
   "execution_count": 100,
   "id": "2fa20d80",
   "metadata": {},
   "outputs": [
    {
     "name": "stdout",
     "output_type": "stream",
     "text": [
      "0.000E+00 0.000E+00 0.000e+00 0.000e+00\n",
      "1.000E+00 1.000E+00 1.000e+00 1.000e+00\n",
      "2.000E+00 1.414E+00 2.000e+00 1.414e+00\n",
      "3.000E+00 1.732E+00 3.000e+00 1.732e+00\n",
      "4.000E+00 2.000E+00 4.000e+00 2.000e+00\n"
     ]
    }
   ],
   "source": [
    "for i in range(5):\n",
    "    print('{:8.3E} {:8.3E} {:8.3e} {:8.3e}'.format(i,math.sqrt(i),i,math.sqrt(i))) # Exponential format"
   ]
  },
  {
   "cell_type": "markdown",
   "id": "deb78119",
   "metadata": {},
   "source": [
    "### <a name=\"readwrite\">10.2 Read/Write</a>"
   ]
  },
  {
   "cell_type": "markdown",
   "id": "aea4c60d",
   "metadata": {},
   "source": [
    "First let's write something in a file"
   ]
  },
  {
   "cell_type": "code",
   "execution_count": 101,
   "id": "8a7bc2d4",
   "metadata": {},
   "outputs": [],
   "source": [
    "myfile=open('myfile_001.txt','w')\n",
    "\n",
    "for i in range(10):\n",
    "    myfile.write('{:8.3E},{:8.3E}'.format(i,math.sqrt(i)))\n",
    "    \n",
    "myfile.close()    "
   ]
  },
  {
   "cell_type": "markdown",
   "id": "33f6b47a",
   "metadata": {},
   "source": [
    "If you are wondering where you file is stored, try `os.getcwd` as shown below."
   ]
  },
  {
   "cell_type": "code",
   "execution_count": 102,
   "id": "08eaf6ce",
   "metadata": {},
   "outputs": [
    {
     "data": {
      "text/plain": [
       "'/Users/rr/repos/PyLifeS/notebooks'"
      ]
     },
     "execution_count": 102,
     "metadata": {},
     "output_type": "execute_result"
    }
   ],
   "source": [
    "# get the current working directory\n",
    "os.getcwd()    "
   ]
  },
  {
   "cell_type": "code",
   "execution_count": 103,
   "id": "529487d4",
   "metadata": {},
   "outputs": [],
   "source": [
    "myfile=open('myfile_001.txt','w')\n",
    "\n",
    "for i in range(10):\n",
    "    myfile.write('{:8.3E},{:8.3E}\\n'.format(i,math.sqrt(i)))\n",
    "    \n",
    "myfile.close() "
   ]
  },
  {
   "cell_type": "markdown",
   "id": "954601c0",
   "metadata": {},
   "source": [
    "Now let's read the same file"
   ]
  },
  {
   "cell_type": "code",
   "execution_count": 104,
   "id": "7b67104e",
   "metadata": {},
   "outputs": [
    {
     "name": "stdout",
     "output_type": "stream",
     "text": [
      "0.000E+00,0.000E+00\n",
      "\n",
      "1.000E+00,1.000E+00\n",
      "\n",
      "2.000E+00,1.414E+00\n",
      "\n",
      "3.000E+00,1.732E+00\n",
      "\n",
      "4.000E+00,2.000E+00\n",
      "\n",
      "5.000E+00,2.236E+00\n",
      "\n",
      "6.000E+00,2.449E+00\n",
      "\n",
      "7.000E+00,2.646E+00\n",
      "\n",
      "8.000E+00,2.828E+00\n",
      "\n",
      "9.000E+00,3.000E+00\n",
      "\n"
     ]
    }
   ],
   "source": [
    "myfile=open('myfile_001.txt','r')\n",
    "\n",
    "for line in myfile:\n",
    "    print(line)\n",
    "    \n",
    "myfile.close() "
   ]
  },
  {
   "cell_type": "code",
   "execution_count": 105,
   "id": "1401fe91",
   "metadata": {},
   "outputs": [
    {
     "name": "stdout",
     "output_type": "stream",
     "text": [
      "0.000E+00 <class 'str'> 0.0 <class 'float'>\n",
      "1.000E+00 <class 'str'> 1.0 <class 'float'>\n",
      "2.000E+00 <class 'str'> 2.0 <class 'float'>\n",
      "3.000E+00 <class 'str'> 3.0 <class 'float'>\n",
      "4.000E+00 <class 'str'> 4.0 <class 'float'>\n",
      "5.000E+00 <class 'str'> 5.0 <class 'float'>\n",
      "6.000E+00 <class 'str'> 6.0 <class 'float'>\n",
      "7.000E+00 <class 'str'> 7.0 <class 'float'>\n",
      "8.000E+00 <class 'str'> 8.0 <class 'float'>\n",
      "9.000E+00 <class 'str'> 9.0 <class 'float'>\n"
     ]
    }
   ],
   "source": [
    "myfile=open('myfile_001.txt','r')\n",
    "\n",
    "for line in myfile:\n",
    "    col_1=line.split(',')[0]   \n",
    "    print(col_1,type(col_1),eval(col_1),type(eval(col_1)))\n",
    "    \n",
    "myfile.close() "
   ]
  }
 ],
 "metadata": {
  "kernelspec": {
   "display_name": "Python 3 (ipykernel)",
   "language": "python",
   "name": "python3"
  },
  "language_info": {
   "codemirror_mode": {
    "name": "ipython",
    "version": 3
   },
   "file_extension": ".py",
   "mimetype": "text/x-python",
   "name": "python",
   "nbconvert_exporter": "python",
   "pygments_lexer": "ipython3",
   "version": "3.9.13"
  }
 },
 "nbformat": 4,
 "nbformat_minor": 5
}
