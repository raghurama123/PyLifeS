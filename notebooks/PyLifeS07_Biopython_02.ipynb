{
 "cells": [
  {
   "cell_type": "markdown",
   "id": "4b14a8cf",
   "metadata": {},
   "source": [
    "# Nuceotide frequency"
   ]
  },
  {
   "cell_type": "markdown",
   "id": "2bd46231",
   "metadata": {},
   "source": [
    "A simple measure to compare two DNA sequences is to count the frequency of the nuceotides. Here is an online tool to do this: [https://rosalind.info/problems/dna/](https://rosalind.info/problems/dna/)"
   ]
  },
  {
   "cell_type": "code",
   "execution_count": 1,
   "id": "35ef300f",
   "metadata": {},
   "outputs": [],
   "source": [
    "from collections import Counter\n",
    "\n",
    "def nucleotide_frequency(input_sequence):\n",
    "    \"\"\" Calculate nucleotide frequency \"\"\"\n",
    "    input_sequence = input_sequence.upper()\n",
    "    base_counts = Counter(input_sequence)\n",
    "    return base_counts['A'], base_counts['C'], base_counts['G'], base_counts['T']"
   ]
  },
  {
   "cell_type": "code",
   "execution_count": 2,
   "id": "7d42435e",
   "metadata": {},
   "outputs": [
    {
     "data": {
      "text/plain": [
       "(20, 12, 17, 21)"
      ]
     },
     "execution_count": 2,
     "metadata": {},
     "output_type": "execute_result"
    }
   ],
   "source": [
    "seq='AGCTTTTCATTCTGACTGCAACGGGCAATATGTCTCTGTGTGGATTAAAAAAAGAGTGTCTGATAGCAGC'\n",
    "\n",
    "nucleotide_frequency(seq)"
   ]
  },
  {
   "cell_type": "markdown",
   "id": "59428b1b",
   "metadata": {},
   "source": [
    "# GC content"
   ]
  },
  {
   "cell_type": "markdown",
   "id": "4134f2e6",
   "metadata": {},
   "source": [
    "GC content, short for guanine-cytosine content, is a crucial metric in molecular biology and genetics that measures the proportion of nucleotide bases in a DNA or RNA sequence that are either guanine (G) or cytosine (C). It is often expressed as a percentage of the total number of bases in the sequence. GC content plays a significant role in various biological processes, including DNA replication, transcription, and stability. Sequences with high GC content typically exhibit higher melting temperatures and increased stability due to the stronger hydrogen bonds between G-C base pairs compared to adenine-thymine (A-T) base pairs. Conversely, sequences with low GC content may have lower melting temperatures and are often associated with regions prone to mutations or structural variations.\n",
    "\n",
    "Wiki: [https://en.wikipedia.org/wiki/GC-content](https://en.wikipedia.org/wiki/GC-content)"
   ]
  },
  {
   "cell_type": "code",
   "execution_count": 3,
   "id": "6f5940b6",
   "metadata": {},
   "outputs": [],
   "source": [
    "import argparse\n",
    "from Bio import SeqIO\n",
    "\n",
    "def gc_content(input_file):\n",
    "\n",
    "    for rec in SeqIO.parse(input_file, 'fasta'):\n",
    "\n",
    "        gc_count = rec.seq.count('G') + rec.seq.count('C')\n",
    "        atgc_count = len(rec.seq)\n",
    "        \n",
    "        val = (gc_count / atgc_count) * 100\n",
    "        \n",
    "    return val"
   ]
  },
  {
   "cell_type": "code",
   "execution_count": 4,
   "id": "b073f363",
   "metadata": {},
   "outputs": [],
   "source": [
    "seq = '''\n",
    ">Rosalind_0808\n",
    "CCACCCTCGTGGTATGGCTAGGCATTCAGGAACCGGAGAACGCTTCAGACCAGCCCGGAC\n",
    "TGGGAACCTGCGGGCAGTAGGTGGAAT\n",
    "'''\n",
    "\n",
    "with open('Rosalind_0808.fasta', 'w') as file:\n",
    "    file.write(seq)"
   ]
  },
  {
   "cell_type": "code",
   "execution_count": 5,
   "id": "6ba80f5c",
   "metadata": {},
   "outputs": [
    {
     "data": {
      "text/plain": [
       "60.91954022988506"
      ]
     },
     "execution_count": 5,
     "metadata": {},
     "output_type": "execute_result"
    }
   ],
   "source": [
    "input_file = 'Rosalind_0808.fasta'  \n",
    "gc_content(input_file)"
   ]
  },
  {
   "cell_type": "markdown",
   "id": "4f434cfa",
   "metadata": {},
   "source": [
    "# Find a sequence with maximum GC conent among multiple sequencies"
   ]
  },
  {
   "cell_type": "code",
   "execution_count": 6,
   "id": "16617e11",
   "metadata": {},
   "outputs": [],
   "source": [
    "seq = '''\n",
    ">Rosalind_6404\n",
    "CCTGCGGAAGATCGGCACTAGAATAGCCAGAACCGTTTCTCTGAGGCTTCCGGCCTTCCC\n",
    "TCCCACTAATAATTCTGAGG\n",
    ">Rosalind_5959\n",
    "CCATCGGTAGCGCATCCTTAGTCCAATTAAGTCCCTATCCAGGCGCTCCGCCGAAGGTCT\n",
    "ATATCCATTTGTCAGCAGACACGC\n",
    ">Rosalind_0808\n",
    "CCACCCTCGTGGTATGGCTAGGCATTCAGGAACCGGAGAACGCTTCAGACCAGCCCGGAC\n",
    "TGGGAACCTGCGGGCAGTAGGTGGAAT\n",
    "'''\n",
    "\n",
    "with open('Rosalind_data.fasta', 'w') as file:\n",
    "    file.write(seq)"
   ]
  },
  {
   "cell_type": "code",
   "execution_count": 7,
   "id": "413b80cd",
   "metadata": {},
   "outputs": [],
   "source": [
    "import argparse\n",
    "from Bio import SeqIO\n",
    "\n",
    "def gc_content(input_file):\n",
    "    \n",
    "    max_gc = 0\n",
    "\n",
    "    for rec in SeqIO.parse(input_file, 'fasta'):\n",
    "\n",
    "        gc_count = rec.seq.count('G') + rec.seq.count('C')\n",
    "        atgc_count = len(rec.seq)\n",
    "        \n",
    "        gc_content = (gc_count / atgc_count) * 100\n",
    "        \n",
    "        if gc_content > max_gc:\n",
    "            max_gc = gc_content\n",
    "            max_id = rec.id\n",
    "\n",
    "    print(f'Sequence {max_id} has the gc content {max_gc:.6f}')"
   ]
  },
  {
   "cell_type": "code",
   "execution_count": 8,
   "id": "db6b5032",
   "metadata": {},
   "outputs": [
    {
     "name": "stdout",
     "output_type": "stream",
     "text": [
      "Sequence Rosalind_0808 has the gc content 60.919540\n"
     ]
    }
   ],
   "source": [
    "input_file = 'Rosalind_data.fasta'  \n",
    "gc_content(input_file)"
   ]
  },
  {
   "cell_type": "markdown",
   "id": "dfec95e2",
   "metadata": {},
   "source": [
    "# Hamming distance"
   ]
  },
  {
   "cell_type": "markdown",
   "id": "158edaf4",
   "metadata": {},
   "source": [
    "Hamming Distance Explained:\n",
    "\n",
    "The Hamming distance is a measure of the difference between two strings of equal length. It counts the number of positions at which the corresponding symbols differ. In simpler terms, it quantifies the minimum number of substitutions required to change one string into the other.\n",
    "\n",
    "Example:\n",
    "\n",
    "Consider two strings: string1 = 'GATTACA' and string2 = 'GACTATA'.\n",
    "\n",
    "To compute the Hamming distance between these two strings, we compare the corresponding symbols at each position:\n",
    "\n",
    "    At position 1: G vs G (no difference)\n",
    "    At position 2: A vs A (no difference)\n",
    "    At position 3: T vs C (difference)\n",
    "    At position 4: T vs T (no difference)\n",
    "    At position 5: A vs A (no difference)\n",
    "    At position 6: C vs T (difference)\n",
    "    At position 7: A vs A (no difference)\n",
    "\n",
    "In this example, there are 2 positions where the symbols differ (T vs C and C vs T), so the Hamming distance between the two strings is 2.\n",
    "\n",
    "The Hamming distance is useful in various applications, such as error detection and correction in coding theory, DNA sequence analysis, and network communication protocols. It provides a simple and efficient way to measure similarity or dissimilarity between two strings of equal length."
   ]
  },
  {
   "cell_type": "markdown",
   "id": "48c00887",
   "metadata": {},
   "source": [
    "### Let's learn the zip function"
   ]
  },
  {
   "cell_type": "code",
   "execution_count": 9,
   "id": "928da445",
   "metadata": {},
   "outputs": [
    {
     "name": "stdout",
     "output_type": "stream",
     "text": [
      "(1, 'a')\n",
      "(2, 'b')\n",
      "(3, 'c')\n"
     ]
    }
   ],
   "source": [
    "list1 = [1, 2, 3]\n",
    "list2 = ['a', 'b', 'c']\n",
    "\n",
    "zipped = zip(list1, list2)\n",
    "\n",
    "for item in zipped:\n",
    "    print(item)"
   ]
  },
  {
   "cell_type": "code",
   "execution_count": 10,
   "id": "7481c1ae",
   "metadata": {},
   "outputs": [],
   "source": [
    "def hamming_distance(str1, str2):\n",
    "\n",
    "    if len(str1) != len(str2):\n",
    "        raise ValueError(\"Strings must be of equal length\")\n",
    "\n",
    "    distance = 0\n",
    "\n",
    "    for char1, char2 in zip(str1, str2):\n",
    "        if char1 != char2:\n",
    "            distance += 1\n",
    "\n",
    "    return distance"
   ]
  },
  {
   "cell_type": "code",
   "execution_count": 11,
   "id": "07388648",
   "metadata": {},
   "outputs": [
    {
     "name": "stdout",
     "output_type": "stream",
     "text": [
      "Hamming distance is: 9\n"
     ]
    }
   ],
   "source": [
    "string1 = 'AAACCCGGGTTT'\n",
    "string2 = 'CGACGATATGTC'\n",
    "print(\"Hamming distance is:\", hamming_distance(string1, string2))"
   ]
  },
  {
   "cell_type": "markdown",
   "id": "67e6a584",
   "metadata": {},
   "source": [
    "9 of the 12 bases needs to be changed to convert one of the sequences to the other sequence."
   ]
  },
  {
   "cell_type": "code",
   "execution_count": 12,
   "id": "96b35fa8",
   "metadata": {},
   "outputs": [
    {
     "name": "stdout",
     "output_type": "stream",
     "text": [
      "Hamming distance as a ratio is: 0.75\n"
     ]
    }
   ],
   "source": [
    "print(\"Hamming distance as a ratio is:\", hamming_distance(string1, string2)/12)"
   ]
  },
  {
   "cell_type": "markdown",
   "id": "2c67a5d0",
   "metadata": {},
   "source": [
    "## Hamming distance in `Scipy`"
   ]
  },
  {
   "cell_type": "code",
   "execution_count": 13,
   "id": "1c6ba8c3",
   "metadata": {},
   "outputs": [
    {
     "name": "stdout",
     "output_type": "stream",
     "text": [
      "Hamming distance is: 0.75\n"
     ]
    }
   ],
   "source": [
    "from scipy.spatial.distance import hamming\n",
    "\n",
    "string1 = list('AAACCCGGGTTT')  # Split string into individual characters\n",
    "string2 = list('CGACGATATGTC')  # Split string into individual characters\n",
    "print(\"Hamming distance is:\", hamming(string1, string2))"
   ]
  },
  {
   "cell_type": "markdown",
   "id": "74b634db",
   "metadata": {},
   "source": [
    "### Let's learn the zip_longest function"
   ]
  },
  {
   "cell_type": "code",
   "execution_count": 14,
   "id": "8818e89f",
   "metadata": {},
   "outputs": [
    {
     "name": "stdout",
     "output_type": "stream",
     "text": [
      "(1, 'a')\n",
      "(1, 'b')\n",
      "(None, 'c')\n"
     ]
    }
   ],
   "source": [
    "from itertools import zip_longest\n",
    "\n",
    "list1 = [1, 1]\n",
    "list2 = ['a', 'b', 'c']\n",
    "\n",
    "zipped = zip_longest(list1, list2)\n",
    "\n",
    "for item in zipped:\n",
    "    print(item)"
   ]
  },
  {
   "cell_type": "code",
   "execution_count": 15,
   "id": "b8310f82",
   "metadata": {},
   "outputs": [],
   "source": [
    "def hamming_distance_ratio(str1, str2):\n",
    "\n",
    "    distance = 0\n",
    "\n",
    "    for char1, char2 in zip_longest(str1, str2):\n",
    "        if char1 != char2:\n",
    "            distance += 1\n",
    "            \n",
    "    distance=distance/max(len(str1),len(str2))\n",
    "\n",
    "    return distance"
   ]
  },
  {
   "cell_type": "code",
   "execution_count": 16,
   "id": "31b384bb",
   "metadata": {},
   "outputs": [
    {
     "name": "stdout",
     "output_type": "stream",
     "text": [
      "Hamming distance is: 0.8333333333333334\n"
     ]
    }
   ],
   "source": [
    "string1 = 'AAACCCGGG'\n",
    "string2 = 'CGACGATATGTC'\n",
    "print(\"Hamming distance is:\", hamming_distance_ratio(string1, string2))"
   ]
  },
  {
   "cell_type": "code",
   "execution_count": 17,
   "id": "932d1ece",
   "metadata": {},
   "outputs": [
    {
     "name": "stdout",
     "output_type": "stream",
     "text": [
      "Hamming distance is: 0.8333333333333334\n"
     ]
    }
   ],
   "source": [
    "from scipy.spatial.distance import hamming\n",
    "\n",
    "string1 = list('AAACCCGGGQQQ') # pad with 'Q'\n",
    "string2 = list('CGACGATATGTC')\n",
    "print(\"Hamming distance is:\", hamming(string1, string2))"
   ]
  },
  {
   "cell_type": "markdown",
   "id": "d27f1044",
   "metadata": {},
   "source": [
    "# Exercise"
   ]
  },
  {
   "cell_type": "markdown",
   "id": "825df84f",
   "metadata": {},
   "source": [
    "Write a program to find all pairwise Hamming distances between all sequences in the file `Rosalind_data.fasta` created above."
   ]
  },
  {
   "cell_type": "markdown",
   "id": "cde6b313",
   "metadata": {},
   "source": [
    "# Sequence similarity"
   ]
  },
  {
   "cell_type": "code",
   "execution_count": 18,
   "id": "25213b05",
   "metadata": {},
   "outputs": [],
   "source": [
    "def find_subsequences(seq, subseq):\n",
    "\n",
    "    found = []\n",
    "    last = 0\n",
    "    \n",
    "    while True:\n",
    "        \n",
    "        pos = seq.find(subseq, last) \n",
    "        # find the index of the next occurrence of subseq \n",
    "        # in seq, starting the search from the index last.\n",
    "        # If subseq is found, pos will hold the index of \n",
    "        # its first character in seq. If subseq is not found, \n",
    "        # pos will be set to -1.\n",
    "        \n",
    "        if pos == -1:\n",
    "            break\n",
    "            \n",
    "        found.append(pos + 1)\n",
    "        \n",
    "        last = pos + 1\n",
    "        \n",
    "    return found"
   ]
  },
  {
   "cell_type": "code",
   "execution_count": 19,
   "id": "5188fb42",
   "metadata": {},
   "outputs": [
    {
     "name": "stdout",
     "output_type": "stream",
     "text": [
      "[2, 4, 10]\n"
     ]
    }
   ],
   "source": [
    "seq = 'GATATATGCATATACTT'\n",
    "subseq = 'ATAT'\n",
    "\n",
    "positions=find_subsequences(seq, subseq)\n",
    "print(positions)"
   ]
  },
  {
   "cell_type": "markdown",
   "id": "30b8d394",
   "metadata": {},
   "source": [
    "### Using the walrus operator"
   ]
  },
  {
   "cell_type": "code",
   "execution_count": 20,
   "id": "e2e04fd3",
   "metadata": {},
   "outputs": [],
   "source": [
    "def find_subsequences(seq, subseq):\n",
    "    \n",
    "    found = []\n",
    "    last = 0\n",
    "    \n",
    "    while (pos := seq.find(subseq, last)) != -1:\n",
    "        found.append(pos + 1)\n",
    "        last = pos + 1\n",
    "    \n",
    "    return found"
   ]
  },
  {
   "cell_type": "code",
   "execution_count": 21,
   "id": "0a6107bc",
   "metadata": {},
   "outputs": [
    {
     "name": "stdout",
     "output_type": "stream",
     "text": [
      "[2, 4, 10]\n"
     ]
    }
   ],
   "source": [
    "seq = 'GATATATGCATATACTT'\n",
    "subseq = 'ATAT'\n",
    "\n",
    "positions=find_subsequences(seq, subseq)\n",
    "print(positions)"
   ]
  },
  {
   "cell_type": "markdown",
   "id": "391fc3ec",
   "metadata": {},
   "source": [
    "# Bag of k-mers"
   ]
  },
  {
   "cell_type": "code",
   "execution_count": 22,
   "id": "3e53b252",
   "metadata": {},
   "outputs": [],
   "source": [
    "def find_kmers(sequence, k):\n",
    "    \n",
    "    kmers = []\n",
    "    \n",
    "    for i in range(len(sequence) - k + 1):\n",
    "        kmer = sequence[i:i+k]\n",
    "        kmers.append(kmer)\n",
    "        \n",
    "    return kmers"
   ]
  },
  {
   "cell_type": "code",
   "execution_count": 23,
   "id": "6174e07c",
   "metadata": {},
   "outputs": [
    {
     "name": "stdout",
     "output_type": "stream",
     "text": [
      "['ATC', 'TCG', 'CGA', 'GAT', 'ATC', 'TCG', 'CGA', 'GAT', 'ATC', 'TCG']\n"
     ]
    }
   ],
   "source": [
    "seq = \"ATCGATCGATCG\"\n",
    "k = 3\n",
    "\n",
    "result = find_kmers(seq, k)\n",
    "print(result)"
   ]
  },
  {
   "cell_type": "code",
   "execution_count": 24,
   "id": "0eaab2d7",
   "metadata": {},
   "outputs": [
    {
     "name": "stdout",
     "output_type": "stream",
     "text": [
      "{'ATC': 3, 'TCG': 3, 'CGA': 2, 'GAT': 2}\n"
     ]
    }
   ],
   "source": [
    "def find_kmers(sequence, k):\n",
    "    \n",
    "    kmers = {}\n",
    "    for i in range(len(sequence) - k + 1):\n",
    "        kmer = sequence[i:i+k]\n",
    "        if kmer in kmers:\n",
    "            kmers[kmer] += 1\n",
    "        else:\n",
    "            kmers[kmer] = 1\n",
    "    return kmers\n",
    "\n",
    "sequence = \"ATCGATCGATCG\"\n",
    "k = 3\n",
    "result = find_kmers(sequence, k)\n",
    "print(result)"
   ]
  },
  {
   "cell_type": "code",
   "execution_count": 25,
   "id": "56c183b5",
   "metadata": {},
   "outputs": [
    {
     "name": "stdout",
     "output_type": "stream",
     "text": [
      "[{'A': 3, 'T': 3, 'C': 3, 'G': 3}, {'AT': 3, 'TC': 3, 'CG': 3, 'GA': 2}, {'ATC': 3, 'TCG': 3, 'CGA': 2, 'GAT': 2}, {'ATCG': 3, 'TCGA': 2, 'CGAT': 2, 'GATC': 2}, {'ATCGA': 2, 'TCGAT': 2, 'CGATC': 2, 'GATCG': 2}, {'ATCGAT': 2, 'TCGATC': 2, 'CGATCG': 2, 'GATCGA': 1}, {'ATCGATC': 2, 'TCGATCG': 2, 'CGATCGA': 1, 'GATCGAT': 1}, {'ATCGATCG': 2, 'TCGATCGA': 1, 'CGATCGAT': 1, 'GATCGATC': 1}, {'ATCGATCGA': 1, 'TCGATCGAT': 1, 'CGATCGATC': 1, 'GATCGATCG': 1}, {'ATCGATCGAT': 1, 'TCGATCGATC': 1, 'CGATCGATCG': 1}, {'ATCGATCGATC': 1, 'TCGATCGATCG': 1}]\n"
     ]
    }
   ],
   "source": [
    "bag=[]\n",
    "for k in range(1,len(seq)):\n",
    "    result = find_kmers(seq, k)\n",
    "    bag.append(result)\n",
    "\n",
    "print(bag)"
   ]
  },
  {
   "cell_type": "markdown",
   "id": "ecfcce0f",
   "metadata": {},
   "source": [
    "# Similarity metric"
   ]
  },
  {
   "cell_type": "code",
   "execution_count": 26,
   "id": "3e37f90e",
   "metadata": {},
   "outputs": [],
   "source": [
    "seq1 = \"ATCGATCGATCG\"\n",
    "seq2 = \"ATCGATCGTAGC\""
   ]
  },
  {
   "cell_type": "code",
   "execution_count": 27,
   "id": "1c8f8d10",
   "metadata": {},
   "outputs": [
    {
     "name": "stdout",
     "output_type": "stream",
     "text": [
      "{'ATC': 3, 'TCG': 3, 'CGA': 2, 'GAT': 2}\n"
     ]
    }
   ],
   "source": [
    "k=3\n",
    "result1 = find_kmers(seq1, k)\n",
    "bag.append(result1)\n",
    "print(result1)"
   ]
  },
  {
   "cell_type": "code",
   "execution_count": 28,
   "id": "b319169b",
   "metadata": {},
   "outputs": [
    {
     "name": "stdout",
     "output_type": "stream",
     "text": [
      "{'ATC': 2, 'TCG': 2, 'CGA': 1, 'GAT': 1, 'CGT': 1, 'GTA': 1, 'TAG': 1, 'AGC': 1}\n"
     ]
    }
   ],
   "source": [
    "k=3\n",
    "result2 = find_kmers(seq2, k)\n",
    "bag.append(result2)\n",
    "print(result2)"
   ]
  },
  {
   "cell_type": "code",
   "execution_count": 29,
   "id": "4382da0d",
   "metadata": {},
   "outputs": [],
   "source": [
    "from collections import Counter\n",
    "\n",
    "def dict_union(result1, result2):\n",
    "    union = Counter(result1)\n",
    "    union.update(result2)\n",
    "    return dict(union)\n",
    "\n",
    "def dict_intersection(result1, result2):\n",
    "    intersection = {}\n",
    "    for key in result1:\n",
    "        if key in result2:\n",
    "            intersection[key] = min(result1[key], result2[key])\n",
    "    return intersection"
   ]
  },
  {
   "cell_type": "code",
   "execution_count": 30,
   "id": "f828fa68",
   "metadata": {},
   "outputs": [],
   "source": [
    "seq1 = \"ATCGATCGATCG\"\n",
    "seq2 = \"ATCGATCGTAGC\""
   ]
  },
  {
   "cell_type": "code",
   "execution_count": 31,
   "id": "8a20c8f7",
   "metadata": {},
   "outputs": [
    {
     "name": "stdout",
     "output_type": "stream",
     "text": [
      "{'AT': 3, 'TC': 3, 'CG': 3, 'GA': 2}\n",
      "{'AT': 2, 'TC': 2, 'CG': 2, 'GA': 1, 'GT': 1, 'TA': 1, 'AG': 1, 'GC': 1}\n",
      "Intersection: {'AT': 2, 'TC': 2, 'CG': 2, 'GA': 1}\n",
      "Union: {'AT': 5, 'TC': 5, 'CG': 5, 'GA': 3, 'GT': 1, 'TA': 1, 'AG': 1, 'GC': 1}\n"
     ]
    }
   ],
   "source": [
    "k = 2\n",
    "\n",
    "result1 = find_kmers(seq1, k)\n",
    "bag.append(result1)\n",
    "\n",
    "print(result1)\n",
    "\n",
    "result2 = find_kmers(seq2, k)\n",
    "bag.append(result2)\n",
    "\n",
    "print(result2)\n",
    "intersection_dict = dict_intersection(result1, result2)\n",
    "print(\"Intersection:\", intersection_dict)\n",
    "\n",
    "union_dict = dict_union(result1, result2)\n",
    "print(\"Union:\", union_dict)"
   ]
  },
  {
   "cell_type": "code",
   "execution_count": 32,
   "id": "56497ff6",
   "metadata": {},
   "outputs": [
    {
     "name": "stdout",
     "output_type": "stream",
     "text": [
      "{'ATC': 3, 'TCG': 3, 'CGA': 2, 'GAT': 2}\n",
      "{'ATC': 2, 'TCG': 2, 'CGA': 1, 'GAT': 1, 'CGT': 1, 'GTA': 1, 'TAG': 1, 'AGC': 1}\n",
      "Intersection: {'ATC': 2, 'TCG': 2, 'CGA': 1, 'GAT': 1}\n",
      "Union: {'ATC': 5, 'TCG': 5, 'CGA': 3, 'GAT': 3, 'CGT': 1, 'GTA': 1, 'TAG': 1, 'AGC': 1}\n"
     ]
    }
   ],
   "source": [
    "k = 3\n",
    "\n",
    "result1 = find_kmers(seq1, k)\n",
    "bag.append(result1)\n",
    "\n",
    "print(result1)\n",
    "\n",
    "result2 = find_kmers(seq2, k)\n",
    "bag.append(result2)\n",
    "\n",
    "print(result2)\n",
    "intersection_dict = dict_intersection(result1, result2)\n",
    "print(\"Intersection:\", intersection_dict)\n",
    "\n",
    "union_dict = dict_union(result1, result2)\n",
    "print(\"Union:\", union_dict)"
   ]
  },
  {
   "cell_type": "code",
   "execution_count": 33,
   "id": "f4be70c6",
   "metadata": {},
   "outputs": [],
   "source": [
    "def intersection_union_ratio(dict1, dict2):\n",
    "    \n",
    "    #intersection_size = len(set(dict1.keys()) & set(dict2.keys()))\n",
    "    #union_size = len(set(dict1.keys()) | set(dict2.keys()))\n",
    "    \n",
    "    intersection_size = len((dict1.keys()) & (dict2.keys()))\n",
    "    union_size = len((dict1.keys()) | (dict2.keys()))\n",
    "    \n",
    "    ratio = intersection_size / union_size if union_size != 0 else 0  # Handle division by zero\n",
    "    \n",
    "    return ratio\n",
    "\n",
    "seq1 = \"ATCGATCGATCG\"\n",
    "seq2 = \"ATCGATCGTAGC\""
   ]
  },
  {
   "cell_type": "code",
   "execution_count": 34,
   "id": "23ecbb39",
   "metadata": {},
   "outputs": [
    {
     "name": "stdout",
     "output_type": "stream",
     "text": [
      "{'ATC': 3, 'TCG': 3, 'CGA': 2, 'GAT': 2}\n",
      "{'ATC': 2, 'TCG': 2, 'CGA': 1, 'GAT': 1, 'CGT': 1, 'GTA': 1, 'TAG': 1, 'AGC': 1}\n",
      "Intersection: {'ATC': 2, 'TCG': 2, 'CGA': 1, 'GAT': 1}\n",
      "Union: {'ATC': 5, 'TCG': 5, 'CGA': 3, 'GAT': 3, 'CGT': 1, 'GTA': 1, 'TAG': 1, 'AGC': 1}\n",
      "Similarity: 0.5\n"
     ]
    }
   ],
   "source": [
    "k = 3\n",
    "\n",
    "result1 = find_kmers(seq1, k)\n",
    "bag.append(result1)\n",
    "\n",
    "print(result1)\n",
    "\n",
    "result2 = find_kmers(seq2, k)\n",
    "bag.append(result2)\n",
    "\n",
    "print(result2)\n",
    "\n",
    "intersection_dict = dict_intersection(result1, result2)\n",
    "print(\"Intersection:\", intersection_dict)\n",
    "\n",
    "union_dict = dict_union(result1, result2)\n",
    "print(\"Union:\", union_dict)\n",
    "\n",
    "score = intersection_union_ratio(result1, result2)\n",
    "print(\"Similarity:\", score)"
   ]
  },
  {
   "cell_type": "code",
   "execution_count": 35,
   "id": "d3e03dd3",
   "metadata": {},
   "outputs": [
    {
     "name": "stdout",
     "output_type": "stream",
     "text": [
      "{'ATCGAT': 2, 'TCGATC': 2, 'CGATCG': 2, 'GATCGA': 1}\n",
      "{'ATCGAT': 1, 'TCGATC': 1, 'CGATCG': 1, 'GATCGT': 1, 'ATCGTA': 1, 'TCGTAG': 1, 'CGTAGC': 1}\n",
      "Intersection: {'ATCGAT': 1, 'TCGATC': 1, 'CGATCG': 1}\n",
      "Union: {'ATCGAT': 3, 'TCGATC': 3, 'CGATCG': 3, 'GATCGA': 1, 'GATCGT': 1, 'ATCGTA': 1, 'TCGTAG': 1, 'CGTAGC': 1}\n",
      "Similarity: 0.375\n"
     ]
    }
   ],
   "source": [
    "k = 6\n",
    "\n",
    "result1 = find_kmers(seq1, k)\n",
    "bag.append(result1)\n",
    "\n",
    "print(result1)\n",
    "\n",
    "result2 = find_kmers(seq2, k)\n",
    "bag.append(result2)\n",
    "\n",
    "print(result2)\n",
    "\n",
    "intersection_dict = dict_intersection(result1, result2)\n",
    "print(\"Intersection:\", intersection_dict)\n",
    "\n",
    "union_dict = dict_union(result1, result2)\n",
    "print(\"Union:\", union_dict)\n",
    "\n",
    "score = intersection_union_ratio(result1, result2)\n",
    "print(\"Similarity:\", score)"
   ]
  },
  {
   "cell_type": "markdown",
   "id": "4c5106a3",
   "metadata": {},
   "source": [
    "# Sequence alignment  using the Needleman-Wunsch algorithm in Biopython"
   ]
  },
  {
   "cell_type": "markdown",
   "id": "85ca8c59",
   "metadata": {},
   "source": [
    "[https://en.wikipedia.org/wiki/Needleman%E2%80%93Wunsch_algorithm](https://en.wikipedia.org/wiki/Needleman%E2%80%93Wunsch_algorithm)"
   ]
  },
  {
   "cell_type": "markdown",
   "id": "defbf6c6",
   "metadata": {},
   "source": [
    "The BLAST (Basic Local Alignment Search Tool) online tool is here [https://blast.ncbi.nlm.nih.gov/Blast.cgi?PAGE_TYPE=BlastSearch&BLAST_SPEC=GlobalAln](https://blast.ncbi.nlm.nih.gov/Blast.cgi?PAGE_TYPE=BlastSearch&BLAST_SPEC=GlobalAln)"
   ]
  },
  {
   "cell_type": "code",
   "execution_count": 36,
   "id": "12b8920a",
   "metadata": {},
   "outputs": [
    {
     "name": "stdout",
     "output_type": "stream",
     "text": [
      "ACTGGTG\n",
      "||.|||.\n",
      "ACCGGTA\n",
      "  Score=3\n",
      "\n"
     ]
    },
    {
     "name": "stderr",
     "output_type": "stream",
     "text": [
      "/Users/rr/opt/anaconda3/lib/python3.9/site-packages/Bio/pairwise2.py:278: BiopythonDeprecationWarning: Bio.pairwise2 has been deprecated, and we intend to remove it in a future release of Biopython. As an alternative, please consider using Bio.Align.PairwiseAligner as a replacement, and contact the Biopython developers if you still need the Bio.pairwise2 module.\n",
      "  warnings.warn(\n"
     ]
    }
   ],
   "source": [
    "from Bio import pairwise2\n",
    "from Bio.Seq import Seq\n",
    "\n",
    "seq1 = Seq(\"ACTGGTG\")\n",
    "seq2 = Seq(\"ACCGGTA\")\n",
    "\n",
    "alignments = pairwise2.align.globalms(seq1, seq2, 1, -1, -1, -1)\n",
    "# Match score is set to 1 (1).\n",
    "# Mismatch score is set to -1 (-1).\n",
    "# Gap opening penalty is set to -1 (-1).\n",
    "# Gap extension penalty is set to -1 (-1).\n",
    "\n",
    "# Extract the first alignment (optimal alignment)\n",
    "alignment = alignments[0]\n",
    "\n",
    "# Print the alignment\n",
    "print(pairwise2.format_alignment(*alignment))"
   ]
  },
  {
   "cell_type": "code",
   "execution_count": 37,
   "id": "1a5c2b76",
   "metadata": {},
   "outputs": [
    {
     "name": "stdout",
     "output_type": "stream",
     "text": [
      "ATCGGGCTGGTG\n",
      "|.|||||.|||.\n",
      "AGCGGGCCGGTA\n",
      "  Score=6\n",
      "\n"
     ]
    }
   ],
   "source": [
    "seq1 = Seq(\"ATCGGGCTGGTG\")\n",
    "seq2 = Seq(\"AGCGGGCCGGTA\")\n",
    "\n",
    "alignments = pairwise2.align.globalms(seq1, seq2, 1, -1, -1, -1)\n",
    "\n",
    "alignment = alignments[0]\n",
    "\n",
    "print(pairwise2.format_alignment(*alignment))"
   ]
  },
  {
   "cell_type": "markdown",
   "id": "6a5fb95c",
   "metadata": {},
   "source": [
    "### Example to understand Gap opening/extention penalties"
   ]
  },
  {
   "cell_type": "code",
   "execution_count": 38,
   "id": "d1d8ec37",
   "metadata": {},
   "outputs": [
    {
     "name": "stdout",
     "output_type": "stream",
     "text": [
      "ATGC\n",
      "|  |\n",
      "A--C\n",
      "  Score=0\n",
      "\n"
     ]
    }
   ],
   "source": [
    "seq1 = Seq(\"ATGC\")\n",
    "seq2 = Seq(\"AC\")\n",
    "\n",
    "alignments = pairwise2.align.globalms(seq1, seq2, 1, -1, -1, -1)\n",
    "\n",
    "alignment = alignments[0]\n",
    "\n",
    "print(pairwise2.format_alignment(*alignment))"
   ]
  },
  {
   "cell_type": "markdown",
   "id": "b3937ab1",
   "metadata": {},
   "source": [
    "There are two matches, so the score is 1 + 1, but we have a gap at second position 'T' for which a penalty -1 is applied. The gap extends by one more base, so another penalty of -1. So the overall score is 1+1-1-1=0"
   ]
  },
  {
   "cell_type": "markdown",
   "id": "bc4350cb",
   "metadata": {},
   "source": [
    "### Another example"
   ]
  },
  {
   "cell_type": "code",
   "execution_count": 39,
   "id": "3e310b5d",
   "metadata": {},
   "outputs": [
    {
     "name": "stdout",
     "output_type": "stream",
     "text": [
      "ATGAC\n",
      "   ||\n",
      "---AC\n",
      "  Score=-1\n",
      "\n"
     ]
    }
   ],
   "source": [
    "seq1 = Seq(\"ATGAC\")\n",
    "seq2 = Seq(\"AC\")\n",
    "\n",
    "alignments = pairwise2.align.globalms(seq1, seq2, 1, -1, -1, -1)\n",
    "\n",
    "alignment = alignments[0]\n",
    "\n",
    "print(pairwise2.format_alignment(*alignment))"
   ]
  },
  {
   "cell_type": "markdown",
   "id": "5c60e907",
   "metadata": {},
   "source": [
    "# Using predefined scores"
   ]
  },
  {
   "cell_type": "markdown",
   "id": "a5cb767b",
   "metadata": {},
   "source": [
    "[https://en.wikipedia.org/wiki/BLOSUM](https://en.wikipedia.org/wiki/BLOSUM)"
   ]
  },
  {
   "cell_type": "code",
   "execution_count": 40,
   "id": "7efee05a",
   "metadata": {},
   "outputs": [
    {
     "name": "stdout",
     "output_type": "stream",
     "text": [
      "#  Matrix made by matblas from blosum62.iij\n",
      "#  * column uses minimum score\n",
      "#  BLOSUM Clustered Scoring Matrix in 1/2 Bit Units\n",
      "#  Blocks Database = /data/blocks_5.0/blocks.dat\n",
      "#  Cluster Percentage: >= 62\n",
      "#  Entropy =   0.6979, Expected =  -0.5209\n",
      "     A    R    N    D    C    Q    E    G    H    I    L    K    M    F    P    S    T    W    Y    V    B    Z    X    *\n",
      "A  4.0 -1.0 -2.0 -2.0  0.0 -1.0 -1.0  0.0 -2.0 -1.0 -1.0 -1.0 -1.0 -2.0 -1.0  1.0  0.0 -3.0 -2.0  0.0 -2.0 -1.0  0.0 -4.0\n",
      "R -1.0  5.0  0.0 -2.0 -3.0  1.0  0.0 -2.0  0.0 -3.0 -2.0  2.0 -1.0 -3.0 -2.0 -1.0 -1.0 -3.0 -2.0 -3.0 -1.0  0.0 -1.0 -4.0\n",
      "N -2.0  0.0  6.0  1.0 -3.0  0.0  0.0  0.0  1.0 -3.0 -3.0  0.0 -2.0 -3.0 -2.0  1.0  0.0 -4.0 -2.0 -3.0  3.0  0.0 -1.0 -4.0\n",
      "D -2.0 -2.0  1.0  6.0 -3.0  0.0  2.0 -1.0 -1.0 -3.0 -4.0 -1.0 -3.0 -3.0 -1.0  0.0 -1.0 -4.0 -3.0 -3.0  4.0  1.0 -1.0 -4.0\n",
      "C  0.0 -3.0 -3.0 -3.0  9.0 -3.0 -4.0 -3.0 -3.0 -1.0 -1.0 -3.0 -1.0 -2.0 -3.0 -1.0 -1.0 -2.0 -2.0 -1.0 -3.0 -3.0 -2.0 -4.0\n",
      "Q -1.0  1.0  0.0  0.0 -3.0  5.0  2.0 -2.0  0.0 -3.0 -2.0  1.0  0.0 -3.0 -1.0  0.0 -1.0 -2.0 -1.0 -2.0  0.0  3.0 -1.0 -4.0\n",
      "E -1.0  0.0  0.0  2.0 -4.0  2.0  5.0 -2.0  0.0 -3.0 -3.0  1.0 -2.0 -3.0 -1.0  0.0 -1.0 -3.0 -2.0 -2.0  1.0  4.0 -1.0 -4.0\n",
      "G  0.0 -2.0  0.0 -1.0 -3.0 -2.0 -2.0  6.0 -2.0 -4.0 -4.0 -2.0 -3.0 -3.0 -2.0  0.0 -2.0 -2.0 -3.0 -3.0 -1.0 -2.0 -1.0 -4.0\n",
      "H -2.0  0.0  1.0 -1.0 -3.0  0.0  0.0 -2.0  8.0 -3.0 -3.0 -1.0 -2.0 -1.0 -2.0 -1.0 -2.0 -2.0  2.0 -3.0  0.0  0.0 -1.0 -4.0\n",
      "I -1.0 -3.0 -3.0 -3.0 -1.0 -3.0 -3.0 -4.0 -3.0  4.0  2.0 -3.0  1.0  0.0 -3.0 -2.0 -1.0 -3.0 -1.0  3.0 -3.0 -3.0 -1.0 -4.0\n",
      "L -1.0 -2.0 -3.0 -4.0 -1.0 -2.0 -3.0 -4.0 -3.0  2.0  4.0 -2.0  2.0  0.0 -3.0 -2.0 -1.0 -2.0 -1.0  1.0 -4.0 -3.0 -1.0 -4.0\n",
      "K -1.0  2.0  0.0 -1.0 -3.0  1.0  1.0 -2.0 -1.0 -3.0 -2.0  5.0 -1.0 -3.0 -1.0  0.0 -1.0 -3.0 -2.0 -2.0  0.0  1.0 -1.0 -4.0\n",
      "M -1.0 -1.0 -2.0 -3.0 -1.0  0.0 -2.0 -3.0 -2.0  1.0  2.0 -1.0  5.0  0.0 -2.0 -1.0 -1.0 -1.0 -1.0  1.0 -3.0 -1.0 -1.0 -4.0\n",
      "F -2.0 -3.0 -3.0 -3.0 -2.0 -3.0 -3.0 -3.0 -1.0  0.0  0.0 -3.0  0.0  6.0 -4.0 -2.0 -2.0  1.0  3.0 -1.0 -3.0 -3.0 -1.0 -4.0\n",
      "P -1.0 -2.0 -2.0 -1.0 -3.0 -1.0 -1.0 -2.0 -2.0 -3.0 -3.0 -1.0 -2.0 -4.0  7.0 -1.0 -1.0 -4.0 -3.0 -2.0 -2.0 -1.0 -2.0 -4.0\n",
      "S  1.0 -1.0  1.0  0.0 -1.0  0.0  0.0  0.0 -1.0 -2.0 -2.0  0.0 -1.0 -2.0 -1.0  4.0  1.0 -3.0 -2.0 -2.0  0.0  0.0  0.0 -4.0\n",
      "T  0.0 -1.0  0.0 -1.0 -1.0 -1.0 -1.0 -2.0 -2.0 -1.0 -1.0 -1.0 -1.0 -2.0 -1.0  1.0  5.0 -2.0 -2.0  0.0 -1.0 -1.0  0.0 -4.0\n",
      "W -3.0 -3.0 -4.0 -4.0 -2.0 -2.0 -3.0 -2.0 -2.0 -3.0 -2.0 -3.0 -1.0  1.0 -4.0 -3.0 -2.0 11.0  2.0 -3.0 -4.0 -3.0 -2.0 -4.0\n",
      "Y -2.0 -2.0 -2.0 -3.0 -2.0 -1.0 -2.0 -3.0  2.0 -1.0 -1.0 -2.0 -1.0  3.0 -3.0 -2.0 -2.0  2.0  7.0 -1.0 -3.0 -2.0 -1.0 -4.0\n",
      "V  0.0 -3.0 -3.0 -3.0 -1.0 -2.0 -2.0 -3.0 -3.0  3.0  1.0 -2.0  1.0 -1.0 -2.0 -2.0  0.0 -3.0 -1.0  4.0 -3.0 -2.0 -1.0 -4.0\n",
      "B -2.0 -1.0  3.0  4.0 -3.0  0.0  1.0 -1.0  0.0 -3.0 -4.0  0.0 -3.0 -3.0 -2.0  0.0 -1.0 -4.0 -3.0 -3.0  4.0  1.0 -1.0 -4.0\n",
      "Z -1.0  0.0  0.0  1.0 -3.0  3.0  4.0 -2.0  0.0 -3.0 -3.0  1.0 -1.0 -3.0 -1.0  0.0 -1.0 -3.0 -2.0 -2.0  1.0  4.0 -1.0 -4.0\n",
      "X  0.0 -1.0 -1.0 -1.0 -2.0 -1.0 -1.0 -1.0 -1.0 -1.0 -1.0 -1.0 -1.0 -1.0 -2.0  0.0  0.0 -2.0 -1.0 -1.0 -1.0 -1.0 -1.0 -4.0\n",
      "* -4.0 -4.0 -4.0 -4.0 -4.0 -4.0 -4.0 -4.0 -4.0 -4.0 -4.0 -4.0 -4.0 -4.0 -4.0 -4.0 -4.0 -4.0 -4.0 -4.0 -4.0 -4.0 -4.0  1.0\n",
      "\n"
     ]
    }
   ],
   "source": [
    "from Bio.Align import substitution_matrices\n",
    "\n",
    "# Load the BLOSUM62 substitution matrix\n",
    "# BLOSUM62 is the matrix built using sequences with less than 62% similarity\n",
    "blosum62 = substitution_matrices.load(\"BLOSUM62\")\n",
    "\n",
    "# Access and print the entire matrix\n",
    "print(blosum62)"
   ]
  },
  {
   "cell_type": "code",
   "execution_count": 41,
   "id": "06ea89a1",
   "metadata": {},
   "outputs": [
    {
     "name": "stdout",
     "output_type": "stream",
     "text": [
      "ATGC\n",
      "|  |\n",
      "A--C\n",
      "  Score=11\n",
      "\n"
     ]
    }
   ],
   "source": [
    "from Bio import pairwise2\n",
    "from Bio.Seq import Seq\n",
    "from Bio.Align import substitution_matrices\n",
    "\n",
    "# Define the sequences\n",
    "seq1 = Seq(\"ATGC\")\n",
    "seq2 = Seq(\"AC\")\n",
    "\n",
    "# Define a substitution matrix (optional)\n",
    "substitution_matrix = substitution_matrices.load(\"BLOSUM62\")\n",
    "\n",
    "# Perform global alignment\n",
    "alignments = pairwise2.align.globalds(seq1, seq2, substitution_matrix, -1, -1)\n",
    "\n",
    "# Extract the first alignment (optimal alignment)\n",
    "alignment = alignments[0]\n",
    "\n",
    "# Print the alignment\n",
    "print(pairwise2.format_alignment(*alignment))"
   ]
  },
  {
   "cell_type": "markdown",
   "id": "dc6785db",
   "metadata": {},
   "source": [
    "# Other scoring matrices"
   ]
  },
  {
   "cell_type": "code",
   "execution_count": 42,
   "id": "362180e5",
   "metadata": {},
   "outputs": [
    {
     "data": {
      "text/plain": [
       "['BENNER22',\n",
       " 'BENNER6',\n",
       " 'BENNER74',\n",
       " 'BLASTN',\n",
       " 'BLASTP',\n",
       " 'BLOSUM45',\n",
       " 'BLOSUM50',\n",
       " 'BLOSUM62',\n",
       " 'BLOSUM80',\n",
       " 'BLOSUM90',\n",
       " 'DAYHOFF',\n",
       " 'FENG',\n",
       " 'GENETIC',\n",
       " 'GONNET1992',\n",
       " 'HOXD70',\n",
       " 'JOHNSON',\n",
       " 'JONES',\n",
       " 'LEVIN',\n",
       " 'MCLACHLAN',\n",
       " 'MDM78',\n",
       " 'MEGABLAST',\n",
       " 'NUC.4.4',\n",
       " 'PAM250',\n",
       " 'PAM30',\n",
       " 'PAM70',\n",
       " 'RAO',\n",
       " 'RISLER',\n",
       " 'SCHNEIDER',\n",
       " 'STR',\n",
       " 'TRANS']"
      ]
     },
     "execution_count": 42,
     "metadata": {},
     "output_type": "execute_result"
    }
   ],
   "source": [
    "from Bio.Align import substitution_matrices\n",
    "\n",
    "substitution_matrices.load()"
   ]
  },
  {
   "cell_type": "markdown",
   "id": "666b6016",
   "metadata": {},
   "source": [
    "PAM is another popular scoring scheme\n",
    "[https://en.wikipedia.org/wiki/Point_accepted_mutation](https://en.wikipedia.org/wiki/Point_accepted_mutation)"
   ]
  },
  {
   "cell_type": "code",
   "execution_count": null,
   "id": "931b4b03",
   "metadata": {},
   "outputs": [],
   "source": []
  }
 ],
 "metadata": {
  "kernelspec": {
   "display_name": "Python 3 (ipykernel)",
   "language": "python",
   "name": "python3"
  },
  "language_info": {
   "codemirror_mode": {
    "name": "ipython",
    "version": 3
   },
   "file_extension": ".py",
   "mimetype": "text/x-python",
   "name": "python",
   "nbconvert_exporter": "python",
   "pygments_lexer": "ipython3",
   "version": "3.9.13"
  }
 },
 "nbformat": 4,
 "nbformat_minor": 5
}
