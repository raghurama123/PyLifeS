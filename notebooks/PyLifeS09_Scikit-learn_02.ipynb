{
 "cells": [
  {
   "cell_type": "markdown",
   "id": "d4c2b924",
   "metadata": {},
   "source": [
    "# Classification of iris flowers using a linear classifier</a>"
   ]
  },
  {
   "cell_type": "markdown",
   "id": "cf1c02ff",
   "metadata": {},
   "source": [
    "Classification is an important technique in data analysis. For example, one would like to develop a model to classify hand-written characters into one of the alphabets in a language. There are several methods for such problems, each can be tailored to the dataset at hand and and their degree of robustness can be improved to various extents.\n",
    "\n",
    "To begin with, we will apply a classification algorithm on an entire dataset, i.e., without paritioning the data into training and test sets. "
   ]
  },
  {
   "cell_type": "markdown",
   "id": "20b7926e",
   "metadata": {},
   "source": [
    "## Two-variables classification using sepal length and sepal width"
   ]
  },
  {
   "cell_type": "markdown",
   "id": "8f5630da",
   "metadata": {},
   "source": [
    "### Let's recall why we are standarizing the data"
   ]
  },
  {
   "cell_type": "markdown",
   "id": "57d78399",
   "metadata": {},
   "source": [
    "The `StandardScaler` function in scikit-learn is used for standardizing features by removing the mean and scaling them to unit variance. Standardization of datasets is a common requirement for many machine learning estimators.\n",
    "\n",
    "- **Mean Removal**: It calculates the mean of the feature and then subtracts this mean from each feature value. This ensures that the mean of the transformed feature is zero.\n",
    "\n",
    "- **Variance Scaling**: After subtracting the mean, it scales the feature values so that they have unit variance. This is achieved by dividing each feature value by the standard deviation of the feature.\n",
    "\n",
    "$ z = \\frac{{x - \\mu}}{{\\sigma}} $, where\n",
    "\n",
    "- $x$ is the original feature value.\n",
    "- $\\mu$ is the mean of the feature.\n",
    "- $\\sigma$ is the standard deviation of the feature.\n",
    "- $z$ is the standardized feature value."
   ]
  },
  {
   "cell_type": "code",
   "execution_count": 37,
   "id": "20deef2d",
   "metadata": {},
   "outputs": [],
   "source": [
    "import numpy as np\n",
    "from sklearn.preprocessing import StandardScaler"
   ]
  },
  {
   "cell_type": "code",
   "execution_count": 38,
   "id": "0666e099",
   "metadata": {},
   "outputs": [
    {
     "name": "stdout",
     "output_type": "stream",
     "text": [
      "Original data:\n",
      "[[1]\n",
      " [1]\n",
      " [2]\n",
      " [3]\n",
      " [4]]\n",
      "Mean: 2.2\n",
      "Standard deviation: 1.16619037896906\n",
      "\n",
      "Scaled data:\n",
      "[[-1.02899151]\n",
      " [-1.02899151]\n",
      " [-0.17149859]\n",
      " [ 0.68599434]\n",
      " [ 1.54348727]]\n",
      "Mean: -1.3322676295501878e-16\n",
      "Standard deviation: 1.0000000000000002\n"
     ]
    }
   ],
   "source": [
    "# Create a sample dataset\n",
    "data = np.array([1,1,2,3,4])\n",
    "data = data.reshape(-1, 1)\n",
    "\n",
    "print(\"Original data:\")\n",
    "print(data)\n",
    "print('Mean:',np.mean(data))\n",
    "print('Standard deviation:',np.std(data))\n",
    "\n",
    "# Initialize StandardScaler\n",
    "scaler = StandardScaler()\n",
    "\n",
    "# Fit the scaler to the data and transform the data\n",
    "scaled_data = scaler.fit_transform(data)\n",
    "print(\"\\nScaled data:\")\n",
    "print(scaled_data)\n",
    "print('Mean:',np.mean(scaled_data))\n",
    "print('Standard deviation:',np.std(scaled_data))"
   ]
  },
  {
   "cell_type": "markdown",
   "id": "ad86c387",
   "metadata": {},
   "source": [
    "### Let's visualize the iris dataset as a map in these two variables."
   ]
  },
  {
   "cell_type": "code",
   "execution_count": 39,
   "id": "f37941f0",
   "metadata": {},
   "outputs": [],
   "source": [
    "from sklearn import datasets\n",
    "\n",
    "iris = datasets.load_iris()\n",
    "\n",
    "x_iris, y_iris = iris.data, iris.target\n",
    "\n",
    "sc = StandardScaler()\n",
    "x_iris = sc.fit_transform(x_iris)"
   ]
  },
  {
   "cell_type": "code",
   "execution_count": 40,
   "id": "9b3f3a4f",
   "metadata": {},
   "outputs": [],
   "source": [
    "colors=list()\n",
    "palette={0:'red',1:'green',2:'blue'} # Recall, print(iris.target_names) = ['setosa' 'versicolor' 'virginica']\n",
    "\n",
    "N_data=iris.data.shape[0]\n",
    "\n",
    "for i_data in range(N_data):\n",
    "    i_color=int(iris.target[i_data])\n",
    "    colors.append(palette[i_color])"
   ]
  },
  {
   "cell_type": "code",
   "execution_count": 41,
   "id": "9d98b546",
   "metadata": {},
   "outputs": [
    {
     "data": {
      "image/png": "[encoded data removed]",
      "text/plain": [
       "<Figure size 600x600 with 1 Axes>"
      ]
     },
     "metadata": {},
     "output_type": "display_data"
    }
   ],
   "source": [
    "import matplotlib.pyplot as plt\n",
    "\n",
    "colors_list=['red','greenyellow','blue']\n",
    "fig, axes = plt.subplots(figsize=(6,6))\n",
    "for i in range(len(colors_list)):\n",
    "    xs=x_iris[:,0][y_iris==i]\n",
    "    ys=x_iris[:,1][y_iris==i]\n",
    "    axes.scatter(xs,ys,c=colors_list[i])\n",
    "plt.legend(iris.target_names)\n",
    "plt.xlabel('Sepal length')\n",
    "plt.ylabel('Sepal width')\n",
    "plt.show()"
   ]
  },
  {
   "cell_type": "markdown",
   "id": "a7534d46",
   "metadata": {},
   "source": [
    "##  Linear classification using stochastic gradient descent"
   ]
  },
  {
   "cell_type": "markdown",
   "id": "b4fd2a50",
   "metadata": {},
   "source": [
    "In this method, classification is done by separating each species from the rest by _hyperplanes_ in the _feature space_. In the 2D space, these hyperplanes are straight lines. "
   ]
  },
  {
   "cell_type": "code",
   "execution_count": 2,
   "id": "0eafc4e1",
   "metadata": {},
   "outputs": [],
   "source": [
    "from sklearn.linear_model import SGDClassifier\n",
    "\n",
    "# The classification model is stochastic gradient classifier\n",
    "clf_model=SGDClassifier()\n",
    "\n",
    "# We will use sepal length/width as features\n",
    "features=x_iris[:,0:2]\n",
    "\n",
    "# Label needed for classification are 0,1,2\n",
    "label=y_iris\n",
    "\n",
    "# Fit\n",
    "clf_model.fit(features, label)\n",
    "\n",
    "# Coefficients and intercepts to define the hyperplane\n",
    "coeffs=clf_model.coef_\n",
    "intercept=clf_model.intercept_"
   ]
  },
  {
   "cell_type": "markdown",
   "id": "43a2419c",
   "metadata": {},
   "source": [
    "### Visualize the hyerplanes"
   ]
  },
  {
   "cell_type": "markdown",
   "id": "85d702cb",
   "metadata": {},
   "source": [
    "Since we have three labels, we will have three hyperplanes each defined in terms of coefficients and intercepts. "
   ]
  },
  {
   "cell_type": "code",
   "execution_count": 3,
   "id": "df95e66a",
   "metadata": {},
   "outputs": [
    {
     "name": "stdout",
     "output_type": "stream",
     "text": [
      "[[-26.78897048  14.40214322]\n",
      " [ -1.88882105  -4.18648315]\n",
      " [  8.40106741   0.96620786]]\n"
     ]
    }
   ],
   "source": [
    "print(coeffs)"
   ]
  },
  {
   "cell_type": "code",
   "execution_count": 4,
   "id": "f3f607c6",
   "metadata": {},
   "outputs": [
    {
     "name": "stdout",
     "output_type": "stream",
     "text": [
      "[-14.64465396  -3.49123871  -1.21944525]\n"
     ]
    }
   ],
   "source": [
    "print(intercept)"
   ]
  },
  {
   "cell_type": "markdown",
   "id": "3bcb5501",
   "metadata": {},
   "source": [
    "The first hyperplane is defined by the equation $i_1 + c_{11} x_1 + c_{12} x_2=0 \\Rightarrow x_2 = -i_1/c_{12} - c_{11}/c_{12} x_1=(-i_1-c_{11}x_1)/c_{12}$, which is an equation of a straight line. "
   ]
  },
  {
   "cell_type": "code",
   "execution_count": 5,
   "id": "6705de5c",
   "metadata": {},
   "outputs": [
    {
     "data": {
      "image/png": "[encoded data removed]",
      "text/plain": [
       "<Figure size 1500x1500 with 3 Axes>"
      ]
     },
     "metadata": {},
     "output_type": "display_data"
    }
   ],
   "source": [
    "x1_min, x1_max = -4, 4 # x-range\n",
    "x2_min, x2_max = -4, 4 # y-range\n",
    "\n",
    "xs = np.arange(x1_min, x1_max, 0.5)\n",
    "\n",
    "fig, axes = plt.subplots(1,3,figsize=(15,15))\n",
    "\n",
    "for i in [0, 1, 2]:\n",
    "    axes[i].set_aspect(1.0)\n",
    "    axes[i].set_title('Class '+str(i)+' from the rest')\n",
    "    axes[i].set_xlim(x1_min, x1_max)\n",
    "    axes[i].set_ylim(x2_min, x2_max)\n",
    "    axes[i].scatter(features[:,0], features[:,1], c=colors)\n",
    "    ys=(-intercept[i]-xs*coeffs[i,0])/coeffs[i,1]   # straight line\n",
    "    axes[i].plot(xs,ys)"
   ]
  },
  {
   "cell_type": "markdown",
   "id": "59ea6899",
   "metadata": {},
   "source": [
    "From the first plot it appears that we can easily separate (i.e. classify) the class-0 from the other classes with a  straight line in the plane splanned by sepal length and sepal width. From the second and third plot, we see hat it is hard to classify between class-1 and class-2."
   ]
  },
  {
   "cell_type": "code",
   "execution_count": 6,
   "id": "4bd510d9",
   "metadata": {},
   "outputs": [],
   "source": [
    "from sklearn import metrics\n",
    "\n",
    "# predict y using the features\n",
    "y_pred=clf_model.predict(features)"
   ]
  },
  {
   "cell_type": "code",
   "execution_count": 7,
   "id": "5ef85b7e",
   "metadata": {},
   "outputs": [
    {
     "name": "stdout",
     "output_type": "stream",
     "text": [
      "              precision    recall  f1-score   support\n",
      "\n",
      "           0       0.98      1.00      0.99        49\n",
      "           1       0.56      0.78      0.65        36\n",
      "           2       0.86      0.66      0.75        65\n",
      "\n",
      "    accuracy                           0.80       150\n",
      "   macro avg       0.80      0.81      0.80       150\n",
      "weighted avg       0.83      0.80      0.80       150\n",
      "\n"
     ]
    }
   ],
   "source": [
    "print(metrics.classification_report(y_pred,y_iris))\n",
    "\n",
    "# Try\n",
    "# print(metrics.classification_report(y_pred,y_iris,target_names=iris.target_names))\n",
    "# Try\n",
    "# print(metrics.classification_report(y_pred,y_iris),labels=np.unique(y_pred))"
   ]
  },
  {
   "cell_type": "markdown",
   "id": "e5e561e3",
   "metadata": {},
   "source": [
    "The column `precision` gives the scores for classification. We see that the score is very high for class-0 compared to the other two classes as in agreement with the plots discussed above. You can also get an overall score for all classes."
   ]
  },
  {
   "cell_type": "code",
   "execution_count": 8,
   "id": "5955ef98",
   "metadata": {},
   "outputs": [
    {
     "name": "stdout",
     "output_type": "stream",
     "text": [
      "0.8\n"
     ]
    }
   ],
   "source": [
    "print(metrics.accuracy_score(y_pred,label)) # Global score for the entire problem"
   ]
  },
  {
   "cell_type": "markdown",
   "id": "f8692f55",
   "metadata": {},
   "source": [
    "If you are interested in seeing whether during prediction, you have assigned a class which is not present at all in the original list of labels, you can try the following."
   ]
  },
  {
   "cell_type": "code",
   "execution_count": 43,
   "id": "a9184a9a",
   "metadata": {},
   "outputs": [
    {
     "data": {
      "text/plain": [
       "{0, 1, 2}"
      ]
     },
     "execution_count": 43,
     "metadata": {},
     "output_type": "execute_result"
    }
   ],
   "source": [
    "set(y_iris)"
   ]
  },
  {
   "cell_type": "code",
   "execution_count": 44,
   "id": "5e9fefb9",
   "metadata": {},
   "outputs": [
    {
     "data": {
      "text/plain": [
       "{0, 1, 2}"
      ]
     },
     "execution_count": 44,
     "metadata": {},
     "output_type": "execute_result"
    }
   ],
   "source": [
    "set(y_pred)"
   ]
  },
  {
   "cell_type": "code",
   "execution_count": 45,
   "id": "fa574765",
   "metadata": {},
   "outputs": [
    {
     "data": {
      "text/plain": [
       "set()"
      ]
     },
     "execution_count": 45,
     "metadata": {},
     "output_type": "execute_result"
    }
   ],
   "source": [
    "set(y_iris) - set(y_pred)"
   ]
  },
  {
   "cell_type": "markdown",
   "id": "67dc86c9",
   "metadata": {},
   "source": [
    "## Using all four features"
   ]
  },
  {
   "cell_type": "code",
   "execution_count": 10,
   "id": "0432fee7",
   "metadata": {},
   "outputs": [
    {
     "name": "stdout",
     "output_type": "stream",
     "text": [
      "              precision    recall  f1-score   support\n",
      "\n",
      "      setosa       1.00      1.00      1.00        50\n",
      "  versicolor       0.90      0.98      0.94        46\n",
      "   virginica       0.98      0.91      0.94        54\n",
      "\n",
      "    accuracy                           0.96       150\n",
      "   macro avg       0.96      0.96      0.96       150\n",
      "weighted avg       0.96      0.96      0.96       150\n",
      "\n"
     ]
    }
   ],
   "source": [
    "from sklearn import datasets\n",
    "from sklearn.preprocessing import StandardScaler\n",
    "from sklearn.linear_model import SGDClassifier\n",
    "\n",
    "iris = datasets.load_iris()\n",
    "x_iris, y_iris = iris.data, iris.target\n",
    "\n",
    "sc = StandardScaler()\n",
    "x_iris = sc.fit_transform(x_iris)\n",
    "\n",
    "clf_model=SGDClassifier()\n",
    "clf_model.fit(x_iris, y_iris)\n",
    "\n",
    "y_pred=clf_model.predict(x_iris)\n",
    "\n",
    "print(metrics.classification_report(y_pred,y_iris,target_names=iris.target_names))"
   ]
  },
  {
   "cell_type": "code",
   "execution_count": 11,
   "id": "8dc0d719",
   "metadata": {},
   "outputs": [
    {
     "name": "stdout",
     "output_type": "stream",
     "text": [
      "Overall score: 0.96\n"
     ]
    }
   ],
   "source": [
    "print('Overall score:',metrics.accuracy_score(y_pred,label))"
   ]
  },
  {
   "cell_type": "markdown",
   "id": "26994f01",
   "metadata": {},
   "source": [
    "It is not possible to visualize the hyperplanes in the 4D feature space to get a visual picture of how different classes are separated. "
   ]
  },
  {
   "cell_type": "markdown",
   "id": "9aa7b3d0",
   "metadata": {},
   "source": [
    "## Training and Testing"
   ]
  },
  {
   "cell_type": "markdown",
   "id": "c272066d",
   "metadata": {},
   "source": [
    "Remember, the data analytics tehcniques that we have been discussing have become so popular because, these models once trained over a selected set of data are applicable to perform the same task in a new data. Further, these models also improve their performance as more and more data are used for re-training them. Hence, we say that these models learn and also denote them as machine learning methods. \n",
    "\n",
    "Here, the term _machine_ stands for the algorithm and not the computer as it is sometimes mis-interpreted.  To demonstrate this approach, let's divide the iris dataset into training and test sets using an 80/20 split. "
   ]
  },
  {
   "cell_type": "code",
   "execution_count": 12,
   "id": "8128464e",
   "metadata": {},
   "outputs": [
    {
     "data": {
      "text/html": [
       "<style>#sk-container-id-1 {\n",
       "  /* Definition of color scheme common for light and dark mode */\n",
       "  --sklearn-color-text: black;\n",
       "  --sklearn-color-line: gray;\n",
       "  /* Definition of color scheme for unfitted estimators */\n",
       "  --sklearn-color-unfitted-level-0: #fff5e6;\n",
       "  --sklearn-color-unfitted-level-1: #f6e4d2;\n",
       "  --sklearn-color-unfitted-level-2: #ffe0b3;\n",
       "  --sklearn-color-unfitted-level-3: chocolate;\n",
       "  /* Definition of color scheme for fitted estimators */\n",
       "  --sklearn-color-fitted-level-0: #f0f8ff;\n",
       "  --sklearn-color-fitted-level-1: #d4ebff;\n",
       "  --sklearn-color-fitted-level-2: #b3dbfd;\n",
       "  --sklearn-color-fitted-level-3: cornflowerblue;\n",
       "\n",
       "  /* Specific color for light theme */\n",
       "  --sklearn-color-text-on-default-background: var(--sg-text-color, var(--theme-code-foreground, var(--jp-content-font-color1, black)));\n",
       "  --sklearn-color-background: var(--sg-background-color, var(--theme-background, var(--jp-layout-color0, white)));\n",
       "  --sklearn-color-border-box: var(--sg-text-color, var(--theme-code-foreground, var(--jp-content-font-color1, black)));\n",
       "  --sklearn-color-icon: #696969;\n",
       "\n",
       "  @media (prefers-color-scheme: dark) {\n",
       "    /* Redefinition of color scheme for dark theme */\n",
       "    --sklearn-color-text-on-default-background: var(--sg-text-color, var(--theme-code-foreground, var(--jp-content-font-color1, white)));\n",
       "    --sklearn-color-background: var(--sg-background-color, var(--theme-background, var(--jp-layout-color0, #111)));\n",
       "    --sklearn-color-border-box: var(--sg-text-color, var(--theme-code-foreground, var(--jp-content-font-color1, white)));\n",
       "    --sklearn-color-icon: #878787;\n",
       "  }\n",
       "}\n",
       "\n",
       "#sk-container-id-1 {\n",
       "  color: var(--sklearn-color-text);\n",
       "}\n",
       "\n",
       "#sk-container-id-1 pre {\n",
       "  padding: 0;\n",
       "}\n",
       "\n",
       "#sk-container-id-1 input.sk-hidden--visually {\n",
       "  border: 0;\n",
       "  clip: rect(1px 1px 1px 1px);\n",
       "  clip: rect(1px, 1px, 1px, 1px);\n",
       "  height: 1px;\n",
       "  margin: -1px;\n",
       "  overflow: hidden;\n",
       "  padding: 0;\n",
       "  position: absolute;\n",
       "  width: 1px;\n",
       "}\n",
       "\n",
       "#sk-container-id-1 div.sk-dashed-wrapped {\n",
       "  border: 1px dashed var(--sklearn-color-line);\n",
       "  margin: 0 0.4em 0.5em 0.4em;\n",
       "  box-sizing: border-box;\n",
       "  padding-bottom: 0.4em;\n",
       "  background-color: var(--sklearn-color-background);\n",
       "}\n",
       "\n",
       "#sk-container-id-1 div.sk-container {\n",
       "  /* jupyter's `normalize.less` sets `[hidden] { display: none; }`\n",
       "     but bootstrap.min.css set `[hidden] { display: none !important; }`\n",
       "     so we also need the `!important` here to be able to override the\n",
       "     default hidden behavior on the sphinx rendered scikit-learn.org.\n",
       "     See: https://github.com/scikit-learn/scikit-learn/issues/21755 */\n",
       "  display: inline-block !important;\n",
       "  position: relative;\n",
       "}\n",
       "\n",
       "#sk-container-id-1 div.sk-text-repr-fallback {\n",
       "  display: none;\n",
       "}\n",
       "\n",
       "div.sk-parallel-item,\n",
       "div.sk-serial,\n",
       "div.sk-item {\n",
       "  /* draw centered vertical line to link estimators */\n",
       "  background-image: linear-gradient(var(--sklearn-color-text-on-default-background), var(--sklearn-color-text-on-default-background));\n",
       "  background-size: 2px 100%;\n",
       "  background-repeat: no-repeat;\n",
       "  background-position: center center;\n",
       "}\n",
       "\n",
       "/* Parallel-specific style estimator block */\n",
       "\n",
       "#sk-container-id-1 div.sk-parallel-item::after {\n",
       "  content: \"\";\n",
       "  width: 100%;\n",
       "  border-bottom: 2px solid var(--sklearn-color-text-on-default-background);\n",
       "  flex-grow: 1;\n",
       "}\n",
       "\n",
       "#sk-container-id-1 div.sk-parallel {\n",
       "  display: flex;\n",
       "  align-items: stretch;\n",
       "  justify-content: center;\n",
       "  background-color: var(--sklearn-color-background);\n",
       "  position: relative;\n",
       "}\n",
       "\n",
       "#sk-container-id-1 div.sk-parallel-item {\n",
       "  display: flex;\n",
       "  flex-direction: column;\n",
       "}\n",
       "\n",
       "#sk-container-id-1 div.sk-parallel-item:first-child::after {\n",
       "  align-self: flex-end;\n",
       "  width: 50%;\n",
       "}\n",
       "\n",
       "#sk-container-id-1 div.sk-parallel-item:last-child::after {\n",
       "  align-self: flex-start;\n",
       "  width: 50%;\n",
       "}\n",
       "\n",
       "#sk-container-id-1 div.sk-parallel-item:only-child::after {\n",
       "  width: 0;\n",
       "}\n",
       "\n",
       "/* Serial-specific style estimator block */\n",
       "\n",
       "#sk-container-id-1 div.sk-serial {\n",
       "  display: flex;\n",
       "  flex-direction: column;\n",
       "  align-items: center;\n",
       "  background-color: var(--sklearn-color-background);\n",
       "  padding-right: 1em;\n",
       "  padding-left: 1em;\n",
       "}\n",
       "\n",
       "\n",
       "/* Toggleable style: style used for estimator/Pipeline/ColumnTransformer box that is\n",
       "clickable and can be expanded/collapsed.\n",
       "- Pipeline and ColumnTransformer use this feature and define the default style\n",
       "- Estimators will overwrite some part of the style using the `sk-estimator` class\n",
       "*/\n",
       "\n",
       "/* Pipeline and ColumnTransformer style (default) */\n",
       "\n",
       "#sk-container-id-1 div.sk-toggleable {\n",
       "  /* Default theme specific background. It is overwritten whether we have a\n",
       "  specific estimator or a Pipeline/ColumnTransformer */\n",
       "  background-color: var(--sklearn-color-background);\n",
       "}\n",
       "\n",
       "/* Toggleable label */\n",
       "#sk-container-id-1 label.sk-toggleable__label {\n",
       "  cursor: pointer;\n",
       "  display: block;\n",
       "  width: 100%;\n",
       "  margin-bottom: 0;\n",
       "  padding: 0.5em;\n",
       "  box-sizing: border-box;\n",
       "  text-align: center;\n",
       "}\n",
       "\n",
       "#sk-container-id-1 label.sk-toggleable__label-arrow:before {\n",
       "  /* Arrow on the left of the label */\n",
       "  content: \"▸\";\n",
       "  float: left;\n",
       "  margin-right: 0.25em;\n",
       "  color: var(--sklearn-color-icon);\n",
       "}\n",
       "\n",
       "#sk-container-id-1 label.sk-toggleable__label-arrow:hover:before {\n",
       "  color: var(--sklearn-color-text);\n",
       "}\n",
       "\n",
       "/* Toggleable content - dropdown */\n",
       "\n",
       "#sk-container-id-1 div.sk-toggleable__content {\n",
       "  max-height: 0;\n",
       "  max-width: 0;\n",
       "  overflow: hidden;\n",
       "  text-align: left;\n",
       "  /* unfitted */\n",
       "  background-color: var(--sklearn-color-unfitted-level-0);\n",
       "}\n",
       "\n",
       "#sk-container-id-1 div.sk-toggleable__content.fitted {\n",
       "  /* fitted */\n",
       "  background-color: var(--sklearn-color-fitted-level-0);\n",
       "}\n",
       "\n",
       "#sk-container-id-1 div.sk-toggleable__content pre {\n",
       "  margin: 0.2em;\n",
       "  border-radius: 0.25em;\n",
       "  color: var(--sklearn-color-text);\n",
       "  /* unfitted */\n",
       "  background-color: var(--sklearn-color-unfitted-level-0);\n",
       "}\n",
       "\n",
       "#sk-container-id-1 div.sk-toggleable__content.fitted pre {\n",
       "  /* unfitted */\n",
       "  background-color: var(--sklearn-color-fitted-level-0);\n",
       "}\n",
       "\n",
       "#sk-container-id-1 input.sk-toggleable__control:checked~div.sk-toggleable__content {\n",
       "  /* Expand drop-down */\n",
       "  max-height: 200px;\n",
       "  max-width: 100%;\n",
       "  overflow: auto;\n",
       "}\n",
       "\n",
       "#sk-container-id-1 input.sk-toggleable__control:checked~label.sk-toggleable__label-arrow:before {\n",
       "  content: \"▾\";\n",
       "}\n",
       "\n",
       "/* Pipeline/ColumnTransformer-specific style */\n",
       "\n",
       "#sk-container-id-1 div.sk-label input.sk-toggleable__control:checked~label.sk-toggleable__label {\n",
       "  color: var(--sklearn-color-text);\n",
       "  background-color: var(--sklearn-color-unfitted-level-2);\n",
       "}\n",
       "\n",
       "#sk-container-id-1 div.sk-label.fitted input.sk-toggleable__control:checked~label.sk-toggleable__label {\n",
       "  background-color: var(--sklearn-color-fitted-level-2);\n",
       "}\n",
       "\n",
       "/* Estimator-specific style */\n",
       "\n",
       "/* Colorize estimator box */\n",
       "#sk-container-id-1 div.sk-estimator input.sk-toggleable__control:checked~label.sk-toggleable__label {\n",
       "  /* unfitted */\n",
       "  background-color: var(--sklearn-color-unfitted-level-2);\n",
       "}\n",
       "\n",
       "#sk-container-id-1 div.sk-estimator.fitted input.sk-toggleable__control:checked~label.sk-toggleable__label {\n",
       "  /* fitted */\n",
       "  background-color: var(--sklearn-color-fitted-level-2);\n",
       "}\n",
       "\n",
       "#sk-container-id-1 div.sk-label label.sk-toggleable__label,\n",
       "#sk-container-id-1 div.sk-label label {\n",
       "  /* The background is the default theme color */\n",
       "  color: var(--sklearn-color-text-on-default-background);\n",
       "}\n",
       "\n",
       "/* On hover, darken the color of the background */\n",
       "#sk-container-id-1 div.sk-label:hover label.sk-toggleable__label {\n",
       "  color: var(--sklearn-color-text);\n",
       "  background-color: var(--sklearn-color-unfitted-level-2);\n",
       "}\n",
       "\n",
       "/* Label box, darken color on hover, fitted */\n",
       "#sk-container-id-1 div.sk-label.fitted:hover label.sk-toggleable__label.fitted {\n",
       "  color: var(--sklearn-color-text);\n",
       "  background-color: var(--sklearn-color-fitted-level-2);\n",
       "}\n",
       "\n",
       "/* Estimator label */\n",
       "\n",
       "#sk-container-id-1 div.sk-label label {\n",
       "  font-family: monospace;\n",
       "  font-weight: bold;\n",
       "  display: inline-block;\n",
       "  line-height: 1.2em;\n",
       "}\n",
       "\n",
       "#sk-container-id-1 div.sk-label-container {\n",
       "  text-align: center;\n",
       "}\n",
       "\n",
       "/* Estimator-specific */\n",
       "#sk-container-id-1 div.sk-estimator {\n",
       "  font-family: monospace;\n",
       "  border: 1px dotted var(--sklearn-color-border-box);\n",
       "  border-radius: 0.25em;\n",
       "  box-sizing: border-box;\n",
       "  margin-bottom: 0.5em;\n",
       "  /* unfitted */\n",
       "  background-color: var(--sklearn-color-unfitted-level-0);\n",
       "}\n",
       "\n",
       "#sk-container-id-1 div.sk-estimator.fitted {\n",
       "  /* fitted */\n",
       "  background-color: var(--sklearn-color-fitted-level-0);\n",
       "}\n",
       "\n",
       "/* on hover */\n",
       "#sk-container-id-1 div.sk-estimator:hover {\n",
       "  /* unfitted */\n",
       "  background-color: var(--sklearn-color-unfitted-level-2);\n",
       "}\n",
       "\n",
       "#sk-container-id-1 div.sk-estimator.fitted:hover {\n",
       "  /* fitted */\n",
       "  background-color: var(--sklearn-color-fitted-level-2);\n",
       "}\n",
       "\n",
       "/* Specification for estimator info (e.g. \"i\" and \"?\") */\n",
       "\n",
       "/* Common style for \"i\" and \"?\" */\n",
       "\n",
       ".sk-estimator-doc-link,\n",
       "a:link.sk-estimator-doc-link,\n",
       "a:visited.sk-estimator-doc-link {\n",
       "  float: right;\n",
       "  font-size: smaller;\n",
       "  line-height: 1em;\n",
       "  font-family: monospace;\n",
       "  background-color: var(--sklearn-color-background);\n",
       "  border-radius: 1em;\n",
       "  height: 1em;\n",
       "  width: 1em;\n",
       "  text-decoration: none !important;\n",
       "  margin-left: 1ex;\n",
       "  /* unfitted */\n",
       "  border: var(--sklearn-color-unfitted-level-1) 1pt solid;\n",
       "  color: var(--sklearn-color-unfitted-level-1);\n",
       "}\n",
       "\n",
       ".sk-estimator-doc-link.fitted,\n",
       "a:link.sk-estimator-doc-link.fitted,\n",
       "a:visited.sk-estimator-doc-link.fitted {\n",
       "  /* fitted */\n",
       "  border: var(--sklearn-color-fitted-level-1) 1pt solid;\n",
       "  color: var(--sklearn-color-fitted-level-1);\n",
       "}\n",
       "\n",
       "/* On hover */\n",
       "div.sk-estimator:hover .sk-estimator-doc-link:hover,\n",
       ".sk-estimator-doc-link:hover,\n",
       "div.sk-label-container:hover .sk-estimator-doc-link:hover,\n",
       ".sk-estimator-doc-link:hover {\n",
       "  /* unfitted */\n",
       "  background-color: var(--sklearn-color-unfitted-level-3);\n",
       "  color: var(--sklearn-color-background);\n",
       "  text-decoration: none;\n",
       "}\n",
       "\n",
       "div.sk-estimator.fitted:hover .sk-estimator-doc-link.fitted:hover,\n",
       ".sk-estimator-doc-link.fitted:hover,\n",
       "div.sk-label-container:hover .sk-estimator-doc-link.fitted:hover,\n",
       ".sk-estimator-doc-link.fitted:hover {\n",
       "  /* fitted */\n",
       "  background-color: var(--sklearn-color-fitted-level-3);\n",
       "  color: var(--sklearn-color-background);\n",
       "  text-decoration: none;\n",
       "}\n",
       "\n",
       "/* Span, style for the box shown on hovering the info icon */\n",
       ".sk-estimator-doc-link span {\n",
       "  display: none;\n",
       "  z-index: 9999;\n",
       "  position: relative;\n",
       "  font-weight: normal;\n",
       "  right: .2ex;\n",
       "  padding: .5ex;\n",
       "  margin: .5ex;\n",
       "  width: min-content;\n",
       "  min-width: 20ex;\n",
       "  max-width: 50ex;\n",
       "  color: var(--sklearn-color-text);\n",
       "  box-shadow: 2pt 2pt 4pt #999;\n",
       "  /* unfitted */\n",
       "  background: var(--sklearn-color-unfitted-level-0);\n",
       "  border: .5pt solid var(--sklearn-color-unfitted-level-3);\n",
       "}\n",
       "\n",
       ".sk-estimator-doc-link.fitted span {\n",
       "  /* fitted */\n",
       "  background: var(--sklearn-color-fitted-level-0);\n",
       "  border: var(--sklearn-color-fitted-level-3);\n",
       "}\n",
       "\n",
       ".sk-estimator-doc-link:hover span {\n",
       "  display: block;\n",
       "}\n",
       "\n",
       "/* \"?\"-specific style due to the `<a>` HTML tag */\n",
       "\n",
       "#sk-container-id-1 a.estimator_doc_link {\n",
       "  float: right;\n",
       "  font-size: 1rem;\n",
       "  line-height: 1em;\n",
       "  font-family: monospace;\n",
       "  background-color: var(--sklearn-color-background);\n",
       "  border-radius: 1rem;\n",
       "  height: 1rem;\n",
       "  width: 1rem;\n",
       "  text-decoration: none;\n",
       "  /* unfitted */\n",
       "  color: var(--sklearn-color-unfitted-level-1);\n",
       "  border: var(--sklearn-color-unfitted-level-1) 1pt solid;\n",
       "}\n",
       "\n",
       "#sk-container-id-1 a.estimator_doc_link.fitted {\n",
       "  /* fitted */\n",
       "  border: var(--sklearn-color-fitted-level-1) 1pt solid;\n",
       "  color: var(--sklearn-color-fitted-level-1);\n",
       "}\n",
       "\n",
       "/* On hover */\n",
       "#sk-container-id-1 a.estimator_doc_link:hover {\n",
       "  /* unfitted */\n",
       "  background-color: var(--sklearn-color-unfitted-level-3);\n",
       "  color: var(--sklearn-color-background);\n",
       "  text-decoration: none;\n",
       "}\n",
       "\n",
       "#sk-container-id-1 a.estimator_doc_link.fitted:hover {\n",
       "  /* fitted */\n",
       "  background-color: var(--sklearn-color-fitted-level-3);\n",
       "}\n",
       "</style><div id=\"sk-container-id-1\" class=\"sk-top-container\"><div class=\"sk-text-repr-fallback\"><pre>SGDClassifier()</pre><b>In a Jupyter environment, please rerun this cell to show the HTML representation or trust the notebook. <br />On GitHub, the HTML representation is unable to render, please try loading this page with nbviewer.org.</b></div><div class=\"sk-container\" hidden><div class=\"sk-item\"><div class=\"sk-estimator fitted sk-toggleable\"><input class=\"sk-toggleable__control sk-hidden--visually\" id=\"sk-estimator-id-1\" type=\"checkbox\" checked><label for=\"sk-estimator-id-1\" class=\"sk-toggleable__label fitted sk-toggleable__label-arrow fitted\">&nbsp;&nbsp;SGDClassifier<a class=\"sk-estimator-doc-link fitted\" rel=\"noreferrer\" target=\"_blank\" href=\"https://scikit-learn.org/1.4/modules/generated/sklearn.linear_model.SGDClassifier.html\">?<span>Documentation for SGDClassifier</span></a><span class=\"sk-estimator-doc-link fitted\">i<span>Fitted</span></span></label><div class=\"sk-toggleable__content fitted\"><pre>SGDClassifier()</pre></div> </div></div></div></div>"
      ],
      "text/plain": [
       "SGDClassifier()"
      ]
     },
     "execution_count": 12,
     "metadata": {},
     "output_type": "execute_result"
    }
   ],
   "source": [
    "from sklearn import datasets\n",
    "from sklearn.linear_model import SGDClassifier\n",
    "from sklearn.preprocessing import StandardScaler\n",
    "from sklearn.model_selection import train_test_split\n",
    "\n",
    "iris = datasets.load_iris()\n",
    "x_iris, y_iris = iris.data, iris.target\n",
    "\n",
    "sc = StandardScaler()\n",
    "x_iris = sc.fit_transform(x_iris)\n",
    "\n",
    "x_train, x_test, y_train, y_test = train_test_split(x_iris, y_iris, test_size=0.2, random_state=0)\n",
    "\n",
    "clf_model=SGDClassifier()\n",
    "clf_model.fit(x_train, y_train)"
   ]
  },
  {
   "cell_type": "code",
   "execution_count": 13,
   "id": "0bfd7098",
   "metadata": {},
   "outputs": [
    {
     "name": "stdout",
     "output_type": "stream",
     "text": [
      "              precision    recall  f1-score   support\n",
      "\n",
      "      setosa       1.00      1.00      1.00        39\n",
      "  versicolor       0.92      0.94      0.93        36\n",
      "   virginica       0.95      0.93      0.94        45\n",
      "\n",
      "    accuracy                           0.96       120\n",
      "   macro avg       0.96      0.96      0.96       120\n",
      "weighted avg       0.96      0.96      0.96       120\n",
      "\n"
     ]
    }
   ],
   "source": [
    "y_pred_training=clf_model.predict(x_train)\n",
    "print(metrics.classification_report(y_pred_training,y_train,target_names=iris.target_names))"
   ]
  },
  {
   "cell_type": "code",
   "execution_count": 14,
   "id": "bfac0e67",
   "metadata": {},
   "outputs": [
    {
     "name": "stdout",
     "output_type": "stream",
     "text": [
      "0.9583333333333334\n"
     ]
    }
   ],
   "source": [
    "print(metrics.accuracy_score(y_pred_training,y_train))"
   ]
  },
  {
   "cell_type": "code",
   "execution_count": 15,
   "id": "60aa2011",
   "metadata": {},
   "outputs": [
    {
     "name": "stdout",
     "output_type": "stream",
     "text": [
      "              precision    recall  f1-score   support\n",
      "\n",
      "      setosa       1.00      1.00      1.00        11\n",
      "  versicolor       1.00      0.93      0.96        14\n",
      "   virginica       0.83      1.00      0.91         5\n",
      "\n",
      "    accuracy                           0.97        30\n",
      "   macro avg       0.94      0.98      0.96        30\n",
      "weighted avg       0.97      0.97      0.97        30\n",
      "\n"
     ]
    }
   ],
   "source": [
    "y_pred=clf_model.predict(x_test)\n",
    "print(metrics.classification_report(y_pred,y_test,target_names=iris.target_names))"
   ]
  },
  {
   "cell_type": "code",
   "execution_count": 16,
   "id": "e8cfb087",
   "metadata": {},
   "outputs": [
    {
     "name": "stdout",
     "output_type": "stream",
     "text": [
      "0.9666666666666667\n"
     ]
    }
   ],
   "source": [
    "print(metrics.accuracy_score(y_pred,y_test))"
   ]
  },
  {
   "cell_type": "markdown",
   "id": "db3ea3a2",
   "metadata": {},
   "source": [
    "Overall, what we have done so far is to develop a classification model using 80% of the iris dataset and applied the same model (i.e. coefficients and intercepts) to predict the labels of the remaining 20% of the dataset. When we compare `y_pred` against the actual labels of the test set collected in `y_test`, we have gotten a very good score of > 0.95. NOTE: due to random shuffling, the score may vary if you run the code again."
   ]
  },
  {
   "cell_type": "markdown",
   "id": "880f9b60",
   "metadata": {},
   "source": [
    "## Error metrics"
   ]
  },
  {
   "cell_type": "markdown",
   "id": "d9315957",
   "metadata": {},
   "source": [
    "The scores `precision` and `recall` are scores based on the fraction of labels we got correct. \n",
    "\n",
    "If an actual label is 0 and the model predicts it correctly as 0, then we say that the prediction is a `True positive` for class 0 (or label 0). On the other hand, if the actual label is 0 and the model predicts it wrongly, we say that the prediction is a `False negative` for class 0.\n",
    "\n",
    "If the prediction is 0 but the actual class is not 0, then the prediction is a `False positive` for class 0. Finally, if the prediction is not 0, and the actual class is also not 0, then the prediction is a `True negative` for class 0. Note that in the last case, the actual and the predicted classes need to be the same.\n",
    "\n",
    "The following table should make these terms easy to understand. "
   ]
  },
  {
   "cell_type": "markdown",
   "id": "a4103ebe",
   "metadata": {},
   "source": [
    "**Actual label**| $~$|**Classified as** | $~$\n",
    ":-----:|:-----:|:-----:|:-----:\n",
    "        |$~$ | setosa           |Not setosa\n",
    "setosa|$~$|True positive ($TP$)  |False negative ($FN$) \n",
    "Not setosa|$~$|False positive ($FP$) |True negative ($TN$)"
   ]
  },
  {
   "cell_type": "markdown",
   "id": "05b98aca",
   "metadata": {},
   "source": [
    "### Precision"
   ]
  },
  {
   "cell_type": "markdown",
   "id": "a4db2c85",
   "metadata": {},
   "source": [
    "`Precision` is the fraction of entries predicted to be in a class, that are correct predictions.\n",
    "$$\n",
    "{\\rm Precision\\,of\\,setosa}=\\frac{\\rm Correct\\,predictions\\,of\\,setosa}{\\rm All\\,predicted\\,to\\,be\\,setosa}\n",
    "$$\n",
    "In other words, for any class,\n",
    "$$\n",
    "{\\rm Precision}=\\frac{TP}{TP+FP}\n",
    "$$"
   ]
  },
  {
   "cell_type": "markdown",
   "id": "3cb76fcd",
   "metadata": {},
   "source": [
    "### Recall"
   ]
  },
  {
   "cell_type": "markdown",
   "id": "d77024a9",
   "metadata": {},
   "source": [
    "`Recall` is the fraction of entries that are actually in class predicted correctly.\n",
    "$$\n",
    "{\\rm Recall\\,of\\,setosa}=\\frac{\\rm Correct\\,predictions\\,of\\,setosa}{\\rm All\\,actually\\,in\\,setosa}\n",
    "$$\n",
    "In other words, for any class,\n",
    "$$\n",
    "{\\rm Recall}=\\frac{TP}{TP+FN}\n",
    "$$"
   ]
  },
  {
   "cell_type": "markdown",
   "id": "576e291b",
   "metadata": {},
   "source": [
    "We can code these functions and see if they agree with the scores printed above."
   ]
  },
  {
   "cell_type": "code",
   "execution_count": 17,
   "id": "a405650c",
   "metadata": {},
   "outputs": [],
   "source": [
    "def PandN(y_pred,y_test):\n",
    "    \n",
    "    N_vals=len(y_pred)\n",
    "    \n",
    "    # get unique set of labels\n",
    "    y_test_uniq=list(set(y_test))\n",
    "    \n",
    "    N_label=len(y_test_uniq)\n",
    "    \n",
    "    TP=np.zeros(N_label)\n",
    "    TN=np.zeros(N_label)\n",
    "    FP=np.zeros(N_label)\n",
    "    FN=np.zeros(N_label)\n",
    "    \n",
    "    for i_label in range(0,N_label):\n",
    "        for i_vals in range(0,N_vals):\n",
    "            \n",
    "            if ((y_test[i_vals] == y_test_uniq[i_label]) & (y_pred[i_vals] == y_test_uniq[i_label])):\n",
    "                TP[i_label]=TP[i_label]+1\n",
    "            if ((y_test[i_vals] == y_test_uniq[i_label]) & (y_pred[i_vals] != y_test_uniq[i_label])):\n",
    "                FP[i_label]=FP[i_label]+1\n",
    "            if ((y_test[i_vals] != y_test_uniq[i_label]) & (y_pred[i_vals] == y_test_uniq[i_label])):\n",
    "                FN[i_label]=FN[i_label]+1\n",
    "            if ((y_test[i_vals] != y_test_uniq[i_label]) & (y_pred[i_vals] != y_test_uniq[i_label])):\n",
    "                TN[i_label]=TN[i_label]+1\n",
    "                \n",
    "    return TP, TN, FP, FN"
   ]
  },
  {
   "cell_type": "code",
   "execution_count": 18,
   "id": "664ad2bc",
   "metadata": {},
   "outputs": [
    {
     "name": "stdout",
     "output_type": "stream",
     "text": [
      "[11. 13.  5.] [19. 16. 24.] [0. 0. 1.] [0. 1. 0.]\n"
     ]
    }
   ],
   "source": [
    "TP, TN, FP, FN = PandN(y_pred,y_test)\n",
    "print(TP, TN, FP, FN)"
   ]
  },
  {
   "cell_type": "markdown",
   "id": "1bd75422",
   "metadata": {},
   "source": [
    "Small values for $FP$ and $FN$ means that the prediction is good."
   ]
  },
  {
   "cell_type": "code",
   "execution_count": 19,
   "id": "0cba1048",
   "metadata": {},
   "outputs": [
    {
     "name": "stdout",
     "output_type": "stream",
     "text": [
      "Precision for class  0  is 1.0 , Recall for class  0  is 1.0\n",
      "Precision for class  1  is 1.0 , Recall for class  1  is 0.9285714285714286\n",
      "Precision for class  2  is 0.8333333333333334 , Recall for class  2  is 1.0\n"
     ]
    }
   ],
   "source": [
    "y_test_uniq=list(set(y_test))\n",
    "    \n",
    "N_label=len(y_test_uniq)\n",
    "\n",
    "for i_label in range(0, N_label):\n",
    "    Precision=TP[i_label]/(TP[i_label] + FP[i_label])\n",
    "    Recall=TP[i_label]/(TP[i_label] + FN[i_label])\n",
    "    print('Precision for class ',i_label,' is', Precision, ', Recall for class ',i_label,' is', Recall)"
   ]
  },
  {
   "cell_type": "markdown",
   "id": "74ae4834",
   "metadata": {},
   "source": [
    "Our code agrees with the values given by `sklearn`."
   ]
  },
  {
   "cell_type": "markdown",
   "id": "15d9e408",
   "metadata": {},
   "source": [
    "### Another test for `Precision` and `Recall`"
   ]
  },
  {
   "cell_type": "markdown",
   "id": "25c36d5e",
   "metadata": {},
   "source": [
    "We'll make the model worse by training on few entries and testing on more data"
   ]
  },
  {
   "cell_type": "code",
   "execution_count": 20,
   "id": "fcd16d32",
   "metadata": {},
   "outputs": [
    {
     "name": "stdout",
     "output_type": "stream",
     "text": [
      "              precision    recall  f1-score   support\n",
      "\n",
      "      setosa       1.00      0.81      0.89        26\n",
      "  versicolor       0.83      0.86      0.85        29\n",
      "   virginica       0.83      1.00      0.91        20\n",
      "\n",
      "    accuracy                           0.88        75\n",
      "   macro avg       0.89      0.89      0.88        75\n",
      "weighted avg       0.89      0.88      0.88        75\n",
      "\n"
     ]
    }
   ],
   "source": [
    "x_train, x_test, y_train, y_test = train_test_split(x_iris, y_iris, test_size=0.5, random_state=0)\n",
    "\n",
    "clf_model=SGDClassifier()\n",
    "clf_model.fit(x_train, y_train)\n",
    "\n",
    "y_pred=clf_model.predict(x_test)\n",
    "\n",
    "print(metrics.classification_report(y_pred,y_test,target_names=iris.target_names))"
   ]
  },
  {
   "cell_type": "code",
   "execution_count": 21,
   "id": "dd579c5e",
   "metadata": {},
   "outputs": [
    {
     "name": "stdout",
     "output_type": "stream",
     "text": [
      "0.88\n"
     ]
    }
   ],
   "source": [
    "print(metrics.accuracy_score(y_pred,y_test))"
   ]
  },
  {
   "cell_type": "code",
   "execution_count": 22,
   "id": "a5de2c00",
   "metadata": {},
   "outputs": [
    {
     "name": "stdout",
     "output_type": "stream",
     "text": [
      "[21. 25. 20.] [49. 41. 51.] [0. 5. 4.] [5. 4. 0.]\n"
     ]
    }
   ],
   "source": [
    "TP, TN, FP, FN = PandN(y_pred,y_test)\n",
    "print(TP, TN, FP, FN)"
   ]
  },
  {
   "cell_type": "code",
   "execution_count": 23,
   "id": "3178483d",
   "metadata": {},
   "outputs": [
    {
     "name": "stdout",
     "output_type": "stream",
     "text": [
      "Precision for class  0  is 1.0 , Recall for class  0  is 0.8076923076923077\n",
      "Precision for class  1  is 0.8333333333333334 , Recall for class  1  is 0.8620689655172413\n",
      "Precision for class  2  is 0.8333333333333334 , Recall for class  2  is 1.0\n"
     ]
    }
   ],
   "source": [
    "y_test_uniq=list(set(y_test))\n",
    "    \n",
    "N_label=len(y_test_uniq)\n",
    "\n",
    "for i_label in range(0, N_label):\n",
    "    Precision=TP[i_label]/(TP[i_label] + FP[i_label])\n",
    "    Recall=TP[i_label]/(TP[i_label] + FN[i_label])\n",
    "    print('Precision for class ',i_label,' is', Precision, ', Recall for class ',i_label,' is', Recall)"
   ]
  },
  {
   "cell_type": "markdown",
   "id": "45698216",
   "metadata": {},
   "source": [
    "Now we are even more confident that our formulas for `Precision` and `Recall` are indeed correct."
   ]
  },
  {
   "cell_type": "markdown",
   "id": "a45af061",
   "metadata": {},
   "source": [
    "### F1-score"
   ]
  },
  {
   "cell_type": "markdown",
   "id": "35421975",
   "metadata": {},
   "source": [
    "`F1-score` is combines `Precision` and `Recall`. \n",
    "$$\n",
    "{\\rm F1-score}=\\frac{TP}{TP+(FP+FN)/2}\n",
    "$$"
   ]
  },
  {
   "cell_type": "code",
   "execution_count": 24,
   "id": "a10644ea",
   "metadata": {},
   "outputs": [
    {
     "name": "stdout",
     "output_type": "stream",
     "text": [
      "Precision for class  0  is 1.0\n",
      "Recall for class     0  is 0.8076923076923077\n",
      "F1-score for class   0  is 0.8936170212765957\n",
      "\n",
      "Precision for class  1  is 0.8333333333333334\n",
      "Recall for class     1  is 0.8620689655172413\n",
      "F1-score for class   1  is 0.847457627118644\n",
      "\n",
      "Precision for class  2  is 0.8333333333333334\n",
      "Recall for class     2  is 1.0\n",
      "F1-score for class   2  is 0.9090909090909091\n",
      "\n"
     ]
    }
   ],
   "source": [
    "y_test_uniq=list(set(y_test))\n",
    "    \n",
    "N_label=len(y_test_uniq)\n",
    "\n",
    "Precision=np.zeros(N_label)\n",
    "Recall=np.zeros(N_label)\n",
    "F1score=np.zeros(N_label)\n",
    "\n",
    "for i_label in range(0, N_label):\n",
    "    \n",
    "    Precision[i_label]=TP[i_label]/(TP[i_label] + FP[i_label])\n",
    "    Recall[i_label]=TP[i_label]/(TP[i_label] + FN[i_label])\n",
    "    F1score[i_label]=TP[i_label]/(TP[i_label] + (FN[i_label]+FP[i_label])/2)\n",
    "    \n",
    "    print('Precision for class ',i_label,' is', Precision[i_label])\n",
    "    print('Recall for class    ',i_label,' is', Recall[i_label])\n",
    "    print('F1-score for class  ',i_label,' is', F1score[i_label])\n",
    "    print('')"
   ]
  },
  {
   "cell_type": "markdown",
   "id": "80829442",
   "metadata": {},
   "source": [
    "Why do we need so many versions of scores? These are needed because different datasets can have disproportionate number of entries in each class. In that case, one score may capture the accuracy of the model better than the other. "
   ]
  },
  {
   "cell_type": "markdown",
   "id": "6f5b6fe4",
   "metadata": {},
   "source": [
    "### Support and Global metric"
   ]
  },
  {
   "cell_type": "markdown",
   "id": "df51084e",
   "metadata": {},
   "source": [
    "Okay, now let's look at the overall accuracy score of the model."
   ]
  },
  {
   "cell_type": "code",
   "execution_count": 25,
   "id": "c6d927cf",
   "metadata": {},
   "outputs": [
    {
     "name": "stdout",
     "output_type": "stream",
     "text": [
      "              precision    recall  f1-score   support\n",
      "\n",
      "      setosa   1.000000  0.807692  0.893617        26\n",
      "  versicolor   0.833333  0.862069  0.847458        29\n",
      "   virginica   0.833333  1.000000  0.909091        20\n",
      "\n",
      "    accuracy                       0.880000        75\n",
      "   macro avg   0.888889  0.889920  0.883389        75\n",
      "weighted avg   0.891111  0.880000  0.879895        75\n",
      "\n"
     ]
    }
   ],
   "source": [
    "print(metrics.classification_report(y_pred,y_test,target_names=iris.target_names,digits=6))"
   ]
  },
  {
   "cell_type": "code",
   "execution_count": 26,
   "id": "ec541e53",
   "metadata": {},
   "outputs": [
    {
     "name": "stdout",
     "output_type": "stream",
     "text": [
      "0.88\n"
     ]
    }
   ],
   "source": [
    "print(metrics.accuracy_score(y_pred,y_test))"
   ]
  },
  {
   "cell_type": "markdown",
   "id": "cf4f1510",
   "metadata": {},
   "source": [
    "The overall score is the weighted average of `recall`.  \n",
    "\n",
    "To find the weighted average, we need weights! What are these? These are fractions of $TP$ and $FN$ per class."
   ]
  },
  {
   "cell_type": "code",
   "execution_count": 27,
   "id": "247a44d9",
   "metadata": {},
   "outputs": [
    {
     "name": "stdout",
     "output_type": "stream",
     "text": [
      "[26. 29. 20.]\n"
     ]
    }
   ],
   "source": [
    "support = TP + FN\n",
    "print(support)"
   ]
  },
  {
   "cell_type": "code",
   "execution_count": 28,
   "id": "1f22eb98",
   "metadata": {},
   "outputs": [
    {
     "name": "stdout",
     "output_type": "stream",
     "text": [
      "[0.34666667 0.38666667 0.26666667]\n"
     ]
    }
   ],
   "source": [
    "weights=support/np.sum(support)\n",
    "print(weights)"
   ]
  },
  {
   "cell_type": "code",
   "execution_count": 29,
   "id": "f22ad3a5",
   "metadata": {},
   "outputs": [
    {
     "name": "stdout",
     "output_type": "stream",
     "text": [
      "0.889920424403183\n"
     ]
    }
   ],
   "source": [
    "macro_avg_Recall=np.mean(Recall)\n",
    "print(macro_avg_Recall)"
   ]
  },
  {
   "cell_type": "code",
   "execution_count": 30,
   "id": "def4b1fe",
   "metadata": {},
   "outputs": [
    {
     "name": "stdout",
     "output_type": "stream",
     "text": [
      "0.8799999999999999\n"
     ]
    }
   ],
   "source": [
    "weighted_avg_Recall=np.sum(Recall*weights)\n",
    "print(weighted_avg_Recall)"
   ]
  },
  {
   "cell_type": "markdown",
   "id": "a3cdb543",
   "metadata": {},
   "source": [
    "The last quantity is the same as `metrics.accuracy_score(y_pred,y_test)`"
   ]
  }
 ],
 "metadata": {
  "kernelspec": {
   "display_name": "Python 3 (ipykernel)",
   "language": "python",
   "name": "python3"
  },
  "language_info": {
   "codemirror_mode": {
    "name": "ipython",
    "version": 3
   },
   "file_extension": ".py",
   "mimetype": "text/x-python",
   "name": "python",
   "nbconvert_exporter": "python",
   "pygments_lexer": "ipython3",
   "version": "3.9.13"
  }
 },
 "nbformat": 4,
 "nbformat_minor": 5
}
