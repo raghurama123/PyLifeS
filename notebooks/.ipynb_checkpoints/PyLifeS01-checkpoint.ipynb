{
 "cells": [
  {
   "cell_type": "markdown",
   "id": "b66ad316",
   "metadata": {},
   "source": [
    "# Content:\n",
    " 1. [Data types](#datatypes)\n",
    " 2. [String manipulations: Slicing vs. Splitting](#Strings)\n",
    " 3. [List](#list)\n",
    " 4. [Concatenation vs. appending](#concat)\n",
    " 5. [For loop](#forloop)\n",
    " 6. [While loop](#whileloop)\n",
    " 7. [Break vs. continue](#break)\n",
    " 8. [Function](#function)\n",
    " 9. [Modules](#module)\n",
    "    >[9.1 os and sys](#os-and-sys)      \n",
    "    >[9.2 Write and import your own module](#9.4-write-and-import-your-own-module)     \n",
    "    >[9.3 math](#9.1-math)   \n",
    "    >[9.4 cmath](#9.2-cmath)   \n",
    "    >[9.5 numpy](#9.3-numpy)   \n",
    "        >>[9.5.1 1D array](#9.3.1-1D-array)   \n",
    "        >>[9.5.2 2D array](#9.3.2-2D-array)    \n",
    "        >>[9.5.3 Dot product](#9.3.3-dot-product)                 \n",
    " 10. [Input/Output](#inputoutput)\n",
    "     >[10.1 Formatted output](#10.1-Formatted-output)   \n",
    "     >[10.2 Read/Write](#10.2-Read/Write)"
   ]
  },
  {
   "cell_type": "markdown",
   "id": "cbda2680",
   "metadata": {},
   "source": [
    "## 1. <a name=\"datatypes\">Data types</a>\n",
    "\n",
    "The elementary types of Python data are listed below. Later, we will learn that a collection of some these, for example an array of integer is also a data type in Python. We can think of such data types as derived data types as you must have done for fundamental units and derived units in physics.\n",
    "- integer\n",
    "- float\n",
    "- complex\n",
    "- string"
   ]
  },
  {
   "cell_type": "code",
   "execution_count": 1,
   "id": "beb89141",
   "metadata": {},
   "outputs": [
    {
     "name": "stdout",
     "output_type": "stream",
     "text": [
      "<class 'int'> <class 'float'> <class 'complex'> <class 'str'>\n"
     ]
    }
   ],
   "source": [
    "a=1\n",
    "type1=type(a)\n",
    "\n",
    "a=1.0\n",
    "type2=type(a)\n",
    "\n",
    "a=complex(1,0) \n",
    "# Note: For the complex number, you have to specify real and imaginary parts inside a parenthesis.\n",
    "type3=type(a)\n",
    "\n",
    "a='ONE is 1'  \n",
    "#Note: a string is specified inside single quotes.\n",
    "type4=type(a) \n",
    "\n",
    "print(type1,type2, type3, type4)"
   ]
  },
  {
   "cell_type": "code",
   "execution_count": 2,
   "id": "c10144ba",
   "metadata": {},
   "outputs": [
    {
     "name": "stdout",
     "output_type": "stream",
     "text": [
      "3.142857142857143\n"
     ]
    }
   ],
   "source": [
    "value=22/7\n",
    "print(value)\n"
   ]
  },
  {
   "cell_type": "markdown",
   "id": "0907d389",
   "metadata": {},
   "source": [
    "## 2. <a name=\"strings\">String manipulations: Slicing vs. Splitting</a>\n",
    "\n",
    "Learning how to manipulate strings is very useful. Think of a situation when your Ph.D. advisor will ask you to download a file with a lot of texts and asks you to count how many times some string like 'compound' occurs in it and asks you find out how many unique compounds are mentioned in that file. "
   ]
  },
  {
   "cell_type": "code",
   "execution_count": 3,
   "id": "2e588cb5",
   "metadata": {},
   "outputs": [],
   "source": [
    "str='May the force be with you!'"
   ]
  },
  {
   "cell_type": "markdown",
   "id": "cfb1866e",
   "metadata": {},
   "source": [
    "### Slicing"
   ]
  },
  {
   "cell_type": "code",
   "execution_count": 4,
   "id": "e310829d",
   "metadata": {},
   "outputs": [
    {
     "data": {
      "text/plain": [
       "'M'"
      ]
     },
     "execution_count": 4,
     "metadata": {},
     "output_type": "execute_result"
    }
   ],
   "source": [
    "str[0]   # The count begins with 0 in Python"
   ]
  },
  {
   "cell_type": "code",
   "execution_count": 5,
   "id": "17e6dd47",
   "metadata": {},
   "outputs": [
    {
     "data": {
      "text/plain": [
       "'M'"
      ]
     },
     "execution_count": 5,
     "metadata": {},
     "output_type": "execute_result"
    }
   ],
   "source": [
    "str[0:1]  # lowest index : upper index means from lowest index until one less than the upper index"
   ]
  },
  {
   "cell_type": "code",
   "execution_count": 6,
   "id": "648afd0b",
   "metadata": {},
   "outputs": [
    {
     "data": {
      "text/plain": [
       "'May t'"
      ]
     },
     "execution_count": 6,
     "metadata": {},
     "output_type": "execute_result"
    }
   ],
   "source": [
    "str[0:5]"
   ]
  },
  {
   "cell_type": "markdown",
   "id": "9dd019f5",
   "metadata": {},
   "source": [
    "### Splitting"
   ]
  },
  {
   "cell_type": "code",
   "execution_count": 7,
   "id": "4d6b24f7",
   "metadata": {},
   "outputs": [
    {
     "data": {
      "text/plain": [
       "['1', '2', '3', '4']"
      ]
     },
     "execution_count": 7,
     "metadata": {},
     "output_type": "execute_result"
    }
   ],
   "source": [
    "str='1,2,3,4'\n",
    "str.split(',')  # output is a list"
   ]
  },
  {
   "cell_type": "code",
   "execution_count": 8,
   "id": "06c43baf",
   "metadata": {},
   "outputs": [
    {
     "data": {
      "text/plain": [
       "['1', '2']"
      ]
     },
     "execution_count": 8,
     "metadata": {},
     "output_type": "execute_result"
    }
   ],
   "source": [
    "str.split(',')[0:2] # first two entries of the list"
   ]
  },
  {
   "cell_type": "code",
   "execution_count": 9,
   "id": "d450a0ea",
   "metadata": {},
   "outputs": [
    {
     "name": "stdout",
     "output_type": "stream",
     "text": [
      "['', '', 'TCCGCT', 'CGCTG', '', 'TCCG', 'CT', 'C', '']\n"
     ]
    }
   ],
   "source": [
    "seq='AATCCGCTACGCTGAATCCGACTACA'\n",
    "sub_seqs=seq.split('A')     # Here 'A' is the marker or delimiter\n",
    "print(sub_seqs)             # Split between successive adenines"
   ]
  },
  {
   "cell_type": "code",
   "execution_count": 9,
   "id": "fd603a38",
   "metadata": {},
   "outputs": [],
   "source": [
    "type(sub_seqs)"
   ]
  },
  {
   "cell_type": "code",
   "execution_count": 10,
   "id": "6b410d05",
   "metadata": {},
   "outputs": [],
   "source": [
    "N=len(sub_seqs)\n",
    "print(N)"
   ]
  },
  {
   "cell_type": "code",
   "execution_count": 12,
   "id": "fa2dde43",
   "metadata": {},
   "outputs": [
    {
     "name": "stdout",
     "output_type": "stream",
     "text": [
      "9\n"
     ]
    }
   ],
   "source": [
    "N=len(sub_seqs)\n",
    "print(N)"
   ]
  },
  {
   "cell_type": "code",
   "execution_count": 13,
   "id": "b716a323",
   "metadata": {},
   "outputs": [
    {
     "name": "stdout",
     "output_type": "stream",
     "text": [
      "0 \n",
      "1 \n",
      "2 TCCGCT\n",
      "3 CGCTG\n",
      "4 \n",
      "5 TCCG\n",
      "6 CT\n",
      "7 C\n",
      "8 \n"
     ]
    }
   ],
   "source": [
    "for i in range(0,N):\n",
    "    print(i,sub_seqs[i])    # NOTE: 4 empty spaces for intendation"
   ]
  },
  {
   "cell_type": "code",
   "execution_count": 15,
   "id": "99902206",
   "metadata": {},
   "outputs": [
    {
     "name": "stdout",
     "output_type": "stream",
     "text": [
      "0 A\n",
      "1 A\n",
      "2 TCCGCTA\n",
      "3 CGCTGA\n",
      "4 A\n",
      "5 TCCGA\n",
      "6 CTA\n",
      "7 CA\n",
      "8 A\n"
     ]
    }
   ],
   "source": [
    "for i in range(0,N):\n",
    "    print(i,sub_seqs[i]+'A')\n"
   ]
  },
  {
   "cell_type": "code",
   "execution_count": 14,
   "id": "c6d9ac3f",
   "metadata": {},
   "outputs": [
    {
     "data": {
      "text/plain": [
       "'TCCGCT'"
      ]
     },
     "execution_count": 14,
     "metadata": {},
     "output_type": "execute_result"
    }
   ],
   "source": [
    "#combine\n",
    "sub_seqs[0]+sub_seqs[1]+sub_seqs[2]  # '+'' is for concatenation or combining"
   ]
  },
  {
   "cell_type": "code",
   "execution_count": 17,
   "id": "be71c47e",
   "metadata": {},
   "outputs": [
    {
     "name": "stdout",
     "output_type": "stream",
     "text": [
      "Magnifera,Indica\n"
     ]
    }
   ],
   "source": [
    "plant='Magnifera'+ ',' + 'Indica'\n",
    "print(plant)"
   ]
  },
  {
   "cell_type": "code",
   "execution_count": 19,
   "id": "ffb212d4",
   "metadata": {},
   "outputs": [
    {
     "data": {
      "text/plain": [
       "['Magnifera', 'Indica']"
      ]
     },
     "execution_count": 19,
     "metadata": {},
     "output_type": "execute_result"
    }
   ],
   "source": [
    "plant.split(',')"
   ]
  },
  {
   "cell_type": "code",
   "execution_count": 20,
   "id": "b5b0bb5e",
   "metadata": {},
   "outputs": [
    {
     "name": "stdout",
     "output_type": "stream",
     "text": [
      "Magnifera Indica\n"
     ]
    }
   ],
   "source": [
    "mylist=plant.split(',')\n",
    "genus=mylist[0]\n",
    "species=mylist[1]\n",
    "print(genus,species)"
   ]
  },
  {
   "cell_type": "markdown",
   "id": "5e545df2",
   "metadata": {},
   "source": [
    "## 3. <a name=\"list\">List</a>\n",
    "\n",
    "We have seen in one of the statements above that splitting a string returns a list. A list is useful object to collect  data."
   ]
  },
  {
   "cell_type": "code",
   "execution_count": 11,
   "id": "4d7654ff",
   "metadata": {},
   "outputs": [
    {
     "data": {
      "text/plain": [
       "list"
      ]
     },
     "execution_count": 11,
     "metadata": {},
     "output_type": "execute_result"
    }
   ],
   "source": [
    "seq='AATCCGCTACGCTGAATCCGACTACA'\n",
    "sub_seqs=seq.split('A')\n",
    "type(sub_seqs)"
   ]
  },
  {
   "cell_type": "code",
   "execution_count": 14,
   "id": "8db22fe8",
   "metadata": {},
   "outputs": [
    {
     "data": {
      "text/plain": [
       "list"
      ]
     },
     "execution_count": 14,
     "metadata": {},
     "output_type": "execute_result"
    }
   ],
   "source": [
    "list_A=[1,2,3]  # make a list of integers\n",
    "type(list_A)"
   ]
  },
  {
   "cell_type": "code",
   "execution_count": 15,
   "id": "56394e1f",
   "metadata": {},
   "outputs": [
    {
     "data": {
      "text/plain": [
       "list"
      ]
     },
     "execution_count": 15,
     "metadata": {},
     "output_type": "execute_result"
    }
   ],
   "source": [
    "type(list_A[0:1])"
   ]
  },
  {
   "cell_type": "code",
   "execution_count": 16,
   "id": "2f72df21",
   "metadata": {},
   "outputs": [
    {
     "data": {
      "text/plain": [
       "int"
      ]
     },
     "execution_count": 16,
     "metadata": {},
     "output_type": "execute_result"
    }
   ],
   "source": [
    "type(list_A[0]) # query on one element of the list"
   ]
  },
  {
   "cell_type": "code",
   "execution_count": 17,
   "id": "b1a17385",
   "metadata": {},
   "outputs": [
    {
     "name": "stdout",
     "output_type": "stream",
     "text": [
      "<class 'int'>\n"
     ]
    }
   ],
   "source": [
    "print(type(list_A[0]))"
   ]
  },
  {
   "cell_type": "code",
   "execution_count": 18,
   "id": "d9468054",
   "metadata": {},
   "outputs": [
    {
     "name": "stdout",
     "output_type": "stream",
     "text": [
      "<class 'int'> <class 'str'>\n"
     ]
    }
   ],
   "source": [
    "list_B=[1,'one']      # NOTE: contains objects of different types\n",
    "print(type(list_B[0]),type(list_B[1]))"
   ]
  },
  {
   "cell_type": "code",
   "execution_count": 19,
   "id": "0ba462af",
   "metadata": {},
   "outputs": [
    {
     "data": {
      "text/plain": [
       "2"
      ]
     },
     "execution_count": 19,
     "metadata": {},
     "output_type": "execute_result"
    }
   ],
   "source": [
    "len(list_B)"
   ]
  },
  {
   "cell_type": "markdown",
   "id": "e3d9a9d8",
   "metadata": {},
   "source": [
    "### Shallow copy vs. deep copy"
   ]
  },
  {
   "cell_type": "code",
   "execution_count": 20,
   "id": "54ea4c13",
   "metadata": {},
   "outputs": [
    {
     "name": "stdout",
     "output_type": "stream",
     "text": [
      "List A is: [1, 2, 3, 4]\n",
      "List B is: [1, 2, 3, 4]\n",
      "List A is: [1, 2, 7, 4]\n",
      "List B is: [1, 2, 7, 4]\n"
     ]
    }
   ],
   "source": [
    "A=[1,2,3,4]\n",
    "print(\"List A is:\", A)\n",
    "#B=A[0:3]                    # Ignoring [0:3] means all elements are used\n",
    "B=A # is a shallow copy\n",
    "print(\"List B is:\", B)\n",
    "B[2]=7\n",
    "print(\"List A is:\", A)\n",
    "print(\"List B is:\", B)"
   ]
  },
  {
   "cell_type": "markdown",
   "id": "f351dc97",
   "metadata": {},
   "source": [
    "Note that when B is changed A is also affected because the statement B=A does not 'copy' but only 'links' B to A. In order to copy a list to another independent one, one has to deep copy as shown below."
   ]
  },
  {
   "cell_type": "code",
   "execution_count": 21,
   "id": "344ab24a",
   "metadata": {},
   "outputs": [
    {
     "name": "stdout",
     "output_type": "stream",
     "text": [
      "List A is: [1, 2, 3, 4]\n",
      "List B is: [1, 2, 3, 4]\n",
      "List A is: [1, 2, 3, 4]\n"
     ]
    }
   ],
   "source": [
    "A=[1,2,3,4]\n",
    "print(\"List A is:\", A)\n",
    "#B=A.copy()[0:3]    # Deep copy, ignoring [0:3] means all elements are used\n",
    "B=A.copy() # deep copy A into B\n",
    "print(\"List B is:\", B)\n",
    "B[2]=7\n",
    "print(\"List A is:\", A)\n",
    "#seq.split?\n",
    "#A.copy?"
   ]
  },
  {
   "cell_type": "markdown",
   "id": "c1078bdf",
   "metadata": {},
   "source": [
    "## 4. <a name=\"concat\">Concatenation vs. appending</a>"
   ]
  },
  {
   "cell_type": "code",
   "execution_count": 22,
   "id": "9b3a69e8",
   "metadata": {},
   "outputs": [
    {
     "name": "stdout",
     "output_type": "stream",
     "text": [
      "Whatislife?\n",
      "What is life?\n"
     ]
    }
   ],
   "source": [
    "str1='What'\n",
    "str2='is'\n",
    "str3='life?'\n",
    "print(str1+str2+str3)   # Concatenation of strings\n",
    "print(str1+' '+str2+' '+str3)"
   ]
  },
  {
   "cell_type": "code",
   "execution_count": 23,
   "id": "c5ed241a",
   "metadata": {},
   "outputs": [
    {
     "data": {
      "text/plain": [
       "['What', 'is', 'life?']"
      ]
     },
     "execution_count": 23,
     "metadata": {},
     "output_type": "execute_result"
    }
   ],
   "source": [
    "str4=[str1,str2]\n",
    "str5=[str3]\n",
    "str4+str5              # Append elements to a list "
   ]
  },
  {
   "cell_type": "markdown",
   "id": "3f0566c6",
   "metadata": {},
   "source": [
    "## 5. <a name=\"forloop\">For loop</a>"
   ]
  },
  {
   "cell_type": "code",
   "execution_count": 24,
   "id": "f72fcbf3",
   "metadata": {},
   "outputs": [
    {
     "name": "stdout",
     "output_type": "stream",
     "text": [
      "0\n",
      "1\n",
      "2\n",
      "3\n",
      "4\n"
     ]
    }
   ],
   "source": [
    "N=5\n",
    "for i in range(N):   # default offset (initial index) is 0, final index is N-1\n",
    "    print(i)"
   ]
  },
  {
   "cell_type": "code",
   "execution_count": 25,
   "id": "47d0d24c",
   "metadata": {},
   "outputs": [
    {
     "name": "stdout",
     "output_type": "stream",
     "text": [
      "0\n",
      "1\n",
      "2\n",
      "3\n",
      "4\n"
     ]
    }
   ],
   "source": [
    "for i in range(0,N):\n",
    "    print(i)"
   ]
  },
  {
   "cell_type": "code",
   "execution_count": 26,
   "id": "ddc27bc5",
   "metadata": {},
   "outputs": [
    {
     "name": "stdout",
     "output_type": "stream",
     "text": [
      "3\n",
      "4\n"
     ]
    }
   ],
   "source": [
    "for i in range(3,N):\n",
    "    print(i)"
   ]
  },
  {
   "cell_type": "code",
   "execution_count": 27,
   "id": "9e3c2153",
   "metadata": {},
   "outputs": [
    {
     "name": "stdout",
     "output_type": "stream",
     "text": [
      "0\n",
      "2\n",
      "4\n"
     ]
    }
   ],
   "source": [
    "step=2\n",
    "for i in range(0,N,step):  # initial index = 0, final index = N, stride/step = 2\n",
    "    print(i)"
   ]
  },
  {
   "cell_type": "code",
   "execution_count": 28,
   "id": "cb2cf73a",
   "metadata": {},
   "outputs": [
    {
     "name": "stdout",
     "output_type": "stream",
     "text": [
      "5\n",
      "4\n",
      "3\n",
      "2\n",
      "1\n"
     ]
    }
   ],
   "source": [
    "for i in range(N,0,-1):   # runs until 0+1\n",
    "    print(i)"
   ]
  },
  {
   "cell_type": "code",
   "execution_count": 29,
   "id": "a8548c68",
   "metadata": {},
   "outputs": [
    {
     "name": "stdout",
     "output_type": "stream",
     "text": [
      "1\n",
      "1\n",
      "2\n",
      "3\n",
      "5\n",
      "8\n"
     ]
    }
   ],
   "source": [
    "for i in [1,1,2,3,5,8]:  # instead of range, one can use a list\n",
    "    print(i)"
   ]
  },
  {
   "cell_type": "markdown",
   "id": "e4007ef2",
   "metadata": {},
   "source": [
    "## 6. <a name=\"whileloop\">While loop</a>"
   ]
  },
  {
   "cell_type": "code",
   "execution_count": 30,
   "id": "dc1c6c3a",
   "metadata": {},
   "outputs": [
    {
     "name": "stdout",
     "output_type": "stream",
     "text": [
      "0\n",
      "1\n",
      "2\n",
      "3\n",
      "4\n"
     ]
    }
   ],
   "source": [
    "i=0\n",
    "while i<5:  # while condition\n",
    "    print(i)\n",
    "    i=i+1   # increment by 1"
   ]
  },
  {
   "cell_type": "markdown",
   "id": "b289302d",
   "metadata": {},
   "source": [
    "## 7. <a name=\"break\">Break vs. continue</a>"
   ]
  },
  {
   "cell_type": "code",
   "execution_count": 31,
   "id": "d560db05",
   "metadata": {},
   "outputs": [
    {
     "name": "stdout",
     "output_type": "stream",
     "text": [
      "0\n",
      "1\n",
      "2\n",
      "3\n",
      "4\n",
      "6\n",
      "7\n"
     ]
    }
   ],
   "source": [
    "for i in range(0,8):\n",
    "    if i == 5:       # same as if (i == 5):\n",
    "        continue     # when i takes the value 5, the loop is skipped\n",
    "    print(i)"
   ]
  },
  {
   "cell_type": "code",
   "execution_count": 32,
   "id": "7279237f",
   "metadata": {},
   "outputs": [
    {
     "name": "stdout",
     "output_type": "stream",
     "text": [
      "0\n",
      "1\n",
      "2\n",
      "3\n",
      "4\n"
     ]
    }
   ],
   "source": [
    "for i in range(0,8):\n",
    "    if i == 5:    # same as if (i == 5):\n",
    "        break     # when i takes the value 5, the loop is terminated\n",
    "    print(i)"
   ]
  },
  {
   "cell_type": "code",
   "execution_count": 33,
   "id": "36d369dd",
   "metadata": {},
   "outputs": [
    {
     "name": "stdout",
     "output_type": "stream",
     "text": [
      "2\n",
      "4\n",
      "6\n"
     ]
    }
   ],
   "source": [
    "for i in range(1,8):\n",
    "    if i%2 != 0:     # same as if (if i%2 != 0):\n",
    "        continue     # when i is odd skip\n",
    "    print(i)"
   ]
  },
  {
   "cell_type": "markdown",
   "id": "b0a37396",
   "metadata": {},
   "source": [
    "## 8. <a name=\"function\">Function</a>"
   ]
  },
  {
   "cell_type": "markdown",
   "id": "94eab421",
   "metadata": {},
   "source": [
    "If part of your code performing a task is repeated multiple times, it is best to define that part of the code as a function. Here is how you can make your own function. This function will determine if an input data is an integer or not. The output will be 'true' if the data is an integer and 'false' is the data is not an integer."
   ]
  },
  {
   "cell_type": "code",
   "execution_count": 34,
   "id": "f25472d4",
   "metadata": {},
   "outputs": [],
   "source": [
    "def is_int(x):\n",
    "    '''\n",
    "    Takes an object as input and returns a boolean data as output.\n",
    "    Later, I have to add more information here\n",
    "    \n",
    "    Example case 1: \n",
    "    ---------------\n",
    "       use it to check whether a number is an integer\n",
    "       is_int(5)\n",
    "    '''\n",
    "    out=False       # Assign False at the beginning \n",
    "    data_1=type(x)\n",
    "    data_2=type(1)\n",
    "    if data_1==data_2:\n",
    "        out=True\n",
    "    val1=x\n",
    "    val2=x**2\n",
    "    return(out,val1,val2)"
   ]
  },
  {
   "cell_type": "code",
   "execution_count": 35,
   "id": "41bb33b4",
   "metadata": {},
   "outputs": [
    {
     "name": "stdout",
     "output_type": "stream",
     "text": [
      "Help on function is_int in module __main__:\n",
      "\n",
      "is_int(x)\n",
      "    Takes an object as input and returns a boolean data as output.\n",
      "    Later, I have to add more information here\n",
      "    \n",
      "    Example case 1: \n",
      "    ---------------\n",
      "       use it to check whether a number is an integer\n",
      "       is_int(5)\n",
      "\n"
     ]
    }
   ],
   "source": [
    "help(is_int)"
   ]
  },
  {
   "cell_type": "code",
   "execution_count": 36,
   "id": "1494448e",
   "metadata": {},
   "outputs": [
    {
     "name": "stdout",
     "output_type": "stream",
     "text": [
      "\n",
      "    Takes an object as input and returns a boolean data as output.\n",
      "    Later, I have to add more information here\n",
      "    \n",
      "    Example case 1: \n",
      "    ---------------\n",
      "       use it to check whether a number is an integer\n",
      "       is_int(5)\n",
      "    \n"
     ]
    }
   ],
   "source": [
    "print(is_int.__doc__)"
   ]
  },
  {
   "cell_type": "code",
   "execution_count": 37,
   "id": "8a05af0e",
   "metadata": {},
   "outputs": [
    {
     "data": {
      "text/plain": [
       "<function __main__.is_int(x)>"
      ]
     },
     "execution_count": 37,
     "metadata": {},
     "output_type": "execute_result"
    }
   ],
   "source": [
    "is_int # then, press shift + enter"
   ]
  },
  {
   "cell_type": "code",
   "execution_count": 38,
   "id": "137f099d",
   "metadata": {},
   "outputs": [],
   "source": [
    "myoutput=is_int(10)"
   ]
  },
  {
   "cell_type": "code",
   "execution_count": 39,
   "id": "9879575a",
   "metadata": {},
   "outputs": [
    {
     "name": "stdout",
     "output_type": "stream",
     "text": [
      "<class 'tuple'>\n"
     ]
    }
   ],
   "source": [
    "print(type(myoutput))"
   ]
  },
  {
   "cell_type": "code",
   "execution_count": 40,
   "id": "b5704fc1",
   "metadata": {},
   "outputs": [
    {
     "name": "stdout",
     "output_type": "stream",
     "text": [
      "3\n"
     ]
    }
   ],
   "source": [
    "print(len(myoutput))"
   ]
  },
  {
   "cell_type": "code",
   "execution_count": 41,
   "id": "08bb2af9",
   "metadata": {},
   "outputs": [
    {
     "data": {
      "text/plain": [
       "True"
      ]
     },
     "execution_count": 41,
     "metadata": {},
     "output_type": "execute_result"
    }
   ],
   "source": [
    "myoutput[0]"
   ]
  },
  {
   "cell_type": "code",
   "execution_count": 42,
   "id": "db86cafd",
   "metadata": {},
   "outputs": [
    {
     "data": {
      "text/plain": [
       "10"
      ]
     },
     "execution_count": 42,
     "metadata": {},
     "output_type": "execute_result"
    }
   ],
   "source": [
    "myoutput[1]"
   ]
  },
  {
   "cell_type": "code",
   "execution_count": 43,
   "id": "2ceb6ed2",
   "metadata": {},
   "outputs": [
    {
     "name": "stdout",
     "output_type": "stream",
     "text": [
      "True\n",
      "10\n",
      "100\n"
     ]
    }
   ],
   "source": [
    "N_output=len(myoutput)\n",
    "for i in range(N_output):\n",
    "    print(myoutput[i])"
   ]
  },
  {
   "cell_type": "code",
   "execution_count": 44,
   "id": "a49d1b55",
   "metadata": {},
   "outputs": [
    {
     "data": {
      "text/plain": [
       "tuple"
      ]
     },
     "execution_count": 44,
     "metadata": {},
     "output_type": "execute_result"
    }
   ],
   "source": [
    "type(is_int(10))"
   ]
  },
  {
   "cell_type": "code",
   "execution_count": 45,
   "id": "ffb9c02a",
   "metadata": {},
   "outputs": [
    {
     "name": "stdout",
     "output_type": "stream",
     "text": [
      "Help on function is_int in module __main__:\n",
      "\n",
      "is_int(x)\n",
      "    Takes an object as input and returns a boolean data as output.\n",
      "    Later, I have to add more information here\n",
      "    \n",
      "    Example case 1: \n",
      "    ---------------\n",
      "       use it to check whether a number is an integer\n",
      "       is_int(5)\n",
      "\n"
     ]
    }
   ],
   "source": [
    "help(is_int)"
   ]
  },
  {
   "cell_type": "code",
   "execution_count": 46,
   "id": "e2c95b70",
   "metadata": {},
   "outputs": [
    {
     "name": "stdout",
     "output_type": "stream",
     "text": [
      "Help on ufunc:\n",
      "\n",
      "sqrt = <ufunc 'sqrt'>\n",
      "    sqrt(x, /, out=None, *, where=True, casting='same_kind', order='K', dtype=None, subok=True[, signature, extobj])\n",
      "    \n",
      "    Return the non-negative square-root of an array, element-wise.\n",
      "    \n",
      "    Parameters\n",
      "    ----------\n",
      "    x : array_like\n",
      "        The values whose square-roots are required.\n",
      "    out : ndarray, None, or tuple of ndarray and None, optional\n",
      "        A location into which the result is stored. If provided, it must have\n",
      "        a shape that the inputs broadcast to. If not provided or None,\n",
      "        a freshly-allocated array is returned. A tuple (possible only as a\n",
      "        keyword argument) must have length equal to the number of outputs.\n",
      "    where : array_like, optional\n",
      "        This condition is broadcast over the input. At locations where the\n",
      "        condition is True, the `out` array will be set to the ufunc result.\n",
      "        Elsewhere, the `out` array will retain its original value.\n",
      "        Note that if an uninitialized `out` array is created via the default\n",
      "        ``out=None``, locations within it where the condition is False will\n",
      "        remain uninitialized.\n",
      "    **kwargs\n",
      "        For other keyword-only arguments, see the\n",
      "        :ref:`ufunc docs <ufuncs.kwargs>`.\n",
      "    \n",
      "    Returns\n",
      "    -------\n",
      "    y : ndarray\n",
      "        An array of the same shape as `x`, containing the positive\n",
      "        square-root of each element in `x`.  If any element in `x` is\n",
      "        complex, a complex array is returned (and the square-roots of\n",
      "        negative reals are calculated).  If all of the elements in `x`\n",
      "        are real, so is `y`, with negative elements returning ``nan``.\n",
      "        If `out` was provided, `y` is a reference to it.\n",
      "        This is a scalar if `x` is a scalar.\n",
      "    \n",
      "    See Also\n",
      "    --------\n",
      "    lib.scimath.sqrt\n",
      "        A version which returns complex numbers when given negative reals.\n",
      "    \n",
      "    Notes\n",
      "    -----\n",
      "    *sqrt* has--consistent with common convention--as its branch cut the\n",
      "    real \"interval\" [`-inf`, 0), and is continuous from above on it.\n",
      "    A branch cut is a curve in the complex plane across which a given\n",
      "    complex function fails to be continuous.\n",
      "    \n",
      "    Examples\n",
      "    --------\n",
      "    >>> np.sqrt([1,4,9])\n",
      "    array([ 1.,  2.,  3.])\n",
      "    \n",
      "    >>> np.sqrt([4, -1, -3+4J])\n",
      "    array([ 2.+0.j,  0.+1.j,  1.+2.j])\n",
      "    \n",
      "    >>> np.sqrt([4, -1, np.inf])\n",
      "    array([ 2., nan, inf])\n",
      "\n"
     ]
    }
   ],
   "source": [
    "import numpy\n",
    "help(numpy.sqrt)"
   ]
  },
  {
   "cell_type": "code",
   "execution_count": 47,
   "id": "c02b3517",
   "metadata": {},
   "outputs": [],
   "source": [
    "# is_int?  # uncomment and try"
   ]
  },
  {
   "cell_type": "code",
   "execution_count": 48,
   "id": "63dac7f6",
   "metadata": {},
   "outputs": [
    {
     "name": "stdout",
     "output_type": "stream",
     "text": [
      "\n",
      "    Takes an object as input and returns a boolean data as output.\n",
      "    Later, I have to add more information here\n",
      "    \n",
      "    Example case 1: \n",
      "    ---------------\n",
      "       use it to check whether a number is an integer\n",
      "       is_int(5)\n",
      "    \n"
     ]
    }
   ],
   "source": [
    "print(is_int.__doc__) "
   ]
  },
  {
   "cell_type": "code",
   "execution_count": 49,
   "id": "8e8958c2",
   "metadata": {},
   "outputs": [
    {
     "data": {
      "text/plain": [
       "['__annotations__',\n",
       " '__call__',\n",
       " '__class__',\n",
       " '__closure__',\n",
       " '__code__',\n",
       " '__defaults__',\n",
       " '__delattr__',\n",
       " '__dict__',\n",
       " '__dir__',\n",
       " '__doc__',\n",
       " '__eq__',\n",
       " '__format__',\n",
       " '__ge__',\n",
       " '__get__',\n",
       " '__getattribute__',\n",
       " '__globals__',\n",
       " '__gt__',\n",
       " '__hash__',\n",
       " '__init__',\n",
       " '__init_subclass__',\n",
       " '__kwdefaults__',\n",
       " '__le__',\n",
       " '__lt__',\n",
       " '__module__',\n",
       " '__name__',\n",
       " '__ne__',\n",
       " '__new__',\n",
       " '__qualname__',\n",
       " '__reduce__',\n",
       " '__reduce_ex__',\n",
       " '__repr__',\n",
       " '__setattr__',\n",
       " '__sizeof__',\n",
       " '__str__',\n",
       " '__subclasshook__']"
      ]
     },
     "execution_count": 49,
     "metadata": {},
     "output_type": "execute_result"
    }
   ],
   "source": [
    "dir(is_int) # get all options for a function"
   ]
  },
  {
   "cell_type": "markdown",
   "id": "9b043b97",
   "metadata": {},
   "source": [
    "## 9. <a name=\"module\">Modules</a>"
   ]
  },
  {
   "cell_type": "markdown",
   "id": "47b932ac",
   "metadata": {},
   "source": [
    "One of the great advantages of using Python is the availability of a number of packages and modules that can be imported in our codes. Here are some examples. In the next notebook, there are examples of modules of use on data science.   "
   ]
  },
  {
   "cell_type": "markdown",
   "id": "c0a4855c",
   "metadata": {},
   "source": [
    "### 9.1 os and sys"
   ]
  },
  {
   "cell_type": "code",
   "execution_count": 50,
   "id": "880daf06",
   "metadata": {},
   "outputs": [],
   "source": [
    "import os"
   ]
  },
  {
   "cell_type": "code",
   "execution_count": 51,
   "id": "eb4d3505",
   "metadata": {},
   "outputs": [],
   "source": [
    "# help(os)  # uncomment and try"
   ]
  },
  {
   "cell_type": "code",
   "execution_count": 52,
   "id": "668a5016",
   "metadata": {},
   "outputs": [
    {
     "data": {
      "text/plain": [
       "'/Users/raghurama/repos/DataScience2023/ipynb'"
      ]
     },
     "execution_count": 52,
     "metadata": {},
     "output_type": "execute_result"
    }
   ],
   "source": [
    "os.getcwd()    # get the current working directory"
   ]
  },
  {
   "cell_type": "code",
   "execution_count": 53,
   "id": "82c16e4a",
   "metadata": {},
   "outputs": [],
   "source": [
    "import sys"
   ]
  },
  {
   "cell_type": "code",
   "execution_count": 54,
   "id": "18d61a89",
   "metadata": {},
   "outputs": [
    {
     "data": {
      "text/plain": [
       "'3.9.4 (v3.9.4:1f2e3088f3, Apr  4 2021, 12:19:19) \\n[Clang 12.0.0 (clang-1200.0.32.29)]'"
      ]
     },
     "execution_count": 54,
     "metadata": {},
     "output_type": "execute_result"
    }
   ],
   "source": [
    "sys.version"
   ]
  },
  {
   "cell_type": "code",
   "execution_count": 55,
   "id": "10c8f105",
   "metadata": {},
   "outputs": [
    {
     "data": {
      "text/plain": [
       "sys.version_info(major=3, minor=9, micro=4, releaselevel='final', serial=0)"
      ]
     },
     "execution_count": 55,
     "metadata": {},
     "output_type": "execute_result"
    }
   ],
   "source": [
    "sys.version_info"
   ]
  },
  {
   "cell_type": "markdown",
   "id": "9c774f58",
   "metadata": {},
   "source": [
    "### 9.2 Write and import your own module"
   ]
  },
  {
   "cell_type": "markdown",
   "id": "c16cd66c",
   "metadata": {},
   "source": [
    "In `mymodule.py` located in the same folder, we have defined two functions. Let's import this module."
   ]
  },
  {
   "cell_type": "code",
   "execution_count": 56,
   "id": "8e54b2db",
   "metadata": {},
   "outputs": [],
   "source": [
    "import mymodule"
   ]
  },
  {
   "cell_type": "code",
   "execution_count": 57,
   "id": "b4e66294",
   "metadata": {},
   "outputs": [
    {
     "name": "stdout",
     "output_type": "stream",
     "text": [
      "Hello, welcome!\n"
     ]
    }
   ],
   "source": [
    "# Call the greet() function from mymodule.py\n",
    "mymodule.greet()"
   ]
  },
  {
   "cell_type": "code",
   "execution_count": 58,
   "id": "5d5951aa",
   "metadata": {},
   "outputs": [
    {
     "name": "stdout",
     "output_type": "stream",
     "text": [
      "20\n"
     ]
    }
   ],
   "source": [
    "# Call the multiply() function from mymodule.py\n",
    "result = mymodule.multiply(4, 5)\n",
    "print(result)"
   ]
  },
  {
   "cell_type": "markdown",
   "id": "f867514b",
   "metadata": {},
   "source": [
    "Another way is to importing these functions directly. "
   ]
  },
  {
   "cell_type": "code",
   "execution_count": 59,
   "id": "27f8d83f",
   "metadata": {},
   "outputs": [
    {
     "name": "stdout",
     "output_type": "stream",
     "text": [
      "Hello, welcome!\n",
      "20\n"
     ]
    }
   ],
   "source": [
    "from mymodule import greet, multiply\n",
    "\n",
    "# Call the greet() function from mymodule.py\n",
    "greet()\n",
    "\n",
    "# Call the multiply() function from mymodule.py\n",
    "result = multiply(4, 5)\n",
    "print(result)"
   ]
  },
  {
   "cell_type": "markdown",
   "id": "e8c5d597",
   "metadata": {},
   "source": [
    "Suppose your module file is located in another directory, which is often the case, then you will have to use the `sys,path` to method to add the directory"
   ]
  },
  {
   "cell_type": "code",
   "execution_count": 60,
   "id": "032be885",
   "metadata": {},
   "outputs": [],
   "source": [
    "import sys\n",
    "sys.path.append('/Users/raghurama/repos/DataScience2023/ipynb/mymodules')\n",
    "\n",
    "from algebra import square as my_sqr\n",
    "from algebra import add as my_add"
   ]
  },
  {
   "cell_type": "code",
   "execution_count": 61,
   "id": "1dd4f48d",
   "metadata": {},
   "outputs": [
    {
     "data": {
      "text/plain": [
       "4"
      ]
     },
     "execution_count": 61,
     "metadata": {},
     "output_type": "execute_result"
    }
   ],
   "source": [
    "my_sqr(2)"
   ]
  },
  {
   "cell_type": "code",
   "execution_count": 62,
   "id": "5f3495e7",
   "metadata": {},
   "outputs": [
    {
     "data": {
      "text/plain": [
       "7"
      ]
     },
     "execution_count": 62,
     "metadata": {},
     "output_type": "execute_result"
    }
   ],
   "source": [
    "my_add(3,4)"
   ]
  },
  {
   "cell_type": "markdown",
   "id": "68175f48",
   "metadata": {},
   "source": [
    "### 9.3 math"
   ]
  },
  {
   "cell_type": "code",
   "execution_count": 63,
   "id": "d66d0b6e",
   "metadata": {},
   "outputs": [],
   "source": [
    "import math\n",
    "#dir(math)      # uncomment, run and see"
   ]
  },
  {
   "cell_type": "code",
   "execution_count": 64,
   "id": "c2bc0125",
   "metadata": {},
   "outputs": [
    {
     "name": "stdout",
     "output_type": "stream",
     "text": [
      "78.53981633974483\n"
     ]
    }
   ],
   "source": [
    "rad=5\n",
    "Area=math.pi*rad**2\n",
    "print(Area)"
   ]
  },
  {
   "cell_type": "code",
   "execution_count": 65,
   "id": "12e21366",
   "metadata": {},
   "outputs": [
    {
     "name": "stdout",
     "output_type": "stream",
     "text": [
      "Help on built-in function erf in module math:\n",
      "\n",
      "erf(x, /)\n",
      "    Error function at x.\n",
      "\n"
     ]
    }
   ],
   "source": [
    "help(math.erf)"
   ]
  },
  {
   "cell_type": "code",
   "execution_count": 66,
   "id": "04bd4356",
   "metadata": {},
   "outputs": [
    {
     "name": "stdout",
     "output_type": "stream",
     "text": [
      "Error function at x.\n"
     ]
    }
   ],
   "source": [
    "print(math.erf.__doc__)"
   ]
  },
  {
   "cell_type": "code",
   "execution_count": 67,
   "id": "b44763b5",
   "metadata": {},
   "outputs": [
    {
     "data": {
      "text/plain": [
       "1.4142135623730951"
      ]
     },
     "execution_count": 67,
     "metadata": {},
     "output_type": "execute_result"
    }
   ],
   "source": [
    "math.sqrt(2)"
   ]
  },
  {
   "cell_type": "code",
   "execution_count": 68,
   "id": "bbae9207",
   "metadata": {},
   "outputs": [
    {
     "data": {
      "text/plain": [
       "1.4142135623730951"
      ]
     },
     "execution_count": 68,
     "metadata": {},
     "output_type": "execute_result"
    }
   ],
   "source": [
    "import math as m\n",
    "m.sqrt(2)"
   ]
  },
  {
   "cell_type": "code",
   "execution_count": 69,
   "id": "680726a8",
   "metadata": {},
   "outputs": [
    {
     "data": {
      "text/plain": [
       "1.4142135623730951"
      ]
     },
     "execution_count": 69,
     "metadata": {},
     "output_type": "execute_result"
    }
   ],
   "source": [
    "from math import sqrt\n",
    "sqrt(2)"
   ]
  },
  {
   "cell_type": "markdown",
   "id": "3323db89",
   "metadata": {},
   "source": [
    "### 9.4 cmath"
   ]
  },
  {
   "cell_type": "code",
   "execution_count": 70,
   "id": "2e603987",
   "metadata": {},
   "outputs": [],
   "source": [
    "import cmath\n",
    "# dir(cmath)   # uncomment and see"
   ]
  },
  {
   "cell_type": "code",
   "execution_count": 71,
   "id": "178cd402",
   "metadata": {},
   "outputs": [
    {
     "data": {
      "text/plain": [
       "(1+0j)"
      ]
     },
     "execution_count": 71,
     "metadata": {},
     "output_type": "execute_result"
    }
   ],
   "source": [
    "cmath.sin(math.pi/2)"
   ]
  },
  {
   "cell_type": "code",
   "execution_count": 72,
   "id": "4ee86711",
   "metadata": {},
   "outputs": [],
   "source": [
    "#import os"
   ]
  },
  {
   "cell_type": "markdown",
   "id": "cbea90f1",
   "metadata": {},
   "source": [
    "### 9.5 numpy"
   ]
  },
  {
   "cell_type": "markdown",
   "id": "e7e6eecc",
   "metadata": {},
   "source": [
    "One of the most useful modules for this course is numpy. As a first application, we will use numpy to create 'arrays'. "
   ]
  },
  {
   "cell_type": "code",
   "execution_count": 73,
   "id": "4f0def4a",
   "metadata": {},
   "outputs": [],
   "source": [
    "import numpy\n",
    "#dir(numpy)   # uncomment and see"
   ]
  },
  {
   "cell_type": "markdown",
   "id": "7f538b0a",
   "metadata": {},
   "source": [
    "#### 9.5.1 1D array"
   ]
  },
  {
   "cell_type": "code",
   "execution_count": 74,
   "id": "1a14d027",
   "metadata": {},
   "outputs": [
    {
     "name": "stdout",
     "output_type": "stream",
     "text": [
      "[1. 2.]\n",
      "<class 'numpy.ndarray'>\n"
     ]
    }
   ],
   "source": [
    "import numpy as np\n",
    "a=np.array( [1.0,2.0] )   # Note that [1.0,2.0] is a list\n",
    "print(a)\n",
    "print(type(a))"
   ]
  },
  {
   "cell_type": "code",
   "execution_count": 75,
   "id": "ef6d8fc6",
   "metadata": {},
   "outputs": [
    {
     "name": "stdout",
     "output_type": "stream",
     "text": [
      "[1.         1.41421356]\n"
     ]
    }
   ],
   "source": [
    "print(np.sqrt(a))"
   ]
  },
  {
   "cell_type": "code",
   "execution_count": 76,
   "id": "953def20",
   "metadata": {},
   "outputs": [
    {
     "name": "stdout",
     "output_type": "stream",
     "text": [
      "[1. 2.]\n",
      "<class 'numpy.ndarray'>\n"
     ]
    }
   ],
   "source": [
    "b=[1.0,2.0]  # a list\n",
    "a=np.array(b)\n",
    "print(a)\n",
    "print(type(a))"
   ]
  },
  {
   "cell_type": "code",
   "execution_count": 77,
   "id": "dce7034f",
   "metadata": {},
   "outputs": [
    {
     "name": "stdout",
     "output_type": "stream",
     "text": [
      "[1 2]\n",
      "[1. 2.]\n",
      "[1.+0.j 2.+0.j]\n"
     ]
    }
   ],
   "source": [
    "a1=np.array(b,int)\n",
    "print(a1)\n",
    "a2=np.array(b,float)\n",
    "print(a2)\n",
    "a3=np.array(b,complex)\n",
    "print(a3)"
   ]
  },
  {
   "cell_type": "markdown",
   "id": "727c60ab",
   "metadata": {},
   "source": [
    "#### 9.5.2 2D array"
   ]
  },
  {
   "cell_type": "code",
   "execution_count": 78,
   "id": "a2194fda",
   "metadata": {},
   "outputs": [
    {
     "name": "stdout",
     "output_type": "stream",
     "text": [
      "[[1 2]\n",
      " [3 4]]\n"
     ]
    }
   ],
   "source": [
    "A=np.array(  [ [1,2], [3,4] ]   )  # input is list of lists\n",
    "print(A)"
   ]
  },
  {
   "cell_type": "markdown",
   "id": "a4b55da2",
   "metadata": {},
   "source": [
    "#### 9.5.3 Dot product"
   ]
  },
  {
   "cell_type": "code",
   "execution_count": 79,
   "id": "0e0e54b1",
   "metadata": {},
   "outputs": [],
   "source": [
    "A=np.array([[1,2],[3,2]])\n",
    "B=np.array([[1,1],[2,2]])\n",
    "x=np.array([7,3])\n",
    "y=np.array([2,1])"
   ]
  },
  {
   "cell_type": "code",
   "execution_count": 80,
   "id": "4ac5ea33",
   "metadata": {},
   "outputs": [
    {
     "name": "stdout",
     "output_type": "stream",
     "text": [
      "[[5 5]\n",
      " [7 7]]\n"
     ]
    }
   ],
   "source": [
    "print(np.dot(A,B))"
   ]
  },
  {
   "cell_type": "code",
   "execution_count": 81,
   "id": "cc6a1d10",
   "metadata": {},
   "outputs": [
    {
     "name": "stdout",
     "output_type": "stream",
     "text": [
      "[13 27]\n"
     ]
    }
   ],
   "source": [
    "print(np.dot(A,x))"
   ]
  },
  {
   "cell_type": "code",
   "execution_count": 82,
   "id": "29c7ab11",
   "metadata": {},
   "outputs": [
    {
     "name": "stdout",
     "output_type": "stream",
     "text": [
      "17\n"
     ]
    }
   ],
   "source": [
    "print(np.dot(x,y))"
   ]
  },
  {
   "cell_type": "markdown",
   "id": "942925da",
   "metadata": {},
   "source": [
    "## 10. <a name=\"inputoutput\">Input/Output</a>"
   ]
  },
  {
   "cell_type": "code",
   "execution_count": 83,
   "id": "271de7bf",
   "metadata": {},
   "outputs": [
    {
     "name": "stdout",
     "output_type": "stream",
     "text": [
      "Enter temperature: \n",
      "273.15\n"
     ]
    }
   ],
   "source": [
    "T=input('Enter temperature: \\n')"
   ]
  },
  {
   "cell_type": "code",
   "execution_count": 84,
   "id": "cd250080",
   "metadata": {},
   "outputs": [
    {
     "name": "stdout",
     "output_type": "stream",
     "text": [
      "<class 'str'>\n"
     ]
    }
   ],
   "source": [
    "print(type(T))"
   ]
  },
  {
   "cell_type": "code",
   "execution_count": 85,
   "id": "bafc2097",
   "metadata": {},
   "outputs": [
    {
     "name": "stdout",
     "output_type": "stream",
     "text": [
      "0.0\n"
     ]
    }
   ],
   "source": [
    "T=eval(T)\n",
    "print(T-273.15)"
   ]
  },
  {
   "cell_type": "code",
   "execution_count": 86,
   "id": "54147a90",
   "metadata": {},
   "outputs": [
    {
     "name": "stdout",
     "output_type": "stream",
     "text": [
      "<class 'float'>\n"
     ]
    }
   ],
   "source": [
    "print(type(T))"
   ]
  },
  {
   "cell_type": "markdown",
   "id": "5750c054",
   "metadata": {},
   "source": [
    "### 10.1 Formatted output "
   ]
  },
  {
   "cell_type": "code",
   "execution_count": 87,
   "id": "ad1ebfcc",
   "metadata": {},
   "outputs": [
    {
     "name": "stdout",
     "output_type": "stream",
     "text": [
      "0\n",
      "1\n",
      "2\n",
      "3\n",
      "4\n",
      "5\n",
      "6\n",
      "7\n",
      "8\n",
      "9\n",
      "10\n"
     ]
    }
   ],
   "source": [
    "# Normal printing\n",
    "for i in range(11):\n",
    "    print(i)"
   ]
  },
  {
   "cell_type": "code",
   "execution_count": 88,
   "id": "4f811d0b",
   "metadata": {},
   "outputs": [
    {
     "name": "stdout",
     "output_type": "stream",
     "text": [
      "    0\n",
      "    1\n",
      "    2\n",
      "    3\n",
      "    4\n",
      "    5\n",
      "    6\n",
      "    7\n",
      "    8\n",
      "    9\n",
      "   10\n"
     ]
    }
   ],
   "source": [
    "# Formatted printing\n",
    "for i in range(11):\n",
    "    print('{:5d}'.format(i))   # '{:5d}' means integer of width 5 characters"
   ]
  },
  {
   "cell_type": "code",
   "execution_count": 89,
   "id": "bf58304b",
   "metadata": {},
   "outputs": [
    {
     "name": "stdout",
     "output_type": "stream",
     "text": [
      "00000\n",
      "00001\n",
      "00002\n",
      "00003\n",
      "00004\n",
      "00005\n",
      "00006\n",
      "00007\n",
      "00008\n",
      "00009\n",
      "00010\n"
     ]
    }
   ],
   "source": [
    "for i in range(11):\n",
    "    print('{:05d}'.format(i)) # '{:05d}' means integer of width 5 characters with empty spaces filled with zeroes"
   ]
  },
  {
   "cell_type": "code",
   "execution_count": 90,
   "id": "c5dce9e8",
   "metadata": {},
   "outputs": [
    {
     "name": "stdout",
     "output_type": "stream",
     "text": [
      "aaaa0\n",
      "aaaa1\n",
      "aaaa2\n",
      "aaaa3\n",
      "aaaa4\n",
      "aaaa5\n",
      "aaaa6\n",
      "aaaa7\n",
      "aaaa8\n",
      "aaaa9\n",
      "aaa10\n"
     ]
    }
   ],
   "source": [
    "for i in range(11):\n",
    "    if (i < 10):\n",
    "        print('aaaa{:1d}'.format(i))\n",
    "    else:\n",
    "        print('aaa{:2d}'.format(i))"
   ]
  },
  {
   "cell_type": "code",
   "execution_count": 91,
   "id": "c10fa75a",
   "metadata": {},
   "outputs": [
    {
     "name": "stdout",
     "output_type": "stream",
     "text": [
      "   0.000   0.000\n",
      "   1.000   1.000\n",
      "   2.000   1.414\n",
      "   3.000   1.732\n",
      "   4.000   2.000\n"
     ]
    }
   ],
   "source": [
    "for i in range(5):\n",
    "    print('{:8.3f}{:8.3f}'.format(i,math.sqrt(i))) # floats of 8-character width with 3 characters for fractions"
   ]
  },
  {
   "cell_type": "code",
   "execution_count": 92,
   "id": "fa75c121",
   "metadata": {},
   "outputs": [
    {
     "name": "stdout",
     "output_type": "stream",
     "text": [
      "0.000E+000.000E+00\n",
      "1.000E+001.000E+00\n",
      "2.000E+001.414E+00\n",
      "3.000E+001.732E+00\n",
      "4.000E+002.000E+00\n"
     ]
    }
   ],
   "source": [
    "for i in range(5):\n",
    "    print('{:8.3E}{:8.3E}'.format(i,math.sqrt(i))) # This is desired!"
   ]
  },
  {
   "cell_type": "code",
   "execution_count": 93,
   "id": "2fa20d80",
   "metadata": {},
   "outputs": [
    {
     "name": "stdout",
     "output_type": "stream",
     "text": [
      "0.000E+00 0.000E+00 0.000e+00 0.000e+00\n",
      "1.000E+00 1.000E+00 1.000e+00 1.000e+00\n",
      "2.000E+00 1.414E+00 2.000e+00 1.414e+00\n",
      "3.000E+00 1.732E+00 3.000e+00 1.732e+00\n",
      "4.000E+00 2.000E+00 4.000e+00 2.000e+00\n"
     ]
    }
   ],
   "source": [
    "for i in range(5):\n",
    "    print('{:8.3E} {:8.3E} {:8.3e} {:8.3e}'.format(i,math.sqrt(i),i,math.sqrt(i))) # Exponential format"
   ]
  },
  {
   "cell_type": "markdown",
   "id": "deb78119",
   "metadata": {},
   "source": [
    "### 10.2 Read/Write"
   ]
  },
  {
   "cell_type": "markdown",
   "id": "aea4c60d",
   "metadata": {},
   "source": [
    "First let's write something in a file"
   ]
  },
  {
   "cell_type": "code",
   "execution_count": 94,
   "id": "8a7bc2d4",
   "metadata": {},
   "outputs": [],
   "source": [
    "file_001=open('myfile_001.txt','w')\n",
    "for i in range(10):\n",
    "    file_001.write('{:8.3E},{:8.3E}'.format(i,math.sqrt(i)))\n",
    "file_001.close()    "
   ]
  },
  {
   "cell_type": "code",
   "execution_count": 95,
   "id": "08eaf6ce",
   "metadata": {},
   "outputs": [
    {
     "data": {
      "text/plain": [
       "'/Users/raghurama/repos/DataScience2023/ipynb'"
      ]
     },
     "execution_count": 95,
     "metadata": {},
     "output_type": "execute_result"
    }
   ],
   "source": [
    "os.getcwd()    # get the current working directory"
   ]
  },
  {
   "cell_type": "code",
   "execution_count": 96,
   "id": "529487d4",
   "metadata": {},
   "outputs": [],
   "source": [
    "file_001=open('myfile_001.txt','w')\n",
    "for i in range(10):\n",
    "    file_001.write('{:8.3E},{:8.3E}\\n'.format(i,math.sqrt(i)))\n",
    "file_001.close() "
   ]
  },
  {
   "cell_type": "markdown",
   "id": "954601c0",
   "metadata": {},
   "source": [
    "Now let's read the same file"
   ]
  },
  {
   "cell_type": "code",
   "execution_count": 97,
   "id": "7b67104e",
   "metadata": {},
   "outputs": [
    {
     "name": "stdout",
     "output_type": "stream",
     "text": [
      "0.000E+00,0.000E+00\n",
      "\n",
      "1.000E+00,1.000E+00\n",
      "\n",
      "2.000E+00,1.414E+00\n",
      "\n",
      "3.000E+00,1.732E+00\n",
      "\n",
      "4.000E+00,2.000E+00\n",
      "\n",
      "5.000E+00,2.236E+00\n",
      "\n",
      "6.000E+00,2.449E+00\n",
      "\n",
      "7.000E+00,2.646E+00\n",
      "\n",
      "8.000E+00,2.828E+00\n",
      "\n",
      "9.000E+00,3.000E+00\n",
      "\n"
     ]
    }
   ],
   "source": [
    "file_001=open('myfile_001.txt','r')\n",
    "for line in file_001:\n",
    "    print(line)\n",
    "file_001.close() "
   ]
  },
  {
   "cell_type": "code",
   "execution_count": 98,
   "id": "1401fe91",
   "metadata": {},
   "outputs": [
    {
     "name": "stdout",
     "output_type": "stream",
     "text": [
      "0.000E+00 <class 'str'> 0.0 <class 'float'>\n",
      "1.000E+00 <class 'str'> 1.0 <class 'float'>\n",
      "2.000E+00 <class 'str'> 2.0 <class 'float'>\n",
      "3.000E+00 <class 'str'> 3.0 <class 'float'>\n",
      "4.000E+00 <class 'str'> 4.0 <class 'float'>\n",
      "5.000E+00 <class 'str'> 5.0 <class 'float'>\n",
      "6.000E+00 <class 'str'> 6.0 <class 'float'>\n",
      "7.000E+00 <class 'str'> 7.0 <class 'float'>\n",
      "8.000E+00 <class 'str'> 8.0 <class 'float'>\n",
      "9.000E+00 <class 'str'> 9.0 <class 'float'>\n"
     ]
    }
   ],
   "source": [
    "file_001=open('myfile_001.txt','r')\n",
    "for line in file_001:\n",
    "    col_1=line.split(',')[0]   # ToDO: Must check this line later\n",
    "    print(col_1,type(col_1),eval(col_1),type(eval(col_1)))\n",
    "file_001.close() "
   ]
  }
 ],
 "metadata": {
  "kernelspec": {
   "display_name": "Python 3 (ipykernel)",
   "language": "python",
   "name": "python3"
  },
  "language_info": {
   "codemirror_mode": {
    "name": "ipython",
    "version": 3
   },
   "file_extension": ".py",
   "mimetype": "text/x-python",
   "name": "python",
   "nbconvert_exporter": "python",
   "pygments_lexer": "ipython3",
   "version": "3.11.5"
  }
 },
 "nbformat": 4,
 "nbformat_minor": 5
}
