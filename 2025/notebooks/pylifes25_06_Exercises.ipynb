{
 "cells": [
  {
   "cell_type": "markdown",
   "id": "2b66e460",
   "metadata": {},
   "source": [
    "# **Exercises**\n",
    "\n",
    "---"
   ]
  },
  {
   "cell_type": "markdown",
   "id": "f39ca554",
   "metadata": {},
   "source": [
    "### **Exercise 1:**  \n",
    "Write a script to:\n",
    "1. Create a text file named `squares.txt`.\n",
    "2. Write the squares of numbers from 1 to 20 into the file, each on a new line.\n",
    "3. Read the file and print the contents."
   ]
  },
  {
   "cell_type": "markdown",
   "id": "8eed915d",
   "metadata": {},
   "source": [
    "### **Exercise 2:**  \n",
    "Modify the previous code to extract and print only the even squares from the file. "
   ]
  },
  {
   "cell_type": "markdown",
   "id": "9e346d37",
   "metadata": {},
   "source": [
    "### **Exercise 3:**  \n",
    "Create a dictionary `marvel_heroes` with at least five superheroes and their ages. Perform the following tasks:\n",
    "1. Add a new superhero to the dictionary.\n",
    "2. Remove one superhero.\n",
    "3. Print the updated dictionary."
   ]
  },
  {
   "cell_type": "markdown",
   "id": "b02a49f4",
   "metadata": {},
   "source": [
    "### **Exercise 4:**  \n",
    "Using Pandas:\n",
    "1. Create a DataFrame from the `marvel_heroes` dictionary.\n",
    "2. Calculate the mean age of superheroes.\n",
    "3. Sort the DataFrame by age in descending order and display it."
   ]
  },
  {
   "cell_type": "markdown",
   "id": "c8d4f4a8",
   "metadata": {},
   "source": [
    "### **Exercise 5:**  \n",
    "Write a function `age_categorizer(age)` that returns:\n",
    "- \"Young\" if age < 30  \n",
    "- \"Middle-aged\" if 30 ≤ age ≤ 50  \n",
    "- \"Old\" if age > 50  \n",
    "\n",
    "Apply this function to a column in your DataFrame and add a new column called `Age Group`."
   ]
  },
  {
   "cell_type": "markdown",
   "id": "b3f08b7d",
   "metadata": {},
   "source": [
    "### **Exercise 6:**  \n",
    "Write a function `read_and_plot(csv_file)` that:\n",
    "1. Reads a CSV file into a Pandas DataFrame.\n",
    "2. Plots a bar chart of two columns (you can choose or prompt the user for columns).\n",
    "3. Saves the plot as `chart.png`."
   ]
  },
  {
   "cell_type": "markdown",
   "id": "4dc7eb32",
   "metadata": {},
   "source": [
    "### **Exercise 7:**  \n",
    "Given a DataFrame `df` with a column `height`:\n",
    "1. Replace all missing values with the mean height.\n",
    "2. Create a histogram of the `height` column."
   ]
  },
  {
   "cell_type": "markdown",
   "id": "a6a71e88",
   "metadata": {},
   "source": [
    "### **Exercise 8:**  \n",
    "Write a script to:\n",
    "1. Read a PDB file and extract all unique amino acids.\n",
    "2. Count the occurrence of each amino acid and print the results."
   ]
  },
  {
   "cell_type": "markdown",
   "id": "f9564d0a",
   "metadata": {},
   "source": [
    "### **Exercise 9:**  \n",
    "Using Py3Dmol:\n",
    "1. Visualize a PDB file with a cartoon representation.\n",
    "2. Highlight all glycine residues in blue."
   ]
  },
  {
   "cell_type": "markdown",
   "id": "823f3bca",
   "metadata": {},
   "source": [
    "### **Exercise 10:**  \n",
    "Write a function `compute_rmsd(atom_list1, atom_list2)` that:\n",
    "1. Takes two lists of atomic coordinates.\n",
    "2. Computes and returns the Root Mean Square Deviation (RMSD) between them."
   ]
  },
  {
   "cell_type": "markdown",
   "id": "7dfbe1b5",
   "metadata": {},
   "source": [
    "### **Exercise 11:**  \n",
    "Write a function `generate_pdb(num_residues)` that:\n",
    "1. Creates a PDB file for a random peptide.\n",
    "2. The input for the function is `num_residues`, the number of residues.\n",
    "3. Saves it as `random_structure.pdb`."
   ]
  },
  {
   "cell_type": "markdown",
   "id": "75c579a1",
   "metadata": {},
   "source": [
    "### **Exercise 12:**  \n",
    "Implement a clustering algorithm (e.g., K-means) to group amino acids based on their properties (like mass, hydrophobicity) using the data in `amino_acids.csv`."
   ]
  }
 ],
 "metadata": {
  "kernelspec": {
   "display_name": "Python 3.11",
   "language": "python",
   "name": "python3.11"
  },
  "language_info": {
   "codemirror_mode": {
    "name": "ipython",
    "version": 3
   },
   "file_extension": ".py",
   "mimetype": "text/x-python",
   "name": "python",
   "nbconvert_exporter": "python",
   "pygments_lexer": "ipython3",
   "version": "3.11.6"
  }
 },
 "nbformat": 4,
 "nbformat_minor": 5
}
