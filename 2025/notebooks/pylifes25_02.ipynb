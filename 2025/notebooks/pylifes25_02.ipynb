{
 "cells": [
  {
   "cell_type": "markdown",
   "id": "18db1d30",
   "metadata": {},
   "source": [
    "# Python dictionary and Pandas dataframe"
   ]
  },
  {
   "cell_type": "markdown",
   "id": "a7c5fec2",
   "metadata": {},
   "source": [
    "## `dict` in Python"
   ]
  },
  {
   "cell_type": "markdown",
   "id": "6aabc568",
   "metadata": {},
   "source": [
    "You may have some idea about the elementary datatypes in Python such as `integer`, `float`, `complex`, and `string`. You probably also know that one can make `lists` and `arrays` of elementary datatypes to form derived \n",
    "datatypes. In Python software design, one of the most useful derived datatypes is `dict` denoting a dictionary.\n",
    "\n",
    "A `dict` is a set of key/value pairs. Here is an example inspired by Star Wars."
   ]
  },
  {
   "cell_type": "code",
   "execution_count": 1,
   "id": "8053d22c",
   "metadata": {},
   "outputs": [],
   "source": [
    "swdict={'Luke':23, \\\n",
    "        'Leia':23, \\\n",
    "        'Hans Solo':36, \\\n",
    "        'Chewbacca':203 }\n",
    "\n",
    "#swdict={'Luke':23, 'Leia':23, 'Hans Solo':36,'Chewbacca':203} # dict in single-line"
   ]
  },
  {
   "cell_type": "code",
   "execution_count": 2,
   "id": "ddc6527b",
   "metadata": {},
   "outputs": [
    {
     "name": "stdout",
     "output_type": "stream",
     "text": [
      "{'Luke': 23, 'Leia': 23, 'Hans Solo': 36, 'Chewbacca': 203}\n"
     ]
    }
   ],
   "source": [
    "print(swdict)"
   ]
  },
  {
   "cell_type": "code",
   "execution_count": 3,
   "id": "6154a273",
   "metadata": {},
   "outputs": [
    {
     "name": "stdout",
     "output_type": "stream",
     "text": [
      "<class 'dict'>\n"
     ]
    }
   ],
   "source": [
    "print(type(swdict))"
   ]
  },
  {
   "cell_type": "markdown",
   "id": "ef383033",
   "metadata": {},
   "source": [
    "### _You can query (i.e. get/obtain) the value of an element (i.e. an entry) in the set py providing the corresponding key (i.e. label) as a string argument._"
   ]
  },
  {
   "cell_type": "code",
   "execution_count": 4,
   "id": "1daa3de9",
   "metadata": {},
   "outputs": [
    {
     "data": {
      "text/plain": [
       "203"
      ]
     },
     "execution_count": 4,
     "metadata": {},
     "output_type": "execute_result"
    }
   ],
   "source": [
    "swdict['Chewbacca']"
   ]
  },
  {
   "cell_type": "code",
   "execution_count": 5,
   "id": "53af98d0",
   "metadata": {},
   "outputs": [
    {
     "name": "stdout",
     "output_type": "stream",
     "text": [
      "'Chewbacca' is the key and  203  is its value\n"
     ]
    }
   ],
   "source": [
    "print('\\'Chewbacca\\' is the key and ', swdict['Chewbacca'], ' is its value')"
   ]
  },
  {
   "cell_type": "markdown",
   "id": "cf6ce6e0",
   "metadata": {},
   "source": [
    "Let's update the dictionary, i.e. add a new entry"
   ]
  },
  {
   "cell_type": "code",
   "execution_count": 6,
   "id": "af51c2b5",
   "metadata": {},
   "outputs": [
    {
     "name": "stdout",
     "output_type": "stream",
     "text": [
      "{'Luke': 23, 'Leia': 23, 'Hans Solo': 36, 'Chewbacca': 203, 'Darth Vader': 45}\n"
     ]
    }
   ],
   "source": [
    "swdict['Darth Vader']=45 # add an entry\n",
    "print(swdict) "
   ]
  },
  {
   "cell_type": "markdown",
   "id": "478cfd87",
   "metadata": {},
   "source": [
    "You can also remove an entry from the dictionary"
   ]
  },
  {
   "cell_type": "code",
   "execution_count": 7,
   "id": "f6e40313",
   "metadata": {},
   "outputs": [
    {
     "name": "stdout",
     "output_type": "stream",
     "text": [
      "{'Luke': 23, 'Hans Solo': 36, 'Chewbacca': 203, 'Darth Vader': 45}\n"
     ]
    }
   ],
   "source": [
    "del swdict['Leia'] # remove an entry\n",
    "print(swdict) "
   ]
  },
  {
   "cell_type": "markdown",
   "id": "ea1223b1",
   "metadata": {},
   "source": [
    "You can delete the entire dictionary if needed"
   ]
  },
  {
   "cell_type": "code",
   "execution_count": 8,
   "id": "8c091150",
   "metadata": {},
   "outputs": [],
   "source": [
    "del swdict \n",
    "# uncomment the following line and `Run`\n",
    "# print(swdict) "
   ]
  },
  {
   "cell_type": "markdown",
   "id": "77af6952",
   "metadata": {},
   "source": [
    "Let's declare the dictionary again and learn some more options"
   ]
  },
  {
   "cell_type": "code",
   "execution_count": 9,
   "id": "0f6e9711",
   "metadata": {},
   "outputs": [
    {
     "name": "stdout",
     "output_type": "stream",
     "text": [
      "{'Luke': 23, 'Leia': 23, 'Hans Solo': 36, 'Darth Vader': 45, 'obi': 57, 'Chewbacca': 203}\n"
     ]
    }
   ],
   "source": [
    "swdict_full={'Luke':23,'Leia':23,'Hans Solo':36,'Darth Vader':45,'obi':57,'Chewbacca':203} \n",
    "print(swdict_full)"
   ]
  },
  {
   "cell_type": "code",
   "execution_count": 10,
   "id": "9991ced8",
   "metadata": {},
   "outputs": [
    {
     "name": "stdout",
     "output_type": "stream",
     "text": [
      "6\n"
     ]
    }
   ],
   "source": [
    "print(len(swdict_full)) # Number of entries"
   ]
  },
  {
   "cell_type": "code",
   "execution_count": 11,
   "id": "8a42df57",
   "metadata": {},
   "outputs": [
    {
     "name": "stdout",
     "output_type": "stream",
     "text": [
      "{'Leia': None, 'Luke': None}\n"
     ]
    }
   ],
   "source": [
    "subset=('Leia','Luke')\n",
    "swdict_subset= swdict_full.fromkeys(subset)\n",
    "print(swdict_subset)"
   ]
  },
  {
   "cell_type": "code",
   "execution_count": 12,
   "id": "130e85cb",
   "metadata": {},
   "outputs": [
    {
     "name": "stdout",
     "output_type": "stream",
     "text": [
      "{'Leia': '23', 'Luke': '23'}\n"
     ]
    }
   ],
   "source": [
    "subset=('Leia','Luke')\n",
    "swdict_subset= swdict_full.fromkeys(subset,'23') # Assign values to the subset\n",
    "print(swdict_subset)"
   ]
  },
  {
   "cell_type": "code",
   "execution_count": null,
   "id": "26515490",
   "metadata": {},
   "outputs": [],
   "source": [
    "swdict_subset['Luke']=30"
   ]
  },
  {
   "cell_type": "code",
   "execution_count": 13,
   "id": "45f8d926",
   "metadata": {},
   "outputs": [
    {
     "name": "stdout",
     "output_type": "stream",
     "text": [
      "dict_keys(['Luke', 'Leia', 'Hans Solo', 'Darth Vader', 'obi', 'Chewbacca'])\n"
     ]
    }
   ],
   "source": [
    "print(swdict_full.keys())"
   ]
  },
  {
   "cell_type": "code",
   "execution_count": 14,
   "id": "2512bc77",
   "metadata": {},
   "outputs": [
    {
     "name": "stdout",
     "output_type": "stream",
     "text": [
      "dict_values([23, 23, 36, 45, 57, 203])\n"
     ]
    }
   ],
   "source": [
    "print(swdict_full.values())"
   ]
  },
  {
   "cell_type": "code",
   "execution_count": 15,
   "id": "f5f371d1",
   "metadata": {},
   "outputs": [
    {
     "name": "stdout",
     "output_type": "stream",
     "text": [
      "{'Luke': 23, 'Leia': 23, 'Hans Solo': 36, 'Darth Vader': 45, 'obi': 57, 'Chewbacca': 203, 'Yoda': 900}\n"
     ]
    }
   ],
   "source": [
    "new_character={'Yoda':900}\n",
    "swdict_full.update(new_character) \n",
    "\n",
    "swdict_full.update({'Yoda':900}) \n",
    "\n",
    "print(swdict_full)"
   ]
  },
  {
   "cell_type": "markdown",
   "id": "3edfa5e6",
   "metadata": {},
   "source": [
    "## Dataframe in Pandas"
   ]
  },
  {
   "cell_type": "markdown",
   "id": "b5d7cba4",
   "metadata": {},
   "source": [
    "```\n",
    "Data Structure   Dimension   Description\n",
    "Series               1         1D array   (Homogeneous data, Size immutable, Value mutable)\n",
    "DataFrame            2         2D array - container of series (Hetegeneous, Size and Value mutable)\n",
    "Panel                3         3D array - container of DataFrame\n",
    "```"
   ]
  },
  {
   "cell_type": "code",
   "execution_count": 16,
   "id": "3eaab501",
   "metadata": {},
   "outputs": [],
   "source": [
    "import pandas as pd"
   ]
  },
  {
   "cell_type": "code",
   "execution_count": 17,
   "id": "ff0b4817",
   "metadata": {},
   "outputs": [
    {
     "name": "stdout",
     "output_type": "stream",
     "text": [
      "0         Luke\n",
      "1         Leia\n",
      "2    Hans Solo\n",
      "3    Chewbacca\n",
      "dtype: object\n"
     ]
    }
   ],
   "source": [
    "Names=['Luke','Leia','Hans Solo','Chewbacca']\n",
    "SW_series_names=pd.Series(Names)\n",
    "print(SW_series_names)"
   ]
  },
  {
   "cell_type": "code",
   "execution_count": 73,
   "id": "3ab0ded5",
   "metadata": {},
   "outputs": [
    {
     "data": {
      "text/plain": [
       "'Hans Solo'"
      ]
     },
     "execution_count": 73,
     "metadata": {},
     "output_type": "execute_result"
    }
   ],
   "source": [
    "SW_series_names[2]"
   ]
  },
  {
   "cell_type": "code",
   "execution_count": 18,
   "id": "6fc9d1ca",
   "metadata": {},
   "outputs": [
    {
     "name": "stdout",
     "output_type": "stream",
     "text": [
      "char-1         Luke\n",
      "char-2         Leia\n",
      "char-3    Hans Solo\n",
      "char-4    Chewbacca\n",
      "dtype: object\n"
     ]
    }
   ],
   "source": [
    "indices=['char-1','char-2','char-3','char-4']\n",
    "Names=['Luke','Leia','Hans Solo','Chewbacca']\n",
    "SW_series_names=pd.Series(Names,indices)\n",
    "print(SW_series_names)"
   ]
  },
  {
   "cell_type": "code",
   "execution_count": 74,
   "id": "4ec4d3f9",
   "metadata": {},
   "outputs": [
    {
     "data": {
      "text/plain": [
       "'Hans Solo'"
      ]
     },
     "execution_count": 74,
     "metadata": {},
     "output_type": "execute_result"
    }
   ],
   "source": [
    "SW_series_names[2]"
   ]
  },
  {
   "cell_type": "code",
   "execution_count": 19,
   "id": "047a52d6",
   "metadata": {},
   "outputs": [
    {
     "name": "stdout",
     "output_type": "stream",
     "text": [
      "char-1     23\n",
      "char-2     23\n",
      "char-3     36\n",
      "char-4    203\n",
      "dtype: int64\n"
     ]
    }
   ],
   "source": [
    "Ages=[23,23,36,203]\n",
    "SW_series_ages=pd.Series(Ages,indices)\n",
    "print(SW_series_ages)"
   ]
  },
  {
   "cell_type": "code",
   "execution_count": 20,
   "id": "9d166124",
   "metadata": {},
   "outputs": [
    {
     "name": "stdout",
     "output_type": "stream",
     "text": [
      "             Name  Age\n",
      "char-1       Luke   23\n",
      "char-2       Leia   23\n",
      "char-3  Hans Solo   36\n",
      "char-4  Chewbacca  203\n"
     ]
    }
   ],
   "source": [
    "Names=['Luke','Leia','Hans Solo','Chewbacca']\n",
    "SW_series_names=pd.Series(Names)\n",
    "\n",
    "Ages=[23,23,36,203]\n",
    "SW_series_ages=pd.Series(Ages)\n",
    "\n",
    "SW_df={'Name':SW_series_names, 'Age':SW_series_ages}\n",
    "SW_df=pd.DataFrame(SW_df)\n",
    "print(SW_df)"
   ]
  },
  {
   "cell_type": "markdown",
   "id": "f1ed1fa5",
   "metadata": {},
   "source": [
    "Here's another way to declare directly the dataframe."
   ]
  },
  {
   "cell_type": "code",
   "execution_count": 21,
   "id": "87bad018",
   "metadata": {},
   "outputs": [
    {
     "name": "stdout",
     "output_type": "stream",
     "text": [
      "             Name  Age\n",
      "char-1       Luke   23\n",
      "char-2       Leia   23\n",
      "char-3  Hans Solo   36\n",
      "char-4  Chewbacca  203\n"
     ]
    }
   ],
   "source": [
    "Names=['Luke','Leia','Hans Solo','Chewbacca']\n",
    "Ages=[23,23,36,203]\n",
    "\n",
    "indices=['char-1','char-2','char-3','char-4']\n",
    "\n",
    "SW_df={'Name':pd.Series(Names,indices), 'Age':pd.Series(Ages,indices)}\n",
    "SW_df=pd.DataFrame(SW_df)\n",
    "print(SW_df)"
   ]
  },
  {
   "cell_type": "markdown",
   "id": "0290e021",
   "metadata": {},
   "source": [
    "You can also use default indices that start with 0 for most purposes. "
   ]
  },
  {
   "cell_type": "code",
   "execution_count": 77,
   "id": "d871000c",
   "metadata": {},
   "outputs": [
    {
     "name": "stdout",
     "output_type": "stream",
     "text": [
      "        Name  Age\n",
      "0       Luke   23\n",
      "1       Leia   23\n",
      "2  Hans Solo   36\n",
      "3  Chewbacca  203\n"
     ]
    }
   ],
   "source": [
    "data=[['Luke',23],['Leia',23],['Hans Solo',36],['Chewbacca',203]]\n",
    "SW_df=pd.DataFrame(data,columns=['Name','Age'])\n",
    "print(SW_df)"
   ]
  },
  {
   "cell_type": "markdown",
   "id": "5e569b19",
   "metadata": {},
   "source": [
    "You can access the first entry using the row index `0`"
   ]
  },
  {
   "cell_type": "code",
   "execution_count": 80,
   "id": "a55d34ce",
   "metadata": {},
   "outputs": [
    {
     "name": "stdout",
     "output_type": "stream",
     "text": [
      "Name    Luke\n",
      "Age       23\n",
      "Name: 0, dtype: object\n"
     ]
    }
   ],
   "source": [
    "#SW_df[0] # won't work\n",
    "print(SW_df.loc[0])"
   ]
  },
  {
   "cell_type": "markdown",
   "id": "da4861a7",
   "metadata": {},
   "source": [
    "Again, you can use named indices if you wish."
   ]
  },
  {
   "cell_type": "code",
   "execution_count": 82,
   "id": "97ae07d9",
   "metadata": {},
   "outputs": [
    {
     "name": "stdout",
     "output_type": "stream",
     "text": [
      "             Name  Age\n",
      "char-1       Luke   23\n",
      "char-2       Leia   23\n",
      "char-3  Hans Solo   36\n",
      "char-4  Chewbacca  203\n"
     ]
    }
   ],
   "source": [
    "SW_df=pd.DataFrame(data,columns=['Name','Age'],index=['char-1','char-2','char-3','char-4'])\n",
    "print(SW_df)"
   ]
  },
  {
   "cell_type": "markdown",
   "id": "13ed5709",
   "metadata": {},
   "source": [
    "Now, if you want to query, you have to use the row's `named index`."
   ]
  },
  {
   "cell_type": "code",
   "execution_count": 83,
   "id": "8af13922",
   "metadata": {},
   "outputs": [
    {
     "name": "stdout",
     "output_type": "stream",
     "text": [
      "Name    Luke\n",
      "Age       23\n",
      "Name: char-1, dtype: object\n"
     ]
    }
   ],
   "source": [
    "print(SW_df.loc['char-1'])"
   ]
  },
  {
   "cell_type": "markdown",
   "id": "1c310755",
   "metadata": {},
   "source": [
    "For non-string columns, you can do quick statistics with the `describe` function."
   ]
  },
  {
   "cell_type": "code",
   "execution_count": 84,
   "id": "e63f12d8",
   "metadata": {},
   "outputs": [
    {
     "data": {
      "text/html": [
       "<div>\n",
       "<style scoped>\n",
       "    .dataframe tbody tr th:only-of-type {\n",
       "        vertical-align: middle;\n",
       "    }\n",
       "\n",
       "    .dataframe tbody tr th {\n",
       "        vertical-align: top;\n",
       "    }\n",
       "\n",
       "    .dataframe thead th {\n",
       "        text-align: right;\n",
       "    }\n",
       "</style>\n",
       "<table border=\"1\" class=\"dataframe\">\n",
       "  <thead>\n",
       "    <tr style=\"text-align: right;\">\n",
       "      <th></th>\n",
       "      <th>Age</th>\n",
       "    </tr>\n",
       "  </thead>\n",
       "  <tbody>\n",
       "    <tr>\n",
       "      <th>count</th>\n",
       "      <td>4.000000</td>\n",
       "    </tr>\n",
       "    <tr>\n",
       "      <th>mean</th>\n",
       "      <td>71.250000</td>\n",
       "    </tr>\n",
       "    <tr>\n",
       "      <th>std</th>\n",
       "      <td>88.046863</td>\n",
       "    </tr>\n",
       "    <tr>\n",
       "      <th>min</th>\n",
       "      <td>23.000000</td>\n",
       "    </tr>\n",
       "    <tr>\n",
       "      <th>25%</th>\n",
       "      <td>23.000000</td>\n",
       "    </tr>\n",
       "    <tr>\n",
       "      <th>50%</th>\n",
       "      <td>29.500000</td>\n",
       "    </tr>\n",
       "    <tr>\n",
       "      <th>75%</th>\n",
       "      <td>77.750000</td>\n",
       "    </tr>\n",
       "    <tr>\n",
       "      <th>max</th>\n",
       "      <td>203.000000</td>\n",
       "    </tr>\n",
       "  </tbody>\n",
       "</table>\n",
       "</div>"
      ],
      "text/plain": [
       "              Age\n",
       "count    4.000000\n",
       "mean    71.250000\n",
       "std     88.046863\n",
       "min     23.000000\n",
       "25%     23.000000\n",
       "50%     29.500000\n",
       "75%     77.750000\n",
       "max    203.000000"
      ]
     },
     "execution_count": 84,
     "metadata": {},
     "output_type": "execute_result"
    }
   ],
   "source": [
    "SW_df.describe()"
   ]
  },
  {
   "cell_type": "markdown",
   "id": "479d2390",
   "metadata": {},
   "source": [
    "For fun, let's add one more column."
   ]
  },
  {
   "cell_type": "code",
   "execution_count": 85,
   "id": "65bb44a6",
   "metadata": {},
   "outputs": [
    {
     "name": "stdout",
     "output_type": "stream",
     "text": [
      "             Name  Age  Popularity\n",
      "char-1       Luke   23           6\n",
      "char-2       Leia   23           9\n",
      "char-3  Hans Solo   36           9\n",
      "char-4  Chewbacca  203           8\n"
     ]
    }
   ],
   "source": [
    "SW_df['Popularity']=[6,9,9,8]\n",
    "print(SW_df)"
   ]
  },
  {
   "cell_type": "code",
   "execution_count": 86,
   "id": "b16bf53b",
   "metadata": {},
   "outputs": [
    {
     "data": {
      "text/html": [
       "<div>\n",
       "<style scoped>\n",
       "    .dataframe tbody tr th:only-of-type {\n",
       "        vertical-align: middle;\n",
       "    }\n",
       "\n",
       "    .dataframe tbody tr th {\n",
       "        vertical-align: top;\n",
       "    }\n",
       "\n",
       "    .dataframe thead th {\n",
       "        text-align: right;\n",
       "    }\n",
       "</style>\n",
       "<table border=\"1\" class=\"dataframe\">\n",
       "  <thead>\n",
       "    <tr style=\"text-align: right;\">\n",
       "      <th></th>\n",
       "      <th>Age</th>\n",
       "      <th>Popularity</th>\n",
       "    </tr>\n",
       "  </thead>\n",
       "  <tbody>\n",
       "    <tr>\n",
       "      <th>count</th>\n",
       "      <td>4.000000</td>\n",
       "      <td>4.000000</td>\n",
       "    </tr>\n",
       "    <tr>\n",
       "      <th>mean</th>\n",
       "      <td>71.250000</td>\n",
       "      <td>8.000000</td>\n",
       "    </tr>\n",
       "    <tr>\n",
       "      <th>std</th>\n",
       "      <td>88.046863</td>\n",
       "      <td>1.414214</td>\n",
       "    </tr>\n",
       "    <tr>\n",
       "      <th>min</th>\n",
       "      <td>23.000000</td>\n",
       "      <td>6.000000</td>\n",
       "    </tr>\n",
       "    <tr>\n",
       "      <th>25%</th>\n",
       "      <td>23.000000</td>\n",
       "      <td>7.500000</td>\n",
       "    </tr>\n",
       "    <tr>\n",
       "      <th>50%</th>\n",
       "      <td>29.500000</td>\n",
       "      <td>8.500000</td>\n",
       "    </tr>\n",
       "    <tr>\n",
       "      <th>75%</th>\n",
       "      <td>77.750000</td>\n",
       "      <td>9.000000</td>\n",
       "    </tr>\n",
       "    <tr>\n",
       "      <th>max</th>\n",
       "      <td>203.000000</td>\n",
       "      <td>9.000000</td>\n",
       "    </tr>\n",
       "  </tbody>\n",
       "</table>\n",
       "</div>"
      ],
      "text/plain": [
       "              Age  Popularity\n",
       "count    4.000000    4.000000\n",
       "mean    71.250000    8.000000\n",
       "std     88.046863    1.414214\n",
       "min     23.000000    6.000000\n",
       "25%     23.000000    7.500000\n",
       "50%     29.500000    8.500000\n",
       "75%     77.750000    9.000000\n",
       "max    203.000000    9.000000"
      ]
     },
     "execution_count": 86,
     "metadata": {},
     "output_type": "execute_result"
    }
   ],
   "source": [
    "SW_df.describe()"
   ]
  },
  {
   "cell_type": "code",
   "execution_count": 88,
   "id": "e6b66f1b",
   "metadata": {},
   "outputs": [
    {
     "data": {
      "text/html": [
       "<div>\n",
       "<style scoped>\n",
       "    .dataframe tbody tr th:only-of-type {\n",
       "        vertical-align: middle;\n",
       "    }\n",
       "\n",
       "    .dataframe tbody tr th {\n",
       "        vertical-align: top;\n",
       "    }\n",
       "\n",
       "    .dataframe thead th {\n",
       "        text-align: right;\n",
       "    }\n",
       "</style>\n",
       "<table border=\"1\" class=\"dataframe\">\n",
       "  <thead>\n",
       "    <tr style=\"text-align: right;\">\n",
       "      <th></th>\n",
       "      <th>Name</th>\n",
       "      <th>Age</th>\n",
       "      <th>Popularity</th>\n",
       "    </tr>\n",
       "  </thead>\n",
       "  <tbody>\n",
       "    <tr>\n",
       "      <th>char-1</th>\n",
       "      <td>Luke</td>\n",
       "      <td>23</td>\n",
       "      <td>6</td>\n",
       "    </tr>\n",
       "    <tr>\n",
       "      <th>char-2</th>\n",
       "      <td>Leia</td>\n",
       "      <td>23</td>\n",
       "      <td>9</td>\n",
       "    </tr>\n",
       "    <tr>\n",
       "      <th>char-3</th>\n",
       "      <td>Hans Solo</td>\n",
       "      <td>36</td>\n",
       "      <td>9</td>\n",
       "    </tr>\n",
       "    <tr>\n",
       "      <th>char-4</th>\n",
       "      <td>Chewbacca</td>\n",
       "      <td>203</td>\n",
       "      <td>8</td>\n",
       "    </tr>\n",
       "  </tbody>\n",
       "</table>\n",
       "</div>"
      ],
      "text/plain": [
       "             Name  Age  Popularity\n",
       "char-1       Luke   23           6\n",
       "char-2       Leia   23           9\n",
       "char-3  Hans Solo   36           9\n",
       "char-4  Chewbacca  203           8"
      ]
     },
     "execution_count": 88,
     "metadata": {},
     "output_type": "execute_result"
    }
   ],
   "source": [
    "SW_df.head()"
   ]
  },
  {
   "cell_type": "code",
   "execution_count": 89,
   "id": "32b24d97",
   "metadata": {},
   "outputs": [
    {
     "data": {
      "text/html": [
       "<div>\n",
       "<style scoped>\n",
       "    .dataframe tbody tr th:only-of-type {\n",
       "        vertical-align: middle;\n",
       "    }\n",
       "\n",
       "    .dataframe tbody tr th {\n",
       "        vertical-align: top;\n",
       "    }\n",
       "\n",
       "    .dataframe thead th {\n",
       "        text-align: right;\n",
       "    }\n",
       "</style>\n",
       "<table border=\"1\" class=\"dataframe\">\n",
       "  <thead>\n",
       "    <tr style=\"text-align: right;\">\n",
       "      <th></th>\n",
       "      <th>Name</th>\n",
       "      <th>Age</th>\n",
       "      <th>Popularity</th>\n",
       "    </tr>\n",
       "  </thead>\n",
       "  <tbody>\n",
       "    <tr>\n",
       "      <th>char-1</th>\n",
       "      <td>Luke</td>\n",
       "      <td>23</td>\n",
       "      <td>6</td>\n",
       "    </tr>\n",
       "    <tr>\n",
       "      <th>char-2</th>\n",
       "      <td>Leia</td>\n",
       "      <td>23</td>\n",
       "      <td>9</td>\n",
       "    </tr>\n",
       "    <tr>\n",
       "      <th>char-3</th>\n",
       "      <td>Hans Solo</td>\n",
       "      <td>36</td>\n",
       "      <td>9</td>\n",
       "    </tr>\n",
       "    <tr>\n",
       "      <th>char-4</th>\n",
       "      <td>Chewbacca</td>\n",
       "      <td>203</td>\n",
       "      <td>8</td>\n",
       "    </tr>\n",
       "  </tbody>\n",
       "</table>\n",
       "</div>"
      ],
      "text/plain": [
       "             Name  Age  Popularity\n",
       "char-1       Luke   23           6\n",
       "char-2       Leia   23           9\n",
       "char-3  Hans Solo   36           9\n",
       "char-4  Chewbacca  203           8"
      ]
     },
     "execution_count": 89,
     "metadata": {},
     "output_type": "execute_result"
    }
   ],
   "source": [
    "SW_df.tail()"
   ]
  },
  {
   "cell_type": "code",
   "execution_count": 90,
   "id": "f1e8fd06",
   "metadata": {},
   "outputs": [
    {
     "data": {
      "text/plain": [
       "Name          4\n",
       "Age           4\n",
       "Popularity    4\n",
       "dtype: int64"
      ]
     },
     "execution_count": 90,
     "metadata": {},
     "output_type": "execute_result"
    }
   ],
   "source": [
    "SW_df.count()"
   ]
  },
  {
   "cell_type": "markdown",
   "id": "96d13a77",
   "metadata": {},
   "source": [
    "The `corr` function lets you calculate the Pearson correlation between numerical columns."
   ]
  },
  {
   "cell_type": "code",
   "execution_count": 29,
   "id": "b0d78819",
   "metadata": {},
   "outputs": [
    {
     "data": {
      "text/html": [
       "<div>\n",
       "<style scoped>\n",
       "    .dataframe tbody tr th:only-of-type {\n",
       "        vertical-align: middle;\n",
       "    }\n",
       "\n",
       "    .dataframe tbody tr th {\n",
       "        vertical-align: top;\n",
       "    }\n",
       "\n",
       "    .dataframe thead th {\n",
       "        text-align: right;\n",
       "    }\n",
       "</style>\n",
       "<table border=\"1\" class=\"dataframe\">\n",
       "  <thead>\n",
       "    <tr style=\"text-align: right;\">\n",
       "      <th></th>\n",
       "      <th>Age</th>\n",
       "      <th>Popularity</th>\n",
       "    </tr>\n",
       "  </thead>\n",
       "  <tbody>\n",
       "    <tr>\n",
       "      <th>Age</th>\n",
       "      <td>1.000000</td>\n",
       "      <td>0.034801</td>\n",
       "    </tr>\n",
       "    <tr>\n",
       "      <th>Popularity</th>\n",
       "      <td>0.034801</td>\n",
       "      <td>1.000000</td>\n",
       "    </tr>\n",
       "  </tbody>\n",
       "</table>\n",
       "</div>"
      ],
      "text/plain": [
       "                 Age  Popularity\n",
       "Age         1.000000    0.034801\n",
       "Popularity  0.034801    1.000000"
      ]
     },
     "execution_count": 29,
     "metadata": {},
     "output_type": "execute_result"
    }
   ],
   "source": [
    "SW_df.corr()"
   ]
  },
  {
   "cell_type": "markdown",
   "id": "7b36cef3",
   "metadata": {},
   "source": [
    "The output is a matrix, called the `correlation matrix`. A value of `1.0` for the off-diagonal elements means, there is perfect correlation between the columns. For a small dataset such as this, one would consider a value of `> 0.9` to be a good correlation. In any case, what we learn from a small value of `0.034` is that `Age` and `Popularity` do not correlate at all!"
   ]
  },
  {
   "cell_type": "markdown",
   "id": "7088fae8",
   "metadata": {},
   "source": [
    "If you want to learn more about the formula/algorithm used for determining the correlation matrix, then you will have to go through the manual page [https://pandas.pydata.org/docs/reference/api/pandas.DataFrame.corr.html](https://pandas.pydata.org/docs/reference/api/pandas.DataFrame.corr.html).\n",
    "\n",
    "The default method to determine the correlation matrix is using the Pearson method, which is easy to code ourselves. So let's see what's under the hood! The elements of the correlation matrix is defined as $\\rho_{X,Y}=\\frac{{\\rm cov}(X,Y)}{\\sigma_{X}\\sigma_{Y}}$, where is $X$ and $Y$ are two columns of the dataframe. The following code clarifies the meaning of each term in the formula."
   ]
  },
  {
   "cell_type": "code",
   "execution_count": 30,
   "id": "6511e938",
   "metadata": {},
   "outputs": [
    {
     "name": "stdout",
     "output_type": "stream",
     "text": [
      "71.25 76.25081966772554\n",
      "8.0 1.224744871391589\n",
      "0.0348011195103034\n"
     ]
    }
   ],
   "source": [
    "import numpy as np\n",
    "\n",
    "x=np.array(SW_df['Age'])\n",
    "y=np.array(SW_df['Popularity'])\n",
    "\n",
    "mu_x=np.mean(x)       # mean\n",
    "sigma_x=np.std(x)     # std. deviation\n",
    "print(mu_x,sigma_x)\n",
    "\n",
    "mu_y=np.mean(y)       # mean\n",
    "sigma_y=np.std(y)     # std. deviation\n",
    "print(mu_y,sigma_y)\n",
    "\n",
    "covariance=np.mean( (x-mu_x) * (y-mu_y) )\n",
    "correlation=covariance/(sigma_x*sigma_y)\n",
    "\n",
    "print(correlation)"
   ]
  },
  {
   "cell_type": "markdown",
   "id": "cb122279",
   "metadata": {},
   "source": [
    "A very common function to use with dataframes is to quickly have a glance at the histrogram of values."
   ]
  },
  {
   "cell_type": "code",
   "execution_count": 91,
   "id": "b4fb538e",
   "metadata": {},
   "outputs": [
    {
     "data": {
      "text/plain": [
       "<AxesSubplot:ylabel='Frequency'>"
      ]
     },
     "execution_count": 91,
     "metadata": {},
     "output_type": "execute_result"
    },
    {
     "data": {
      "image/png": "[encoded data removed]",
      "text/plain": [
       "<Figure size 640x480 with 1 Axes>"
      ]
     },
     "metadata": {},
     "output_type": "display_data"
    }
   ],
   "source": [
    "SW_df.plot.hist(bins=200, alpha=1.0)"
   ]
  },
  {
   "cell_type": "markdown",
   "id": "a6309faa",
   "metadata": {},
   "source": [
    "There's a cool way to make pairwise scatter plots of all the columns (we'll later call each column as a feature). "
   ]
  },
  {
   "cell_type": "code",
   "execution_count": 32,
   "id": "0b907b08",
   "metadata": {},
   "outputs": [
    {
     "data": {
      "image/png": "[encoded data removed]",
      "text/plain": [
       "<Figure size 500x500 with 4 Axes>"
      ]
     },
     "metadata": {},
     "output_type": "display_data"
    }
   ],
   "source": [
    "from pandas.plotting import scatter_matrix\n",
    "scatter_matrix(SW_df, alpha=1.0, figsize=(5, 5));"
   ]
  },
  {
   "cell_type": "code",
   "execution_count": 33,
   "id": "f323b301",
   "metadata": {},
   "outputs": [
    {
     "data": {
      "image/png": "[encoded data removed]",
      "text/plain": [
       "<Figure size 500x500 with 4 Axes>"
      ]
     },
     "metadata": {},
     "output_type": "display_data"
    }
   ],
   "source": [
    "scatter_matrix(SW_df, alpha=1.0, figsize=(5, 5), diagonal=\"kde\");"
   ]
  },
  {
   "cell_type": "markdown",
   "id": "2679ee04",
   "metadata": {},
   "source": [
    "Since, in the scatterplot, we do not see points coinciding with the $y=x$ line, we have conclude that the two features `Age` and `Popularity` are not correlated."
   ]
  },
  {
   "cell_type": "markdown",
   "id": "3ed4cd02",
   "metadata": {},
   "source": [
    "## Write a csv file and read it as a dataframe"
   ]
  },
  {
   "cell_type": "code",
   "execution_count": 94,
   "id": "a1d36e34",
   "metadata": {},
   "outputs": [
    {
     "name": "stdout",
     "output_type": "stream",
     "text": [
      "CSV file created\n"
     ]
    }
   ],
   "source": [
    "data = {\n",
    "    'Name': ['Luke','Leia','Hans Solo','Chewbacca'],\n",
    "    'Age': [23,23,36,203],\n",
    "    'City': ['New York', 'Los Angeles', 'Chicago','Kashyyyk']\n",
    "}\n",
    "\n",
    "indexname=['1','2']\n",
    "df = pd.DataFrame(data,index=indexnname)\n",
    "\n",
    "# Writing DataFrame to a CSV file\n",
    "df.to_csv('people.csv', index=False)\n",
    "\n",
    "print(\"CSV file created\")"
   ]
  },
  {
   "cell_type": "code",
   "execution_count": 35,
   "id": "91e8ee74",
   "metadata": {},
   "outputs": [
    {
     "name": "stdout",
     "output_type": "stream",
     "text": [
      "        Name  Age         City\n",
      "0       Luke   23     New York\n",
      "1       Leia   23  Los Angeles\n",
      "2  Hans Solo   36      Chicago\n",
      "3  Chewbacca  203     Kashyyyk\n"
     ]
    }
   ],
   "source": [
    "df_read = pd.read_csv('people.csv')\n",
    "\n",
    "print(df_read)"
   ]
  },
  {
   "cell_type": "code",
   "execution_count": 36,
   "id": "960e9263",
   "metadata": {},
   "outputs": [
    {
     "data": {
      "text/plain": [
       "0         Luke\n",
       "1         Leia\n",
       "2    Hans Solo\n",
       "3    Chewbacca\n",
       "Name: Name, dtype: object"
      ]
     },
     "execution_count": 36,
     "metadata": {},
     "output_type": "execute_result"
    }
   ],
   "source": [
    "df_read.loc[:,'Name'] # print the first column using name with the loc attribute"
   ]
  },
  {
   "cell_type": "markdown",
   "id": "5865e180",
   "metadata": {},
   "source": [
    "### No header"
   ]
  },
  {
   "cell_type": "code",
   "execution_count": 37,
   "id": "0a32d36c",
   "metadata": {},
   "outputs": [
    {
     "name": "stdout",
     "output_type": "stream",
     "text": [
      "CSV file created\n"
     ]
    }
   ],
   "source": [
    "data = {\n",
    "    'Name': ['Luke','Leia','Hans Solo','Chewbacca'],\n",
    "    'Age': [23,23,36,203],\n",
    "    'City': ['New York', 'Los Angeles', 'Chicago','Kashyyyk']\n",
    "}\n",
    "\n",
    "\n",
    "df = pd.DataFrame(data)\n",
    "\n",
    "# Writing DataFrame to a CSV file\n",
    "df.to_csv('people.csv', index=False, header=None)\n",
    "\n",
    "print(\"CSV file created\")"
   ]
  },
  {
   "cell_type": "code",
   "execution_count": 38,
   "id": "de3922e9",
   "metadata": {},
   "outputs": [
    {
     "name": "stdout",
     "output_type": "stream",
     "text": [
      "           0    1            2\n",
      "0       Luke   23     New York\n",
      "1       Leia   23  Los Angeles\n",
      "2  Hans Solo   36      Chicago\n",
      "3  Chewbacca  203     Kashyyyk\n"
     ]
    }
   ],
   "source": [
    "df_read = pd.read_csv('people.csv',header=None)\n",
    "\n",
    "print(df_read)"
   ]
  },
  {
   "cell_type": "code",
   "execution_count": 39,
   "id": "6ba3d772",
   "metadata": {},
   "outputs": [
    {
     "data": {
      "text/plain": [
       "0         Luke\n",
       "1         Leia\n",
       "2    Hans Solo\n",
       "3    Chewbacca\n",
       "Name: 0, dtype: object"
      ]
     },
     "execution_count": 39,
     "metadata": {},
     "output_type": "execute_result"
    }
   ],
   "source": [
    "df_read.iloc[:,0] # print the first column with the iloc attribute"
   ]
  },
  {
   "cell_type": "code",
   "execution_count": 40,
   "id": "700f1234",
   "metadata": {},
   "outputs": [
    {
     "data": {
      "text/plain": [
       "0     23\n",
       "1     23\n",
       "2     36\n",
       "3    203\n",
       "Name: 1, dtype: int64"
      ]
     },
     "execution_count": 40,
     "metadata": {},
     "output_type": "execute_result"
    }
   ],
   "source": [
    "df_read.iloc[:,1] # print the second column"
   ]
  },
  {
   "cell_type": "markdown",
   "id": "e5ec4efd",
   "metadata": {},
   "source": [
    "## Handling missing data"
   ]
  },
  {
   "cell_type": "code",
   "execution_count": 41,
   "id": "76b2257e",
   "metadata": {},
   "outputs": [],
   "source": [
    "data = {\n",
    "    'Name': ['Luke', 'Leia', 'Hans Solo', 'Chewbacca'],\n",
    "    'Age': [23, np.nan, 36, 203],  # Leia's Age is missing, \n",
    "    'City': ['New York', 'Los Angeles', np.nan, 'Kashyyyk']  # Hans Solo's City is missing\n",
    "}"
   ]
  },
  {
   "cell_type": "markdown",
   "id": "ec112ac2",
   "metadata": {},
   "source": [
    "If we have read the data from a csv file with some values missing, then Pandas will convert them `np.nan`"
   ]
  },
  {
   "cell_type": "code",
   "execution_count": 42,
   "id": "e342dbc4",
   "metadata": {},
   "outputs": [
    {
     "name": "stdout",
     "output_type": "stream",
     "text": [
      "Original DataFrame with missing values:\n",
      "        Name    Age         City\n",
      "0       Luke   23.0     New York\n",
      "1       Leia    NaN  Los Angeles\n",
      "2  Hans Solo   36.0          NaN\n",
      "3  Chewbacca  203.0     Kashyyyk\n"
     ]
    }
   ],
   "source": [
    "df = pd.DataFrame(data)\n",
    "\n",
    "print(\"Original DataFrame with missing values:\")\n",
    "print(df)"
   ]
  },
  {
   "cell_type": "code",
   "execution_count": 43,
   "id": "dea70cf3",
   "metadata": {},
   "outputs": [],
   "source": [
    "df.to_csv('people.csv', index=False, header=None) # check the file"
   ]
  },
  {
   "cell_type": "code",
   "execution_count": 44,
   "id": "10eb8c3a",
   "metadata": {},
   "outputs": [
    {
     "name": "stdout",
     "output_type": "stream",
     "text": [
      "    Name    Age   City\n",
      "0  False  False  False\n",
      "1  False   True  False\n",
      "2  False  False   True\n",
      "3  False  False  False\n",
      "Name    0\n",
      "Age     1\n",
      "City    1\n",
      "dtype: int64\n"
     ]
    }
   ],
   "source": [
    "print(df.isna())  # Shows True where values are missing\n",
    "print(df.isna().sum())  # Counts missing values per column"
   ]
  },
  {
   "cell_type": "markdown",
   "id": "177c3bc6",
   "metadata": {},
   "source": [
    "### Drop the rows with missing entries"
   ]
  },
  {
   "cell_type": "code",
   "execution_count": 45,
   "id": "e96063f9",
   "metadata": {},
   "outputs": [
    {
     "name": "stdout",
     "output_type": "stream",
     "text": [
      "        Name    Age      City\n",
      "0       Luke   23.0  New York\n",
      "3  Chewbacca  203.0  Kashyyyk\n"
     ]
    }
   ],
   "source": [
    "df_cleaned = df.dropna()\n",
    "print(df_cleaned)"
   ]
  },
  {
   "cell_type": "markdown",
   "id": "f4c65c63",
   "metadata": {},
   "source": [
    "## Forward fill"
   ]
  },
  {
   "cell_type": "code",
   "execution_count": 46,
   "id": "f8a1a0a0",
   "metadata": {},
   "outputs": [],
   "source": [
    "data = {\n",
    "    'Name': ['Luke', 'Leia', 'Hans Solo', 'Chewbacca'],\n",
    "    'Age': [23, np.nan, 36, 203],  # Leia's Age is missing, \n",
    "    'City': ['New York', 'Los Angeles', np.nan, 'Kashyyyk']  # Hans Solo's City is missing\n",
    "}\n",
    "\n",
    "df = pd.DataFrame(data)"
   ]
  },
  {
   "cell_type": "code",
   "execution_count": 47,
   "id": "adf07616",
   "metadata": {},
   "outputs": [
    {
     "name": "stdout",
     "output_type": "stream",
     "text": [
      "        Name    Age         City\n",
      "0       Luke   23.0     New York\n",
      "1       Leia   23.0  Los Angeles\n",
      "2  Hans Solo   36.0  Los Angeles\n",
      "3  Chewbacca  203.0     Kashyyyk\n"
     ]
    }
   ],
   "source": [
    "df_ffill = df.fillna(method='ffill')  # Fills missing values with previous row\n",
    "\n",
    "print(df_ffill)"
   ]
  },
  {
   "cell_type": "markdown",
   "id": "80c2ca80",
   "metadata": {},
   "source": [
    "### Backward fill"
   ]
  },
  {
   "cell_type": "code",
   "execution_count": 48,
   "id": "24ddf89f",
   "metadata": {},
   "outputs": [
    {
     "name": "stdout",
     "output_type": "stream",
     "text": [
      "        Name    Age         City\n",
      "0       Luke   23.0     New York\n",
      "1       Leia   36.0  Los Angeles\n",
      "2  Hans Solo   36.0     Kashyyyk\n",
      "3  Chewbacca  203.0     Kashyyyk\n"
     ]
    }
   ],
   "source": [
    "df_ffill = df.fillna(method='bfill')  # Fills missing values with previous row\n",
    "\n",
    "print(df_ffill)"
   ]
  },
  {
   "cell_type": "markdown",
   "id": "7d5db998",
   "metadata": {},
   "source": [
    "### Fill missing entries with specific values"
   ]
  },
  {
   "cell_type": "code",
   "execution_count": 49,
   "id": "2595ab20",
   "metadata": {},
   "outputs": [
    {
     "name": "stdout",
     "output_type": "stream",
     "text": [
      "        Name    Age         City\n",
      "0       Luke   23.0     New York\n",
      "1       Leia   20.0  Los Angeles\n",
      "2  Hans Solo   36.0      Nowhere\n",
      "3  Chewbacca  203.0     Kashyyyk\n"
     ]
    }
   ],
   "source": [
    "df['Age'] = df['Age'].fillna(20)  # Fill only Age column\n",
    "df['City'] = df['City'].fillna('Nowhere')  # Fill City with \"Unknown\"\n",
    "\n",
    "print(df)"
   ]
  },
  {
   "cell_type": "markdown",
   "id": "c1a2129e",
   "metadata": {},
   "source": [
    "## Sorting and filtering"
   ]
  },
  {
   "cell_type": "code",
   "execution_count": 50,
   "id": "26e380d9",
   "metadata": {},
   "outputs": [
    {
     "name": "stdout",
     "output_type": "stream",
     "text": [
      "        Name    Age         City\n",
      "1       Leia   20.0  Los Angeles\n",
      "0       Luke   23.0     New York\n",
      "2  Hans Solo   36.0      Nowhere\n",
      "3  Chewbacca  203.0     Kashyyyk\n"
     ]
    }
   ],
   "source": [
    "sorted_df=df.sort_values(by='Age', ascending=True)\n",
    "print(sorted_df)"
   ]
  },
  {
   "cell_type": "code",
   "execution_count": 51,
   "id": "43736a28",
   "metadata": {},
   "outputs": [
    {
     "name": "stdout",
     "output_type": "stream",
     "text": [
      "        Name    Age      City\n",
      "2  Hans Solo   36.0   Nowhere\n",
      "3  Chewbacca  203.0  Kashyyyk\n"
     ]
    }
   ],
   "source": [
    "oldguys=df[df['Age'] > 25]\n",
    "print(oldguys)"
   ]
  },
  {
   "cell_type": "markdown",
   "id": "ab208271",
   "metadata": {},
   "source": [
    "### Sort and store in-place"
   ]
  },
  {
   "cell_type": "code",
   "execution_count": 52,
   "id": "80a62ae1",
   "metadata": {},
   "outputs": [
    {
     "name": "stdout",
     "output_type": "stream",
     "text": [
      "        Name    Age         City\n",
      "1       Leia   20.0  Los Angeles\n",
      "0       Luke   23.0     New York\n",
      "2  Hans Solo   36.0      Nowhere\n",
      "3  Chewbacca  203.0     Kashyyyk\n"
     ]
    }
   ],
   "source": [
    "df.sort_values(by='Age', ascending=True, inplace=True)\n",
    "print(df)"
   ]
  },
  {
   "cell_type": "code",
   "execution_count": 53,
   "id": "b38615c0",
   "metadata": {},
   "outputs": [
    {
     "name": "stdout",
     "output_type": "stream",
     "text": [
      "        Name    Age         City\n",
      "3  Chewbacca  203.0     Kashyyyk\n",
      "2  Hans Solo   36.0      Nowhere\n",
      "0       Luke   23.0     New York\n",
      "1       Leia   20.0  Los Angeles\n"
     ]
    }
   ],
   "source": [
    "df.sort_values(by='Age', ascending=False, inplace=True)\n",
    "print(df)"
   ]
  },
  {
   "cell_type": "markdown",
   "id": "8521a9ec",
   "metadata": {},
   "source": [
    "## Other functions"
   ]
  },
  {
   "cell_type": "code",
   "execution_count": 54,
   "id": "39d1490a",
   "metadata": {},
   "outputs": [
    {
     "data": {
      "text/html": [
       "<div>\n",
       "<style scoped>\n",
       "    .dataframe tbody tr th:only-of-type {\n",
       "        vertical-align: middle;\n",
       "    }\n",
       "\n",
       "    .dataframe tbody tr th {\n",
       "        vertical-align: top;\n",
       "    }\n",
       "\n",
       "    .dataframe thead th {\n",
       "        text-align: right;\n",
       "    }\n",
       "</style>\n",
       "<table border=\"1\" class=\"dataframe\">\n",
       "  <thead>\n",
       "    <tr style=\"text-align: right;\">\n",
       "      <th></th>\n",
       "      <th>Name</th>\n",
       "      <th>Age</th>\n",
       "      <th>Place</th>\n",
       "    </tr>\n",
       "  </thead>\n",
       "  <tbody>\n",
       "    <tr>\n",
       "      <th>3</th>\n",
       "      <td>Chewbacca</td>\n",
       "      <td>203.0</td>\n",
       "      <td>Kashyyyk</td>\n",
       "    </tr>\n",
       "    <tr>\n",
       "      <th>2</th>\n",
       "      <td>Hans Solo</td>\n",
       "      <td>36.0</td>\n",
       "      <td>Nowhere</td>\n",
       "    </tr>\n",
       "    <tr>\n",
       "      <th>0</th>\n",
       "      <td>Luke</td>\n",
       "      <td>23.0</td>\n",
       "      <td>New York</td>\n",
       "    </tr>\n",
       "    <tr>\n",
       "      <th>1</th>\n",
       "      <td>Leia</td>\n",
       "      <td>20.0</td>\n",
       "      <td>Los Angeles</td>\n",
       "    </tr>\n",
       "  </tbody>\n",
       "</table>\n",
       "</div>"
      ],
      "text/plain": [
       "        Name    Age        Place\n",
       "3  Chewbacca  203.0     Kashyyyk\n",
       "2  Hans Solo   36.0      Nowhere\n",
       "0       Luke   23.0     New York\n",
       "1       Leia   20.0  Los Angeles"
      ]
     },
     "execution_count": 54,
     "metadata": {},
     "output_type": "execute_result"
    }
   ],
   "source": [
    "df.rename(columns={'City': 'Place'})"
   ]
  },
  {
   "cell_type": "code",
   "execution_count": 55,
   "id": "11f40a1c",
   "metadata": {},
   "outputs": [
    {
     "data": {
      "text/plain": [
       "3    CHEWBACCA\n",
       "2    HANS SOLO\n",
       "0         LUKE\n",
       "1         LEIA\n",
       "Name: Name, dtype: object"
      ]
     },
     "execution_count": 55,
     "metadata": {},
     "output_type": "execute_result"
    }
   ],
   "source": [
    "df['Name'].str.upper()"
   ]
  },
  {
   "cell_type": "code",
   "execution_count": 56,
   "id": "019d00d2",
   "metadata": {},
   "outputs": [
    {
     "data": {
      "text/plain": [
       "3    chewbacca\n",
       "2    hans solo\n",
       "0         luke\n",
       "1         leia\n",
       "Name: Name, dtype: object"
      ]
     },
     "execution_count": 56,
     "metadata": {},
     "output_type": "execute_result"
    }
   ],
   "source": [
    "df['Name'].str.lower()"
   ]
  },
  {
   "cell_type": "markdown",
   "id": "c787f5ac",
   "metadata": {},
   "source": [
    "Suppose we want to increase the age by 1. We can do it using a function to increment the age and "
   ]
  },
  {
   "cell_type": "code",
   "execution_count": 57,
   "id": "264d3249",
   "metadata": {},
   "outputs": [
    {
     "name": "stdout",
     "output_type": "stream",
     "text": [
      "        Name    Age         City\n",
      "3  Chewbacca  204.0     Kashyyyk\n",
      "2  Hans Solo   37.0      Nowhere\n",
      "0       Luke   24.0     New York\n",
      "1       Leia   21.0  Los Angeles\n"
     ]
    }
   ],
   "source": [
    "df['Age'] = df['Age'].apply(lambda x: x + 1)\n",
    "print(df)"
   ]
  },
  {
   "cell_type": "markdown",
   "id": "a1ab601b",
   "metadata": {},
   "source": [
    "A lambda function is a one-line function in Python. It is useful for writing small, simple functions without defining them using def."
   ]
  },
  {
   "cell_type": "markdown",
   "id": "e5e57125",
   "metadata": {},
   "source": [
    "### Lambda function"
   ]
  },
  {
   "cell_type": "code",
   "execution_count": 58,
   "id": "2a61247c",
   "metadata": {},
   "outputs": [
    {
     "data": {
      "text/plain": [
       "4"
      ]
     },
     "execution_count": 58,
     "metadata": {},
     "output_type": "execute_result"
    }
   ],
   "source": [
    "add = lambda x, y: x + y\n",
    "\n",
    "add(1,3)"
   ]
  },
  {
   "cell_type": "markdown",
   "id": "1dd1c965",
   "metadata": {},
   "source": [
    "This does the same as\n",
    "```\n",
    "def add(x, y):\n",
    "    return x + y\n",
    "```"
   ]
  },
  {
   "cell_type": "markdown",
   "id": "e83cc4eb",
   "metadata": {},
   "source": [
    "### Multiple output with lambda"
   ]
  },
  {
   "cell_type": "code",
   "execution_count": 59,
   "id": "b68b8886",
   "metadata": {},
   "outputs": [
    {
     "name": "stdout",
     "output_type": "stream",
     "text": [
      "(8, 15)\n"
     ]
    }
   ],
   "source": [
    "sum_prod = lambda x, y: (x + y, x * y)\n",
    "\n",
    "result = sum_prod(5, 3)\n",
    "print(result)  \n"
   ]
  },
  {
   "cell_type": "markdown",
   "id": "8b24edf5",
   "metadata": {},
   "source": [
    "# Protein molecular weight problem using `Pandas`"
   ]
  },
  {
   "cell_type": "markdown",
   "id": "22a546da",
   "metadata": {},
   "source": [
    "Let's start with molecular weights of amino acids"
   ]
  },
  {
   "cell_type": "code",
   "execution_count": 60,
   "id": "5c7fdd93",
   "metadata": {},
   "outputs": [
    {
     "name": "stdout",
     "output_type": "stream",
     "text": [
      "{'A': 89.09, 'C': 121.16, 'D': 133.1, 'E': 147.13, 'F': 165.19, 'G': 75.07, 'H': 155.16, 'I': 131.17, 'K': 146.19, 'L': 131.17, 'M': 149.21, 'N': 132.12, 'P': 115.13, 'Q': 146.15, 'R': 174.2, 'S': 105.09, 'T': 119.12, 'V': 117.15, 'W': 204.23, 'Y': 181.19}\n"
     ]
    }
   ],
   "source": [
    "amino_acid_weights = {\n",
    "    'A': 89.09,  'C': 121.16, 'D': 133.10, 'E': 147.13, 'F': 165.19,\n",
    "    'G': 75.07,  'H': 155.16, 'I': 131.17, 'K': 146.19, 'L': 131.17,\n",
    "    'M': 149.21, 'N': 132.12, 'P': 115.13, 'Q': 146.15, 'R': 174.20,\n",
    "    'S': 105.09, 'T': 119.12, 'V': 117.15, 'W': 204.23, 'Y': 181.19\n",
    "}\n",
    "\n",
    "print(amino_acid_weights)"
   ]
  },
  {
   "cell_type": "markdown",
   "id": "2c22bdfb",
   "metadata": {},
   "source": [
    "Let's add full names as another attribute"
   ]
  },
  {
   "cell_type": "code",
   "execution_count": 61,
   "id": "61455003",
   "metadata": {},
   "outputs": [],
   "source": [
    "amino_acid_full_names = {\n",
    "    'A': 'Alanine', 'C': 'Cysteine', 'D': 'Aspartic Acid', 'E': 'Glutamic Acid', 'F': 'Phenylalanine',\n",
    "    'G': 'Glycine', 'H': 'Histidine', 'I': 'Isoleucine', 'K': 'Lysine', 'L': 'Leucine',\n",
    "    'M': 'Methionine', 'N': 'Asparagine', 'P': 'Proline', 'Q': 'Glutamine', 'R': 'Arginine',\n",
    "    'S': 'Serine', 'T': 'Threonine', 'V': 'Valine', 'W': 'Tryptophan', 'Y': 'Tyrosine'\n",
    "}"
   ]
  },
  {
   "cell_type": "code",
   "execution_count": 62,
   "id": "01bc18b0",
   "metadata": {},
   "outputs": [],
   "source": [
    "# Convert dictionary to DataFrame\n",
    "df = pd.DataFrame(list(amino_acid_weights.items()), columns=['Amino Acid', 'Molecular Weight'])\n",
    "\n",
    "# Add full name column\n",
    "# Since both dictionaries have same keys, we can map using the keys\n",
    "df['Full Name'] = df['Amino Acid'].map(amino_acid_full_names) "
   ]
  },
  {
   "cell_type": "code",
   "execution_count": 63,
   "id": "78b85984",
   "metadata": {},
   "outputs": [
    {
     "name": "stdout",
     "output_type": "stream",
     "text": [
      "CSV file 'amino_acids.csv' has been saved.\n",
      "   Amino Acid  Molecular Weight      Full Name\n",
      "0           A             89.09        Alanine\n",
      "1           C            121.16       Cysteine\n",
      "2           D            133.10  Aspartic Acid\n",
      "3           E            147.13  Glutamic Acid\n",
      "4           F            165.19  Phenylalanine\n",
      "5           G             75.07        Glycine\n",
      "6           H            155.16      Histidine\n",
      "7           I            131.17     Isoleucine\n",
      "8           K            146.19         Lysine\n",
      "9           L            131.17        Leucine\n",
      "10          M            149.21     Methionine\n",
      "11          N            132.12     Asparagine\n",
      "12          P            115.13        Proline\n",
      "13          Q            146.15      Glutamine\n",
      "14          R            174.20       Arginine\n",
      "15          S            105.09         Serine\n",
      "16          T            119.12      Threonine\n",
      "17          V            117.15         Valine\n",
      "18          W            204.23     Tryptophan\n",
      "19          Y            181.19       Tyrosine\n"
     ]
    }
   ],
   "source": [
    "# Save DataFrame as CSV\n",
    "df.to_csv('amino_acids.csv', index=False)\n",
    "\n",
    "print(\"CSV file 'amino_acids.csv' has been saved.\")\n",
    "print(df)"
   ]
  },
  {
   "cell_type": "markdown",
   "id": "4588cce4",
   "metadata": {},
   "source": [
    "Read the file"
   ]
  },
  {
   "cell_type": "code",
   "execution_count": 64,
   "id": "b5c5ba7c",
   "metadata": {},
   "outputs": [
    {
     "name": "stdout",
     "output_type": "stream",
     "text": [
      "  Amino Acid  Molecular Weight      Full Name\n",
      "0          A             89.09        Alanine\n",
      "1          C            121.16       Cysteine\n",
      "2          D            133.10  Aspartic Acid\n",
      "3          E            147.13  Glutamic Acid\n",
      "4          F            165.19  Phenylalanine\n"
     ]
    }
   ],
   "source": [
    "df = pd.read_csv('amino_acids.csv')\n",
    "print(df.head())  # Show the first few rows"
   ]
  },
  {
   "cell_type": "markdown",
   "id": "7ec29d8f",
   "metadata": {},
   "source": [
    "Sort by molecular weight"
   ]
  },
  {
   "cell_type": "code",
   "execution_count": 65,
   "id": "58f14214",
   "metadata": {},
   "outputs": [
    {
     "name": "stdout",
     "output_type": "stream",
     "text": [
      "   Amino Acid  Molecular Weight      Full Name\n",
      "5           G             75.07        Glycine\n",
      "0           A             89.09        Alanine\n",
      "15          S            105.09         Serine\n",
      "12          P            115.13        Proline\n",
      "17          V            117.15         Valine\n",
      "16          T            119.12      Threonine\n",
      "1           C            121.16       Cysteine\n",
      "9           L            131.17        Leucine\n",
      "7           I            131.17     Isoleucine\n",
      "11          N            132.12     Asparagine\n",
      "2           D            133.10  Aspartic Acid\n",
      "13          Q            146.15      Glutamine\n",
      "8           K            146.19         Lysine\n",
      "3           E            147.13  Glutamic Acid\n",
      "10          M            149.21     Methionine\n",
      "6           H            155.16      Histidine\n",
      "4           F            165.19  Phenylalanine\n",
      "14          R            174.20       Arginine\n",
      "19          Y            181.19       Tyrosine\n",
      "18          W            204.23     Tryptophan\n"
     ]
    }
   ],
   "source": [
    "df_sorted = df.sort_values(by='Molecular Weight', ascending=True)\n",
    "print(df_sorted)"
   ]
  },
  {
   "cell_type": "markdown",
   "id": "19460e35",
   "metadata": {},
   "source": [
    "Filter heavy amino acids"
   ]
  },
  {
   "cell_type": "code",
   "execution_count": 66,
   "id": "7502cc20",
   "metadata": {},
   "outputs": [
    {
     "name": "stdout",
     "output_type": "stream",
     "text": [
      "   Amino Acid  Molecular Weight      Full Name\n",
      "4           F            165.19  Phenylalanine\n",
      "6           H            155.16      Histidine\n",
      "14          R            174.20       Arginine\n",
      "18          W            204.23     Tryptophan\n",
      "19          Y            181.19       Tyrosine\n"
     ]
    }
   ],
   "source": [
    "df_heavy = df[df['Molecular Weight'] > 150]\n",
    "print(df_heavy)"
   ]
  },
  {
   "cell_type": "markdown",
   "id": "903e2eb4",
   "metadata": {},
   "source": [
    "Add another feature about polarity of the amino acids"
   ]
  },
  {
   "cell_type": "code",
   "execution_count": 67,
   "id": "55956173",
   "metadata": {},
   "outputs": [
    {
     "name": "stdout",
     "output_type": "stream",
     "text": [
      "   Amino Acid  Molecular Weight      Full Name Hydrophobicity\n",
      "0           A             89.09        Alanine       Nonpolar\n",
      "1           C            121.16       Cysteine       Nonpolar\n",
      "2           D            133.10  Aspartic Acid          Polar\n",
      "3           E            147.13  Glutamic Acid          Polar\n",
      "4           F            165.19  Phenylalanine       Nonpolar\n",
      "5           G             75.07        Glycine       Nonpolar\n",
      "6           H            155.16      Histidine          Polar\n",
      "7           I            131.17     Isoleucine       Nonpolar\n",
      "8           K            146.19         Lysine          Polar\n",
      "9           L            131.17        Leucine       Nonpolar\n",
      "10          M            149.21     Methionine       Nonpolar\n",
      "11          N            132.12     Asparagine          Polar\n",
      "12          P            115.13        Proline       Nonpolar\n",
      "13          Q            146.15      Glutamine          Polar\n",
      "14          R            174.20       Arginine          Polar\n",
      "15          S            105.09         Serine          Polar\n",
      "16          T            119.12      Threonine          Polar\n",
      "17          V            117.15         Valine       Nonpolar\n",
      "18          W            204.23     Tryptophan       Nonpolar\n",
      "19          Y            181.19       Tyrosine          Polar\n"
     ]
    }
   ],
   "source": [
    "# Hydrophobicity classification (simplified)\n",
    "hydrophobicity = {\n",
    "    'A': 'Nonpolar', 'C': 'Nonpolar', 'D': 'Polar', 'E': 'Polar', 'F': 'Nonpolar',\n",
    "    'G': 'Nonpolar', 'H': 'Polar', 'I': 'Nonpolar', 'K': 'Polar', 'L': 'Nonpolar',\n",
    "    'M': 'Nonpolar', 'N': 'Polar', 'P': 'Nonpolar', 'Q': 'Polar', 'R': 'Polar',\n",
    "    'S': 'Polar', 'T': 'Polar', 'V': 'Nonpolar', 'W': 'Nonpolar', 'Y': 'Polar'\n",
    "}\n",
    "\n",
    "df['Hydrophobicity'] = df['Amino Acid'].map(hydrophobicity)\n",
    "print(df)"
   ]
  },
  {
   "cell_type": "markdown",
   "id": "f38e9aaf",
   "metadata": {},
   "source": [
    "Let's count the polar and non polar aminoacids and group them."
   ]
  },
  {
   "cell_type": "code",
   "execution_count": 68,
   "id": "189e0e7e",
   "metadata": {},
   "outputs": [
    {
     "name": "stdout",
     "output_type": "stream",
     "text": [
      "                Count\n",
      "Hydrophobicity       \n",
      "Nonpolar           10\n",
      "Polar              10\n"
     ]
    }
   ],
   "source": [
    "# Count amino acids by hydrophobicity\n",
    "df_grouped = df.groupby('Hydrophobicity').count()[['Amino Acid']]\n",
    "df_grouped.rename(columns={'Amino Acid': 'Count'}, inplace=True)\n",
    "print(df_grouped)"
   ]
  },
  {
   "cell_type": "markdown",
   "id": "eb78b413",
   "metadata": {},
   "source": [
    "### Bar Plot of Molecular Weights\n"
   ]
  },
  {
   "cell_type": "code",
   "execution_count": 69,
   "id": "fd9ca0d4",
   "metadata": {},
   "outputs": [
    {
     "data": {
      "image/png": "[encoded data removed]",
      "text/plain": [
       "<Figure size 1200x600 with 1 Axes>"
      ]
     },
     "metadata": {},
     "output_type": "display_data"
    }
   ],
   "source": [
    "import matplotlib.pyplot as plt\n",
    "df.plot(kind='bar', x='Amino Acid', y='Molecular Weight', figsize=(12, 6), colormap='viridis', legend=False)\n",
    "plt.xlabel('Amino Acid')\n",
    "plt.ylabel('Molecular Weight (g/mol)')\n",
    "plt.title('Molecular Weights of Amino Acids')\n",
    "plt.xticks(rotation=45)\n",
    "\n",
    "plt.savefig('molecular_weights.png', dpi=300, bbox_inches='tight')  # Save as PNG with high resolution\n",
    "\n",
    "plt.show()"
   ]
  },
  {
   "cell_type": "markdown",
   "id": "ff05e004",
   "metadata": {},
   "source": [
    "### Histogram of Molecular Weights"
   ]
  },
  {
   "cell_type": "code",
   "execution_count": 70,
   "id": "4399d23d",
   "metadata": {},
   "outputs": [
    {
     "data": {
      "image/png": "[encoded data removed]",
      "text/plain": [
       "<Figure size 1000x500 with 1 Axes>"
      ]
     },
     "metadata": {},
     "output_type": "display_data"
    }
   ],
   "source": [
    "df['Molecular Weight'].plot(kind='hist', bins=10, alpha=0.7, color='teal', edgecolor='black', figsize=(10, 5))\n",
    "plt.xlabel('Molecular Weight (g/mol)')\n",
    "plt.ylabel('Frequency')\n",
    "plt.title('Distribution of Amino Acid Molecular Weights')\n",
    "\n",
    "plt.savefig('histrogram_molecular_weights.png', dpi=300, bbox_inches='tight')  # Save as PNG\n",
    "\n",
    "plt.show()"
   ]
  },
  {
   "cell_type": "markdown",
   "id": "ab696a91",
   "metadata": {},
   "source": [
    "### Count of Hydrophobicity Classes "
   ]
  },
  {
   "cell_type": "code",
   "execution_count": 71,
   "id": "673b2d66",
   "metadata": {},
   "outputs": [
    {
     "data": {
      "image/png": "[encoded data removed]",
      "text/plain": [
       "<Figure size 800x500 with 1 Axes>"
      ]
     },
     "metadata": {},
     "output_type": "display_data"
    }
   ],
   "source": [
    "df['Hydrophobicity'].value_counts().plot(kind='bar', color=['orange', 'blue'], figsize=(8, 5))\n",
    "plt.xlabel('Hydrophobicity Class')\n",
    "plt.ylabel('Count')\n",
    "plt.title('Hydrophobicity Classification of Amino Acids')\n",
    "plt.savefig('polarity.pdf', dpi=300, bbox_inches='tight')  # Save as PDF \n",
    "plt.show()\n"
   ]
  },
  {
   "cell_type": "markdown",
   "id": "4df90bc9",
   "metadata": {},
   "source": [
    "### Pie chart"
   ]
  },
  {
   "cell_type": "code",
   "execution_count": 72,
   "id": "2dbe74e7",
   "metadata": {},
   "outputs": [
    {
     "data": {
      "image/png": "[encoded data removed]",
      "text/plain": [
       "<Figure size 700x700 with 1 Axes>"
      ]
     },
     "metadata": {},
     "output_type": "display_data"
    }
   ],
   "source": [
    "hydrophobicity_counts = df['Hydrophobicity'].value_counts()\n",
    "\n",
    "# Create a pie chart\n",
    "plt.figure(figsize=(7, 7))\n",
    "hydrophobicity_counts.plot(kind='pie', autopct='%1.1f%%', startangle=140, colors=['orange', 'blue'])\n",
    "\n",
    "# Formatting\n",
    "plt.title('Polar vs. Non-polar Amino Acids')\n",
    "plt.ylabel('')  # Hide y-label for better visualization\n",
    "plt.savefig('Piechart.pdf', dpi=300, bbox_inches='tight')  \n",
    "plt.show()\n"
   ]
  },
  {
   "cell_type": "code",
   "execution_count": null,
   "id": "effb35c1",
   "metadata": {},
   "outputs": [],
   "source": []
  }
 ],
 "metadata": {
  "kernelspec": {
   "display_name": "Python 3 (ipykernel)",
   "language": "python",
   "name": "python3"
  },
  "language_info": {
   "codemirror_mode": {
    "name": "ipython",
    "version": 3
   },
   "file_extension": ".py",
   "mimetype": "text/x-python",
   "name": "python",
   "nbconvert_exporter": "python",
   "pygments_lexer": "ipython3",
   "version": "3.9.13"
  }
 },
 "nbformat": 4,
 "nbformat_minor": 5
}
